{
 "cells": [
  {
   "cell_type": "markdown",
   "id": "bc835063",
   "metadata": {},
   "source": [
    "# Проект \"Выбор локации для скважины\"\n"
   ]
  },
  {
   "cell_type": "markdown",
   "id": "fe855b2c",
   "metadata": {},
   "source": [
    "**Описание проекта:**\n",
    "\n",
    "**Заказчик проекта** - ГлавРосГосНефть. Ключевая потребность заказчика — нужно решить, где бурить новую скважину.\n",
    "\n",
    "**Цель проекта**\n",
    "- Построить модель для определения региона, где добыча принесёт наибольшую прибыль. \n",
    "\n",
    "\n",
    "**Источники данных:**\n",
    "Данные геологоразведки трёх регионов находятся в файлах: \n",
    "/datasets/geo_data_0.csv. Скачать датасет\n",
    "/datasets/geo_data_1.csv. Скачать датасет\n",
    "/datasets/geo_data_2.csv. Скачать датасет\n",
    "id — уникальный идентификатор скважины;\n",
    "f0, f1, f2 — три признака точек (неважно, что они означают, но сами признаки значимы);\n",
    "product — объём запасов в скважине (тыс. баррелей).\n",
    "\n",
    "\n",
    "**План проекта:**\n",
    "\n",
    "1. Загрузить и подготовить данные. Дополнительным шагом проведем EDA.\n",
    "\n",
    "2. Обучить и проверить модель для каждого региона:\n",
    " 2.1. Разбить данные на обучающую и валидационную выборки в соотношении 75:25.\n",
    " 2.2. Обучить модель и сделайте предсказания на валидационной выборке.\n",
    " 2.3. Сохранить предсказания и правильные ответы на валидационной выборке.\n",
    " 2.4. Отразить средний запас предсказанного сырья и RMSE модели.\n",
    " 2.5. Проанализировать результаты.\n",
    " \n",
    "3. Подготовить данные к расчету прибыли\n",
    " 3.1. Все ключевые значения для расчётов сохранить в отдельных переменных.\n",
    " 3.2. Рассчитать достаточный объём сырья для безубыточной разработки новой скважины. Сравнить полученный объём сырья со средним запасом в каждом регионе. \n",
    " 3.3. Сформулировать выводы по этапу подготовки расчёта прибыли.\n",
    " \n",
    "4. Написать функцию для расчёта прибыли по выбранным скважинам и предсказаниям модели:\n",
    " 4.1. Выбрать скважины с максимальными значениями предсказаний. \n",
    " 4.2. Просуммировать целевое значение объёма сырья, соответствующее этим предсказаниям.\n",
    " 4.3. Расчитать прибыль для полученного объёма сырья.\n",
    " \n",
    "5. Посчитать риски и прибыль для каждого региона:\n",
    " 5.1. Применить технику Bootstrap с 1000 выборок, чтобы найти распределение прибыли.\n",
    " 5.2. Найти среднюю прибыль, 95%-й доверительный интервал и риск убытков. Убыток — это отрицательная прибыль.\n",
    " 5.3. Сформулировать выводы: Предложить и обосновать регион для разработки скважин.\n",
    " \n",
    "**Заданные ограничения:**\n",
    "\n",
    "Для обучения модели подходит только линейная регрессия (остальные — недостаточно предсказуемые).\n",
    "При разведке региона исследуют 500 точек, из которых с помощью машинного обучения выбирают 200 лучших для разработки.\n",
    "Бюджет на разработку скважин в регионе — 10 млрд рублей.\n",
    "При нынешних ценах один баррель сырья приносит 450 рублей дохода. Доход с каждой единицы продукта составляет 450 тыс. рублей, поскольку объём указан в тысячах баррелей.\n",
    "После оценки рисков нужно оставить лишь те регионы, в которых вероятность убытков меньше 2.5%. Среди них выбирают регион с наибольшей средней прибылью."
   ]
  },
  {
   "cell_type": "markdown",
   "id": "82e39916",
   "metadata": {},
   "source": [
    "## Загрузка данных"
   ]
  },
  {
   "cell_type": "markdown",
   "id": "a05f392b",
   "metadata": {},
   "source": [
    "### Импорт окружения"
   ]
  },
  {
   "cell_type": "code",
   "execution_count": 1,
   "metadata": {},
   "outputs": [
    {
     "name": "stdout",
     "output_type": "stream",
     "text": [
      "Requirement already satisfied: yellowbrick in /opt/conda/lib/python3.9/site-packages (1.5)\n",
      "Requirement already satisfied: scikit-learn>=1.0.0 in /opt/conda/lib/python3.9/site-packages (from yellowbrick) (1.3.0)\n",
      "Requirement already satisfied: scipy>=1.0.0 in /opt/conda/lib/python3.9/site-packages (from yellowbrick) (1.9.1)\n",
      "Requirement already satisfied: cycler>=0.10.0 in /opt/conda/lib/python3.9/site-packages (from yellowbrick) (0.11.0)\n",
      "Requirement already satisfied: numpy>=1.16.0 in /opt/conda/lib/python3.9/site-packages (from yellowbrick) (1.21.1)\n",
      "Requirement already satisfied: matplotlib!=3.0.0,>=2.0.2 in /opt/conda/lib/python3.9/site-packages (from yellowbrick) (3.3.4)\n",
      "Requirement already satisfied: python-dateutil>=2.1 in /opt/conda/lib/python3.9/site-packages (from matplotlib!=3.0.0,>=2.0.2->yellowbrick) (2.8.1)\n",
      "Requirement already satisfied: kiwisolver>=1.0.1 in /opt/conda/lib/python3.9/site-packages (from matplotlib!=3.0.0,>=2.0.2->yellowbrick) (1.4.4)\n",
      "Requirement already satisfied: pyparsing!=2.0.4,!=2.1.2,!=2.1.6,>=2.0.3 in /opt/conda/lib/python3.9/site-packages (from matplotlib!=3.0.0,>=2.0.2->yellowbrick) (2.4.7)\n",
      "Requirement already satisfied: pillow>=6.2.0 in /opt/conda/lib/python3.9/site-packages (from matplotlib!=3.0.0,>=2.0.2->yellowbrick) (8.4.0)\n",
      "Requirement already satisfied: six>=1.5 in /opt/conda/lib/python3.9/site-packages (from python-dateutil>=2.1->matplotlib!=3.0.0,>=2.0.2->yellowbrick) (1.16.0)\n",
      "Requirement already satisfied: threadpoolctl>=2.0.0 in /opt/conda/lib/python3.9/site-packages (from scikit-learn>=1.0.0->yellowbrick) (3.1.0)\n",
      "Requirement already satisfied: joblib>=1.1.1 in /opt/conda/lib/python3.9/site-packages (from scikit-learn>=1.0.0->yellowbrick) (1.4.0)\n"
     ]
    }
   ],
   "source": [
    "!pip install yellowbrick"
   ]
  },
  {
   "cell_type": "code",
   "execution_count": 2,
   "metadata": {},
   "outputs": [
    {
     "name": "stdout",
     "output_type": "stream",
     "text": [
      "Requirement already satisfied: imbalanced-learn in /opt/conda/lib/python3.9/site-packages (0.12.2)\n",
      "Requirement already satisfied: joblib>=1.1.1 in /opt/conda/lib/python3.9/site-packages (from imbalanced-learn) (1.4.0)\n",
      "Requirement already satisfied: scipy>=1.5.0 in /opt/conda/lib/python3.9/site-packages (from imbalanced-learn) (1.9.1)\n",
      "Requirement already satisfied: threadpoolctl>=2.0.0 in /opt/conda/lib/python3.9/site-packages (from imbalanced-learn) (3.1.0)\n",
      "Requirement already satisfied: numpy>=1.17.3 in /opt/conda/lib/python3.9/site-packages (from imbalanced-learn) (1.21.1)\n",
      "Requirement already satisfied: scikit-learn>=1.0.2 in /opt/conda/lib/python3.9/site-packages (from imbalanced-learn) (1.3.0)\n",
      "Note: you may need to restart the kernel to use updated packages.\n"
     ]
    }
   ],
   "source": [
    "pip install imbalanced-learn"
   ]
  },
  {
   "cell_type": "code",
   "execution_count": 3,
   "metadata": {},
   "outputs": [
    {
     "name": "stdout",
     "output_type": "stream",
     "text": [
      "Requirement already satisfied: optuna-integration in /opt/conda/lib/python3.9/site-packages (3.6.0)\n",
      "Requirement already satisfied: optuna in /opt/conda/lib/python3.9/site-packages (from optuna-integration) (3.6.1)\n",
      "Requirement already satisfied: alembic>=1.5.0 in /opt/conda/lib/python3.9/site-packages (from optuna->optuna-integration) (1.6.5)\n",
      "Requirement already satisfied: numpy in /opt/conda/lib/python3.9/site-packages (from optuna->optuna-integration) (1.21.1)\n",
      "Requirement already satisfied: colorlog in /opt/conda/lib/python3.9/site-packages (from optuna->optuna-integration) (6.8.2)\n",
      "Requirement already satisfied: packaging>=20.0 in /opt/conda/lib/python3.9/site-packages (from optuna->optuna-integration) (21.3)\n",
      "Requirement already satisfied: tqdm in /opt/conda/lib/python3.9/site-packages (from optuna->optuna-integration) (4.61.2)\n",
      "Requirement already satisfied: PyYAML in /opt/conda/lib/python3.9/site-packages (from optuna->optuna-integration) (6.0)\n",
      "Requirement already satisfied: sqlalchemy>=1.3.0 in /opt/conda/lib/python3.9/site-packages (from optuna->optuna-integration) (1.4.20)\n",
      "Requirement already satisfied: Mako in /opt/conda/lib/python3.9/site-packages (from alembic>=1.5.0->optuna->optuna-integration) (1.1.4)\n",
      "Requirement already satisfied: python-editor>=0.3 in /opt/conda/lib/python3.9/site-packages (from alembic>=1.5.0->optuna->optuna-integration) (1.0.4)\n",
      "Requirement already satisfied: python-dateutil in /opt/conda/lib/python3.9/site-packages (from alembic>=1.5.0->optuna->optuna-integration) (2.8.1)\n",
      "Requirement already satisfied: pyparsing!=3.0.5,>=2.0.2 in /opt/conda/lib/python3.9/site-packages (from packaging>=20.0->optuna->optuna-integration) (2.4.7)\n",
      "Requirement already satisfied: greenlet!=0.4.17 in /opt/conda/lib/python3.9/site-packages (from sqlalchemy>=1.3.0->optuna->optuna-integration) (1.1.0)\n",
      "Requirement already satisfied: MarkupSafe>=0.9.2 in /opt/conda/lib/python3.9/site-packages (from Mako->alembic>=1.5.0->optuna->optuna-integration) (2.1.1)\n",
      "Requirement already satisfied: six>=1.5 in /opt/conda/lib/python3.9/site-packages (from python-dateutil->alembic>=1.5.0->optuna->optuna-integration) (1.16.0)\n",
      "Note: you may need to restart the kernel to use updated packages.\n"
     ]
    }
   ],
   "source": [
    "pip install optuna-integration"
   ]
  },
  {
   "cell_type": "code",
   "execution_count": 4,
   "metadata": {},
   "outputs": [
    {
     "name": "stdout",
     "output_type": "stream",
     "text": [
      "Requirement already satisfied: optuna in /opt/conda/lib/python3.9/site-packages (3.6.1)\n",
      "Requirement already satisfied: sqlalchemy>=1.3.0 in /opt/conda/lib/python3.9/site-packages (from optuna) (1.4.20)\n",
      "Requirement already satisfied: packaging>=20.0 in /opt/conda/lib/python3.9/site-packages (from optuna) (21.3)\n",
      "Requirement already satisfied: PyYAML in /opt/conda/lib/python3.9/site-packages (from optuna) (6.0)\n",
      "Requirement already satisfied: alembic>=1.5.0 in /opt/conda/lib/python3.9/site-packages (from optuna) (1.6.5)\n",
      "Requirement already satisfied: tqdm in /opt/conda/lib/python3.9/site-packages (from optuna) (4.61.2)\n",
      "Requirement already satisfied: colorlog in /opt/conda/lib/python3.9/site-packages (from optuna) (6.8.2)\n",
      "Requirement already satisfied: numpy in /opt/conda/lib/python3.9/site-packages (from optuna) (1.21.1)\n",
      "Requirement already satisfied: python-dateutil in /opt/conda/lib/python3.9/site-packages (from alembic>=1.5.0->optuna) (2.8.1)\n",
      "Requirement already satisfied: python-editor>=0.3 in /opt/conda/lib/python3.9/site-packages (from alembic>=1.5.0->optuna) (1.0.4)\n",
      "Requirement already satisfied: Mako in /opt/conda/lib/python3.9/site-packages (from alembic>=1.5.0->optuna) (1.1.4)\n",
      "Requirement already satisfied: pyparsing!=3.0.5,>=2.0.2 in /opt/conda/lib/python3.9/site-packages (from packaging>=20.0->optuna) (2.4.7)\n",
      "Requirement already satisfied: greenlet!=0.4.17 in /opt/conda/lib/python3.9/site-packages (from sqlalchemy>=1.3.0->optuna) (1.1.0)\n",
      "Requirement already satisfied: MarkupSafe>=0.9.2 in /opt/conda/lib/python3.9/site-packages (from Mako->alembic>=1.5.0->optuna) (2.1.1)\n",
      "Requirement already satisfied: six>=1.5 in /opt/conda/lib/python3.9/site-packages (from python-dateutil->alembic>=1.5.0->optuna) (1.16.0)\n",
      "Note: you may need to restart the kernel to use updated packages.\n"
     ]
    }
   ],
   "source": [
    "pip install --upgrade optuna"
   ]
  },
  {
   "cell_type": "code",
   "execution_count": 5,
   "metadata": {},
   "outputs": [
    {
     "name": "stdout",
     "output_type": "stream",
     "text": [
      "Requirement already satisfied: phik in /opt/conda/lib/python3.9/site-packages (0.12.4)\n",
      "Requirement already satisfied: matplotlib>=2.2.3 in /opt/conda/lib/python3.9/site-packages (from phik) (3.3.4)\n",
      "Requirement already satisfied: pandas>=0.25.1 in /opt/conda/lib/python3.9/site-packages (from phik) (1.2.4)\n",
      "Requirement already satisfied: joblib>=0.14.1 in /opt/conda/lib/python3.9/site-packages (from phik) (1.4.0)\n",
      "Requirement already satisfied: numpy>=1.18.0 in /opt/conda/lib/python3.9/site-packages (from phik) (1.21.1)\n",
      "Requirement already satisfied: scipy>=1.5.2 in /opt/conda/lib/python3.9/site-packages (from phik) (1.9.1)\n",
      "Requirement already satisfied: kiwisolver>=1.0.1 in /opt/conda/lib/python3.9/site-packages (from matplotlib>=2.2.3->phik) (1.4.4)\n",
      "Requirement already satisfied: pyparsing!=2.0.4,!=2.1.2,!=2.1.6,>=2.0.3 in /opt/conda/lib/python3.9/site-packages (from matplotlib>=2.2.3->phik) (2.4.7)\n",
      "Requirement already satisfied: python-dateutil>=2.1 in /opt/conda/lib/python3.9/site-packages (from matplotlib>=2.2.3->phik) (2.8.1)\n",
      "Requirement already satisfied: pillow>=6.2.0 in /opt/conda/lib/python3.9/site-packages (from matplotlib>=2.2.3->phik) (8.4.0)\n",
      "Requirement already satisfied: cycler>=0.10 in /opt/conda/lib/python3.9/site-packages (from matplotlib>=2.2.3->phik) (0.11.0)\n",
      "Requirement already satisfied: pytz>=2017.3 in /opt/conda/lib/python3.9/site-packages (from pandas>=0.25.1->phik) (2021.1)\n",
      "Requirement already satisfied: six>=1.5 in /opt/conda/lib/python3.9/site-packages (from python-dateutil>=2.1->matplotlib>=2.2.3->phik) (1.16.0)\n",
      "Note: you may need to restart the kernel to use updated packages.\n"
     ]
    }
   ],
   "source": [
    "pip install phik"
   ]
  },
  {
   "cell_type": "code",
   "execution_count": 6,
   "metadata": {},
   "outputs": [
    {
     "name": "stdout",
     "output_type": "stream",
     "text": [
      "Requirement already satisfied: shap in /opt/conda/lib/python3.9/site-packages (0.45.0)\n",
      "Requirement already satisfied: scikit-learn in /opt/conda/lib/python3.9/site-packages (from shap) (1.3.0)\n",
      "Requirement already satisfied: tqdm>=4.27.0 in /opt/conda/lib/python3.9/site-packages (from shap) (4.61.2)\n",
      "Requirement already satisfied: numpy in /opt/conda/lib/python3.9/site-packages (from shap) (1.21.1)\n",
      "Requirement already satisfied: pandas in /opt/conda/lib/python3.9/site-packages (from shap) (1.2.4)\n",
      "Requirement already satisfied: cloudpickle in /opt/conda/lib/python3.9/site-packages (from shap) (3.0.0)\n",
      "Requirement already satisfied: slicer==0.0.7 in /opt/conda/lib/python3.9/site-packages (from shap) (0.0.7)\n",
      "Requirement already satisfied: packaging>20.9 in /opt/conda/lib/python3.9/site-packages (from shap) (21.3)\n",
      "Requirement already satisfied: scipy in /opt/conda/lib/python3.9/site-packages (from shap) (1.9.1)\n",
      "Requirement already satisfied: numba in /opt/conda/lib/python3.9/site-packages (from shap) (0.56.0)\n",
      "Requirement already satisfied: pyparsing!=3.0.5,>=2.0.2 in /opt/conda/lib/python3.9/site-packages (from packaging>20.9->shap) (2.4.7)\n",
      "Requirement already satisfied: setuptools in /opt/conda/lib/python3.9/site-packages (from numba->shap) (49.6.0.post20210108)\n",
      "Requirement already satisfied: llvmlite<0.40,>=0.39.0dev0 in /opt/conda/lib/python3.9/site-packages (from numba->shap) (0.39.0)\n",
      "Requirement already satisfied: python-dateutil>=2.7.3 in /opt/conda/lib/python3.9/site-packages (from pandas->shap) (2.8.1)\n",
      "Requirement already satisfied: pytz>=2017.3 in /opt/conda/lib/python3.9/site-packages (from pandas->shap) (2021.1)\n",
      "Requirement already satisfied: six>=1.5 in /opt/conda/lib/python3.9/site-packages (from python-dateutil>=2.7.3->pandas->shap) (1.16.0)\n",
      "Requirement already satisfied: joblib>=1.1.1 in /opt/conda/lib/python3.9/site-packages (from scikit-learn->shap) (1.4.0)\n",
      "Requirement already satisfied: threadpoolctl>=2.0.0 in /opt/conda/lib/python3.9/site-packages (from scikit-learn->shap) (3.1.0)\n"
     ]
    }
   ],
   "source": [
    "!pip install shap "
   ]
  },
  {
   "cell_type": "code",
   "execution_count": 7,
   "metadata": {},
   "outputs": [
    {
     "name": "stdout",
     "output_type": "stream",
     "text": [
      "Requirement already satisfied: scikit-learn==1.3.0 in /opt/conda/lib/python3.9/site-packages (1.3.0)\n",
      "Requirement already satisfied: joblib>=1.1.1 in /opt/conda/lib/python3.9/site-packages (from scikit-learn==1.3.0) (1.4.0)\n",
      "Requirement already satisfied: numpy>=1.17.3 in /opt/conda/lib/python3.9/site-packages (from scikit-learn==1.3.0) (1.21.1)\n",
      "Requirement already satisfied: scipy>=1.5.0 in /opt/conda/lib/python3.9/site-packages (from scikit-learn==1.3.0) (1.9.1)\n",
      "Requirement already satisfied: threadpoolctl>=2.0.0 in /opt/conda/lib/python3.9/site-packages (from scikit-learn==1.3.0) (3.1.0)\n",
      "Note: you may need to restart the kernel to use updated packages.\n"
     ]
    }
   ],
   "source": [
    "pip install scikit-learn==1.3.0"
   ]
  },
  {
   "cell_type": "code",
   "execution_count": null,
   "metadata": {},
   "outputs": [],
   "source": []
  },
  {
   "cell_type": "code",
   "execution_count": 8,
   "id": "c9b0bc05",
   "metadata": {},
   "outputs": [],
   "source": [
    "import numpy as np\n",
    "import pandas as pd\n",
    "import matplotlib.pyplot as plt\n",
    "import plotly.express as px\n",
    "import seaborn as sns\n",
    "import math\n",
    "import sklearn\n",
    "\n",
    "from scipy import stats as st\n",
    "from math import factorial\n",
    "from scipy.stats import binom\n",
    "\n",
    "from sklearn.model_selection import train_test_split\n",
    "from sklearn.preprocessing import(\n",
    "    OneHotEncoder,\n",
    "    OrdinalEncoder,\n",
    "    MinMaxScaler,\n",
    "    RobustScaler\n",
    ")\n",
    "from sklearn.preprocessing import (\n",
    "    StandardScaler,\n",
    "    PolynomialFeatures,\n",
    "    LabelEncoder\n",
    ")\n",
    "\n",
    "\n",
    "from sklearn.tree import DecisionTreeClassifier, plot_tree, DecisionTreeRegressor\n",
    "from sklearn.linear_model import LinearRegression, LogisticRegression\n",
    "from sklearn.neighbors import KNeighborsClassifier\n",
    "from sklearn.dummy import DummyClassifier\n",
    "from sklearn.svm import SVC, LinearSVC\n",
    "\n",
    "from sklearn.metrics import (\n",
    "    r2_score,\n",
    "    mean_absolute_error,\n",
    "    mean_squared_error,\n",
    "    confusion_matrix,\n",
    "    accuracy_score,\n",
    "    recall_score,\n",
    "    precision_score,\n",
    "    f1_score,\n",
    "    fbeta_score,\n",
    "    roc_curve,\n",
    "    roc_auc_score,\n",
    "    RocCurveDisplay,\n",
    "    make_scorer\n",
    ")"
   ]
  },
  {
   "cell_type": "code",
   "execution_count": 9,
   "id": "3260b74b",
   "metadata": {},
   "outputs": [],
   "source": [
    "from sklearn.model_selection import cross_val_score\n",
    "from sklearn.metrics import RocCurveDisplay\n",
    "\n",
    "from itertools import combinations\n",
    "from scipy.spatial.distance import euclidean,cityblock\n",
    "\n",
    "from sklearn.model_selection import KFold, StratifiedKFold\n",
    "\n",
    "from sklearn.model_selection import GridSearchCV, RandomizedSearchCV\n",
    "\n",
    "from sklearn.preprocessing import OrdinalEncoder\n",
    "from sklearn.impute import SimpleImputer\n",
    "\n",
    "from sklearn.feature_selection import SelectKBest, f_classif, mutual_info_classif \n",
    "\n",
    "\n",
    "import time\n",
    "from scipy.stats import pearsonr\n",
    "from sklearn.inspection import permutation_importance\n",
    "from sklearn.datasets import make_classification\n",
    "\n",
    "\n",
    "from sklearn.pipeline import Pipeline\n",
    "from sklearn.compose import ColumnTransformer"
   ]
  },
  {
   "cell_type": "code",
   "execution_count": 10,
   "id": "b04b7bf2",
   "metadata": {},
   "outputs": [],
   "source": [
    "from sklearn.linear_model import Ridge"
   ]
  },
  {
   "cell_type": "code",
   "execution_count": 11,
   "id": "76187afe",
   "metadata": {},
   "outputs": [],
   "source": [
    "import shap"
   ]
  },
  {
   "cell_type": "code",
   "execution_count": 12,
   "id": "e26f9a53",
   "metadata": {},
   "outputs": [],
   "source": [
    "import warnings\n",
    "warnings.filterwarnings(\"ignore\")"
   ]
  },
  {
   "cell_type": "code",
   "execution_count": 13,
   "metadata": {},
   "outputs": [],
   "source": [
    "#Избавимся от экспонентного отображения формата данных в таблицах без фактического изменения формата\n",
    "pd.set_option('display.float_format', '{:.2f}'.format)"
   ]
  },
  {
   "cell_type": "markdown",
   "id": "3d75ce6f",
   "metadata": {},
   "source": [
    "### Загрузка источников данных"
   ]
  },
  {
   "cell_type": "code",
   "execution_count": 14,
   "id": "7257e22f",
   "metadata": {},
   "outputs": [],
   "source": [
    "try:\n",
    "    geo_data_zero = pd.read_csv('geo_data_0.csv', decimal=',')\n",
    "except:\n",
    "    geo_data_zero = pd.read_csv(\n",
    "        'https://code.s3.yandex.net/datasets/geo_data_0.csv',\n",
    "        decimal=','\n",
    "    )"
   ]
  },
  {
   "cell_type": "code",
   "execution_count": 15,
   "id": "daa3bd5e",
   "metadata": {},
   "outputs": [
    {
     "name": "stdout",
     "output_type": "stream",
     "text": [
      "<class 'pandas.core.frame.DataFrame'>\n",
      "RangeIndex: 100000 entries, 0 to 99999\n",
      "Data columns (total 5 columns):\n",
      " #   Column   Non-Null Count   Dtype \n",
      "---  ------   --------------   ----- \n",
      " 0   id       100000 non-null  object\n",
      " 1   f0       100000 non-null  object\n",
      " 2   f1       100000 non-null  object\n",
      " 3   f2       100000 non-null  object\n",
      " 4   product  100000 non-null  object\n",
      "dtypes: object(5)\n",
      "memory usage: 3.8+ MB\n"
     ]
    }
   ],
   "source": [
    "geo_data_zero.info()"
   ]
  },
  {
   "cell_type": "code",
   "execution_count": 16,
   "id": "48a9a7d9",
   "metadata": {},
   "outputs": [
    {
     "data": {
      "text/html": [
       "<div>\n",
       "<style scoped>\n",
       "    .dataframe tbody tr th:only-of-type {\n",
       "        vertical-align: middle;\n",
       "    }\n",
       "\n",
       "    .dataframe tbody tr th {\n",
       "        vertical-align: top;\n",
       "    }\n",
       "\n",
       "    .dataframe thead th {\n",
       "        text-align: right;\n",
       "    }\n",
       "</style>\n",
       "<table border=\"1\" class=\"dataframe\">\n",
       "  <thead>\n",
       "    <tr style=\"text-align: right;\">\n",
       "      <th></th>\n",
       "      <th>id</th>\n",
       "      <th>f0</th>\n",
       "      <th>f1</th>\n",
       "      <th>f2</th>\n",
       "      <th>product</th>\n",
       "    </tr>\n",
       "  </thead>\n",
       "  <tbody>\n",
       "    <tr>\n",
       "      <th>53012</th>\n",
       "      <td>LdStq</td>\n",
       "      <td>0.6289238797183085</td>\n",
       "      <td>0.6918565621974926</td>\n",
       "      <td>1.1885253373403613</td>\n",
       "      <td>137.6621420034259</td>\n",
       "    </tr>\n",
       "    <tr>\n",
       "      <th>19741</th>\n",
       "      <td>yG8ED</td>\n",
       "      <td>-0.8300696804500651</td>\n",
       "      <td>0.7033047300396346</td>\n",
       "      <td>1.5808592164824968</td>\n",
       "      <td>128.3152348774667</td>\n",
       "    </tr>\n",
       "    <tr>\n",
       "      <th>74240</th>\n",
       "      <td>0m29Y</td>\n",
       "      <td>0.4417057743572185</td>\n",
       "      <td>0.8943218058963773</td>\n",
       "      <td>-3.48123722486249</td>\n",
       "      <td>38.01719443746817</td>\n",
       "    </tr>\n",
       "    <tr>\n",
       "      <th>17492</th>\n",
       "      <td>rT9z2</td>\n",
       "      <td>1.9345062498558356</td>\n",
       "      <td>0.5236247720864242</td>\n",
       "      <td>-5.9558364878703784</td>\n",
       "      <td>29.83347559839925</td>\n",
       "    </tr>\n",
       "    <tr>\n",
       "      <th>42677</th>\n",
       "      <td>waAEB</td>\n",
       "      <td>0.17651580184584256</td>\n",
       "      <td>0.9127003940949804</td>\n",
       "      <td>3.1621317248493965</td>\n",
       "      <td>59.50082016895843</td>\n",
       "    </tr>\n",
       "  </tbody>\n",
       "</table>\n",
       "</div>"
      ],
      "text/plain": [
       "          id                   f0                  f1                   f2  \\\n",
       "53012  LdStq   0.6289238797183085  0.6918565621974926   1.1885253373403613   \n",
       "19741  yG8ED  -0.8300696804500651  0.7033047300396346   1.5808592164824968   \n",
       "74240  0m29Y   0.4417057743572185  0.8943218058963773    -3.48123722486249   \n",
       "17492  rT9z2   1.9345062498558356  0.5236247720864242  -5.9558364878703784   \n",
       "42677  waAEB  0.17651580184584256  0.9127003940949804   3.1621317248493965   \n",
       "\n",
       "                 product  \n",
       "53012  137.6621420034259  \n",
       "19741  128.3152348774667  \n",
       "74240  38.01719443746817  \n",
       "17492  29.83347559839925  \n",
       "42677  59.50082016895843  "
      ]
     },
     "execution_count": 16,
     "metadata": {},
     "output_type": "execute_result"
    }
   ],
   "source": [
    "geo_data_zero.sample(5)"
   ]
  },
  {
   "cell_type": "markdown",
   "id": "d17e6e64",
   "metadata": {},
   "source": [
    "Признаки соответствуют описанию. Формат данных требует корректировки."
   ]
  },
  {
   "cell_type": "code",
   "execution_count": 17,
   "id": "2241877e",
   "metadata": {},
   "outputs": [],
   "source": [
    "try:\n",
    "    geo_data_one = pd.read_csv('geo_data_1.csv', decimal=',')\n",
    "except:\n",
    "    geo_data_one = pd.read_csv(\n",
    "        'https://code.s3.yandex.net/datasets/geo_data_1.csv',\n",
    "        decimal=','\n",
    "    )"
   ]
  },
  {
   "cell_type": "code",
   "execution_count": 18,
   "id": "3943ba7a",
   "metadata": {
    "scrolled": true
   },
   "outputs": [
    {
     "name": "stdout",
     "output_type": "stream",
     "text": [
      "<class 'pandas.core.frame.DataFrame'>\n",
      "RangeIndex: 100000 entries, 0 to 99999\n",
      "Data columns (total 5 columns):\n",
      " #   Column   Non-Null Count   Dtype \n",
      "---  ------   --------------   ----- \n",
      " 0   id       100000 non-null  object\n",
      " 1   f0       100000 non-null  object\n",
      " 2   f1       100000 non-null  object\n",
      " 3   f2       100000 non-null  object\n",
      " 4   product  100000 non-null  object\n",
      "dtypes: object(5)\n",
      "memory usage: 3.8+ MB\n"
     ]
    }
   ],
   "source": [
    "geo_data_one.info()"
   ]
  },
  {
   "cell_type": "code",
   "execution_count": 19,
   "id": "a66821be",
   "metadata": {},
   "outputs": [
    {
     "data": {
      "text/html": [
       "<div>\n",
       "<style scoped>\n",
       "    .dataframe tbody tr th:only-of-type {\n",
       "        vertical-align: middle;\n",
       "    }\n",
       "\n",
       "    .dataframe tbody tr th {\n",
       "        vertical-align: top;\n",
       "    }\n",
       "\n",
       "    .dataframe thead th {\n",
       "        text-align: right;\n",
       "    }\n",
       "</style>\n",
       "<table border=\"1\" class=\"dataframe\">\n",
       "  <thead>\n",
       "    <tr style=\"text-align: right;\">\n",
       "      <th></th>\n",
       "      <th>id</th>\n",
       "      <th>f0</th>\n",
       "      <th>f1</th>\n",
       "      <th>f2</th>\n",
       "      <th>product</th>\n",
       "    </tr>\n",
       "  </thead>\n",
       "  <tbody>\n",
       "    <tr>\n",
       "      <th>34290</th>\n",
       "      <td>I735j</td>\n",
       "      <td>-10.17944875244385</td>\n",
       "      <td>-3.0970807520018147</td>\n",
       "      <td>5.003772364939524</td>\n",
       "      <td>137.94540774090564</td>\n",
       "    </tr>\n",
       "    <tr>\n",
       "      <th>79870</th>\n",
       "      <td>NHiBD</td>\n",
       "      <td>12.463661504481735</td>\n",
       "      <td>-0.33999335117630736</td>\n",
       "      <td>2.987822216842261</td>\n",
       "      <td>80.85978309461906</td>\n",
       "    </tr>\n",
       "    <tr>\n",
       "      <th>87725</th>\n",
       "      <td>PcK3t</td>\n",
       "      <td>0.3730611351898521</td>\n",
       "      <td>-10.005339255759964</td>\n",
       "      <td>2.001543048866195</td>\n",
       "      <td>53.90652206307938</td>\n",
       "    </tr>\n",
       "    <tr>\n",
       "      <th>11810</th>\n",
       "      <td>g60ua</td>\n",
       "      <td>-5.465668288151739</td>\n",
       "      <td>-3.7276103312416473</td>\n",
       "      <td>1.9942304643019808</td>\n",
       "      <td>57.08562464628662</td>\n",
       "    </tr>\n",
       "    <tr>\n",
       "      <th>1991</th>\n",
       "      <td>HJdIm</td>\n",
       "      <td>4.65298806879655</td>\n",
       "      <td>-7.042027986909523</td>\n",
       "      <td>4.992676785800164</td>\n",
       "      <td>137.94540774090564</td>\n",
       "    </tr>\n",
       "  </tbody>\n",
       "</table>\n",
       "</div>"
      ],
      "text/plain": [
       "          id                  f0                    f1                  f2  \\\n",
       "34290  I735j  -10.17944875244385   -3.0970807520018147   5.003772364939524   \n",
       "79870  NHiBD  12.463661504481735  -0.33999335117630736   2.987822216842261   \n",
       "87725  PcK3t  0.3730611351898521   -10.005339255759964   2.001543048866195   \n",
       "11810  g60ua  -5.465668288151739   -3.7276103312416473  1.9942304643019808   \n",
       "1991   HJdIm    4.65298806879655    -7.042027986909523   4.992676785800164   \n",
       "\n",
       "                  product  \n",
       "34290  137.94540774090564  \n",
       "79870   80.85978309461906  \n",
       "87725   53.90652206307938  \n",
       "11810   57.08562464628662  \n",
       "1991   137.94540774090564  "
      ]
     },
     "execution_count": 19,
     "metadata": {},
     "output_type": "execute_result"
    }
   ],
   "source": [
    "geo_data_one.sample(5)"
   ]
  },
  {
   "cell_type": "markdown",
   "id": "086fcec7",
   "metadata": {},
   "source": [
    "Признаки соответствуют описанию. Формат данных требует корректировки."
   ]
  },
  {
   "cell_type": "code",
   "execution_count": 20,
   "id": "9eec3f87",
   "metadata": {},
   "outputs": [],
   "source": [
    "try:\n",
    "    geo_data_two = pd.read_csv('geo_data_2.csv', decimal=',')\n",
    "except:\n",
    "    geo_data_two = pd.read_csv(\n",
    "        'https://code.s3.yandex.net/datasets/geo_data_2.csv',\n",
    "        decimal=','\n",
    "    )"
   ]
  },
  {
   "cell_type": "code",
   "execution_count": 21,
   "id": "8f3934d0",
   "metadata": {},
   "outputs": [
    {
     "name": "stdout",
     "output_type": "stream",
     "text": [
      "<class 'pandas.core.frame.DataFrame'>\n",
      "RangeIndex: 100000 entries, 0 to 99999\n",
      "Data columns (total 5 columns):\n",
      " #   Column   Non-Null Count   Dtype \n",
      "---  ------   --------------   ----- \n",
      " 0   id       100000 non-null  object\n",
      " 1   f0       100000 non-null  object\n",
      " 2   f1       100000 non-null  object\n",
      " 3   f2       100000 non-null  object\n",
      " 4   product  100000 non-null  object\n",
      "dtypes: object(5)\n",
      "memory usage: 3.8+ MB\n"
     ]
    }
   ],
   "source": [
    "geo_data_two.info()"
   ]
  },
  {
   "cell_type": "code",
   "execution_count": 22,
   "id": "95482cba",
   "metadata": {},
   "outputs": [
    {
     "data": {
      "text/html": [
       "<div>\n",
       "<style scoped>\n",
       "    .dataframe tbody tr th:only-of-type {\n",
       "        vertical-align: middle;\n",
       "    }\n",
       "\n",
       "    .dataframe tbody tr th {\n",
       "        vertical-align: top;\n",
       "    }\n",
       "\n",
       "    .dataframe thead th {\n",
       "        text-align: right;\n",
       "    }\n",
       "</style>\n",
       "<table border=\"1\" class=\"dataframe\">\n",
       "  <thead>\n",
       "    <tr style=\"text-align: right;\">\n",
       "      <th></th>\n",
       "      <th>id</th>\n",
       "      <th>f0</th>\n",
       "      <th>f1</th>\n",
       "      <th>f2</th>\n",
       "      <th>product</th>\n",
       "    </tr>\n",
       "  </thead>\n",
       "  <tbody>\n",
       "    <tr>\n",
       "      <th>45044</th>\n",
       "      <td>Fyz4o</td>\n",
       "      <td>2.2013493443335266</td>\n",
       "      <td>1.9645329460956893</td>\n",
       "      <td>3.724393671361776</td>\n",
       "      <td>142.2197195610331</td>\n",
       "    </tr>\n",
       "    <tr>\n",
       "      <th>49889</th>\n",
       "      <td>6h4r7</td>\n",
       "      <td>-0.26110027102501016</td>\n",
       "      <td>-3.834345075966041</td>\n",
       "      <td>7.45073744998009</td>\n",
       "      <td>150.51221624433316</td>\n",
       "    </tr>\n",
       "    <tr>\n",
       "      <th>33258</th>\n",
       "      <td>LlVvD</td>\n",
       "      <td>2.623895228975459</td>\n",
       "      <td>0.5510153079389778</td>\n",
       "      <td>2.6025029784766804</td>\n",
       "      <td>63.01112083271405</td>\n",
       "    </tr>\n",
       "    <tr>\n",
       "      <th>6145</th>\n",
       "      <td>kvvWm</td>\n",
       "      <td>0.7180412233614041</td>\n",
       "      <td>-0.7815960281371145</td>\n",
       "      <td>0.5697357320062504</td>\n",
       "      <td>68.54051359815958</td>\n",
       "    </tr>\n",
       "    <tr>\n",
       "      <th>82003</th>\n",
       "      <td>ixlD9</td>\n",
       "      <td>-0.4238096617449533</td>\n",
       "      <td>0.12272317477410435</td>\n",
       "      <td>0.4593306945109698</td>\n",
       "      <td>61.77742221660948</td>\n",
       "    </tr>\n",
       "  </tbody>\n",
       "</table>\n",
       "</div>"
      ],
      "text/plain": [
       "          id                    f0                   f1                  f2  \\\n",
       "45044  Fyz4o    2.2013493443335266   1.9645329460956893   3.724393671361776   \n",
       "49889  6h4r7  -0.26110027102501016   -3.834345075966041    7.45073744998009   \n",
       "33258  LlVvD     2.623895228975459   0.5510153079389778  2.6025029784766804   \n",
       "6145   kvvWm    0.7180412233614041  -0.7815960281371145  0.5697357320062504   \n",
       "82003  ixlD9   -0.4238096617449533  0.12272317477410435  0.4593306945109698   \n",
       "\n",
       "                  product  \n",
       "45044   142.2197195610331  \n",
       "49889  150.51221624433316  \n",
       "33258   63.01112083271405  \n",
       "6145    68.54051359815958  \n",
       "82003   61.77742221660948  "
      ]
     },
     "execution_count": 22,
     "metadata": {},
     "output_type": "execute_result"
    }
   ],
   "source": [
    "geo_data_two.sample(5)"
   ]
  },
  {
   "cell_type": "markdown",
   "id": "e139e50a",
   "metadata": {},
   "source": [
    "Признаки соответствуют описанию. Формат данных требует корректировки."
   ]
  },
  {
   "cell_type": "markdown",
   "id": "ecfade92",
   "metadata": {},
   "source": [
    "## Предобработка данных"
   ]
  },
  {
   "cell_type": "code",
   "execution_count": 23,
   "id": "9050f346",
   "metadata": {},
   "outputs": [],
   "source": [
    "def check_df(df):\n",
    "    \"\"\"\n",
    "    Проверяет pandas DataFrame на наличие пропущенных значений и дубликатов.\n",
    "    \n",
    "    Параметры:\n",
    "    df (pandas.DataFrame): DataFrame для проверки.\n",
    "    \n",
    "    Выводит:\n",
    "    - информацию о DataFrame,\n",
    "    - количество и распределение пропущенных значений,\n",
    "    - количество явных дубликатов,\n",
    "    - первые пять строк DataFrame.\n",
    "    \"\"\"\n",
    "    print(\"Общая инфо:\")\n",
    "    df.info()\n",
    "    \n",
    "    print(\"\\nПроверка на наличие пропусков:\")\n",
    "    null_values = df.isnull().sum()\n",
    "    if null_values.sum() > 0:\n",
    "            print(\"В датафрейме есть пропущенные значения:\")\n",
    "            print(null_values)\n",
    "    else:\n",
    "        print(\"Пропущенные значения в датафрейме отсутствуют.\")\n",
    "    \n",
    "    print(\"\\nПроверка на наличие дубликатов:\")\n",
    "    duplicates = df.duplicated().sum()\n",
    "    if duplicates > 0:\n",
    "        print(f\"В датафрейме найдено {duplicates} явных дубликатов.\")\n",
    "    else:\n",
    "        print(\"Явные дубликаты в датафрейме отсутствуют.\")\n",
    "    \n",
    "    display(df.head())\n",
    "\n",
    "# Для получения документации функции использовать:\n",
    "#help(check_df)"
   ]
  },
  {
   "cell_type": "code",
   "execution_count": 24,
   "id": "75da2544",
   "metadata": {},
   "outputs": [
    {
     "name": "stdout",
     "output_type": "stream",
     "text": [
      "Общая инфо:\n",
      "<class 'pandas.core.frame.DataFrame'>\n",
      "RangeIndex: 100000 entries, 0 to 99999\n",
      "Data columns (total 5 columns):\n",
      " #   Column   Non-Null Count   Dtype \n",
      "---  ------   --------------   ----- \n",
      " 0   id       100000 non-null  object\n",
      " 1   f0       100000 non-null  object\n",
      " 2   f1       100000 non-null  object\n",
      " 3   f2       100000 non-null  object\n",
      " 4   product  100000 non-null  object\n",
      "dtypes: object(5)\n",
      "memory usage: 3.8+ MB\n",
      "\n",
      "Проверка на наличие пропусков:\n",
      "Пропущенные значения в датафрейме отсутствуют.\n",
      "\n",
      "Проверка на наличие дубликатов:\n",
      "Явные дубликаты в датафрейме отсутствуют.\n"
     ]
    },
    {
     "data": {
      "text/html": [
       "<div>\n",
       "<style scoped>\n",
       "    .dataframe tbody tr th:only-of-type {\n",
       "        vertical-align: middle;\n",
       "    }\n",
       "\n",
       "    .dataframe tbody tr th {\n",
       "        vertical-align: top;\n",
       "    }\n",
       "\n",
       "    .dataframe thead th {\n",
       "        text-align: right;\n",
       "    }\n",
       "</style>\n",
       "<table border=\"1\" class=\"dataframe\">\n",
       "  <thead>\n",
       "    <tr style=\"text-align: right;\">\n",
       "      <th></th>\n",
       "      <th>id</th>\n",
       "      <th>f0</th>\n",
       "      <th>f1</th>\n",
       "      <th>f2</th>\n",
       "      <th>product</th>\n",
       "    </tr>\n",
       "  </thead>\n",
       "  <tbody>\n",
       "    <tr>\n",
       "      <th>0</th>\n",
       "      <td>txEyH</td>\n",
       "      <td>0.7057449842080644</td>\n",
       "      <td>-0.4978225001976334</td>\n",
       "      <td>1.22116994843607</td>\n",
       "      <td>105.28006184349583</td>\n",
       "    </tr>\n",
       "    <tr>\n",
       "      <th>1</th>\n",
       "      <td>2acmU</td>\n",
       "      <td>1.3347112926051892</td>\n",
       "      <td>-0.3401642528583136</td>\n",
       "      <td>4.3650803324282</td>\n",
       "      <td>73.03775026515737</td>\n",
       "    </tr>\n",
       "    <tr>\n",
       "      <th>2</th>\n",
       "      <td>409Wp</td>\n",
       "      <td>1.0227322634721168</td>\n",
       "      <td>0.15199044457022945</td>\n",
       "      <td>1.4199262386740652</td>\n",
       "      <td>85.26564713099945</td>\n",
       "    </tr>\n",
       "    <tr>\n",
       "      <th>3</th>\n",
       "      <td>iJLyR</td>\n",
       "      <td>-0.03217162450743976</td>\n",
       "      <td>0.13903270818447744</td>\n",
       "      <td>2.9785659663204838</td>\n",
       "      <td>168.62077555509563</td>\n",
       "    </tr>\n",
       "    <tr>\n",
       "      <th>4</th>\n",
       "      <td>Xdl7t</td>\n",
       "      <td>1.988431059439699</td>\n",
       "      <td>0.15541267777667178</td>\n",
       "      <td>4.751769119262962</td>\n",
       "      <td>154.03664673738086</td>\n",
       "    </tr>\n",
       "  </tbody>\n",
       "</table>\n",
       "</div>"
      ],
      "text/plain": [
       "      id                    f0                   f1                  f2  \\\n",
       "0  txEyH    0.7057449842080644  -0.4978225001976334    1.22116994843607   \n",
       "1  2acmU    1.3347112926051892  -0.3401642528583136     4.3650803324282   \n",
       "2  409Wp    1.0227322634721168  0.15199044457022945  1.4199262386740652   \n",
       "3  iJLyR  -0.03217162450743976  0.13903270818447744  2.9785659663204838   \n",
       "4  Xdl7t     1.988431059439699  0.15541267777667178   4.751769119262962   \n",
       "\n",
       "              product  \n",
       "0  105.28006184349583  \n",
       "1   73.03775026515737  \n",
       "2   85.26564713099945  \n",
       "3  168.62077555509563  \n",
       "4  154.03664673738086  "
      ]
     },
     "metadata": {},
     "output_type": "display_data"
    }
   ],
   "source": [
    "check_df(geo_data_zero)"
   ]
  },
  {
   "cell_type": "code",
   "execution_count": 25,
   "id": "f00227ca",
   "metadata": {},
   "outputs": [],
   "source": [
    "num_coll_list=['f0', 'f1', 'f2', 'product']"
   ]
  },
  {
   "cell_type": "code",
   "execution_count": 26,
   "id": "971653be",
   "metadata": {},
   "outputs": [],
   "source": [
    "# Переведем значения признаков в формат float\n",
    "for column in num_coll_list:\n",
    "    geo_data_zero[column] = pd.to_numeric(geo_data_zero[column], errors='coerce')"
   ]
  },
  {
   "cell_type": "code",
   "execution_count": 27,
   "id": "ee22fde5",
   "metadata": {
    "scrolled": true
   },
   "outputs": [
    {
     "name": "stdout",
     "output_type": "stream",
     "text": [
      "Общая инфо:\n",
      "<class 'pandas.core.frame.DataFrame'>\n",
      "RangeIndex: 100000 entries, 0 to 99999\n",
      "Data columns (total 5 columns):\n",
      " #   Column   Non-Null Count   Dtype  \n",
      "---  ------   --------------   -----  \n",
      " 0   id       100000 non-null  object \n",
      " 1   f0       100000 non-null  float64\n",
      " 2   f1       100000 non-null  float64\n",
      " 3   f2       100000 non-null  float64\n",
      " 4   product  100000 non-null  float64\n",
      "dtypes: float64(4), object(1)\n",
      "memory usage: 3.8+ MB\n",
      "\n",
      "Проверка на наличие пропусков:\n",
      "Пропущенные значения в датафрейме отсутствуют.\n",
      "\n",
      "Проверка на наличие дубликатов:\n",
      "Явные дубликаты в датафрейме отсутствуют.\n"
     ]
    },
    {
     "data": {
      "text/html": [
       "<div>\n",
       "<style scoped>\n",
       "    .dataframe tbody tr th:only-of-type {\n",
       "        vertical-align: middle;\n",
       "    }\n",
       "\n",
       "    .dataframe tbody tr th {\n",
       "        vertical-align: top;\n",
       "    }\n",
       "\n",
       "    .dataframe thead th {\n",
       "        text-align: right;\n",
       "    }\n",
       "</style>\n",
       "<table border=\"1\" class=\"dataframe\">\n",
       "  <thead>\n",
       "    <tr style=\"text-align: right;\">\n",
       "      <th></th>\n",
       "      <th>id</th>\n",
       "      <th>f0</th>\n",
       "      <th>f1</th>\n",
       "      <th>f2</th>\n",
       "      <th>product</th>\n",
       "    </tr>\n",
       "  </thead>\n",
       "  <tbody>\n",
       "    <tr>\n",
       "      <th>0</th>\n",
       "      <td>txEyH</td>\n",
       "      <td>0.71</td>\n",
       "      <td>-0.50</td>\n",
       "      <td>1.22</td>\n",
       "      <td>105.28</td>\n",
       "    </tr>\n",
       "    <tr>\n",
       "      <th>1</th>\n",
       "      <td>2acmU</td>\n",
       "      <td>1.33</td>\n",
       "      <td>-0.34</td>\n",
       "      <td>4.37</td>\n",
       "      <td>73.04</td>\n",
       "    </tr>\n",
       "    <tr>\n",
       "      <th>2</th>\n",
       "      <td>409Wp</td>\n",
       "      <td>1.02</td>\n",
       "      <td>0.15</td>\n",
       "      <td>1.42</td>\n",
       "      <td>85.27</td>\n",
       "    </tr>\n",
       "    <tr>\n",
       "      <th>3</th>\n",
       "      <td>iJLyR</td>\n",
       "      <td>-0.03</td>\n",
       "      <td>0.14</td>\n",
       "      <td>2.98</td>\n",
       "      <td>168.62</td>\n",
       "    </tr>\n",
       "    <tr>\n",
       "      <th>4</th>\n",
       "      <td>Xdl7t</td>\n",
       "      <td>1.99</td>\n",
       "      <td>0.16</td>\n",
       "      <td>4.75</td>\n",
       "      <td>154.04</td>\n",
       "    </tr>\n",
       "  </tbody>\n",
       "</table>\n",
       "</div>"
      ],
      "text/plain": [
       "      id    f0    f1   f2  product\n",
       "0  txEyH  0.71 -0.50 1.22   105.28\n",
       "1  2acmU  1.33 -0.34 4.37    73.04\n",
       "2  409Wp  1.02  0.15 1.42    85.27\n",
       "3  iJLyR -0.03  0.14 2.98   168.62\n",
       "4  Xdl7t  1.99  0.16 4.75   154.04"
      ]
     },
     "metadata": {},
     "output_type": "display_data"
    }
   ],
   "source": [
    "check_df(geo_data_zero)"
   ]
  },
  {
   "cell_type": "code",
   "execution_count": 28,
   "id": "482dc92f",
   "metadata": {},
   "outputs": [
    {
     "data": {
      "text/plain": [
       "10"
      ]
     },
     "execution_count": 28,
     "metadata": {},
     "output_type": "execute_result"
    }
   ],
   "source": [
    "geo_data_zero['id'].duplicated().sum()"
   ]
  },
  {
   "cell_type": "code",
   "execution_count": 29,
   "id": "98382ef8",
   "metadata": {},
   "outputs": [
    {
     "data": {
      "text/html": [
       "<div>\n",
       "<style scoped>\n",
       "    .dataframe tbody tr th:only-of-type {\n",
       "        vertical-align: middle;\n",
       "    }\n",
       "\n",
       "    .dataframe tbody tr th {\n",
       "        vertical-align: top;\n",
       "    }\n",
       "\n",
       "    .dataframe thead th {\n",
       "        text-align: right;\n",
       "    }\n",
       "</style>\n",
       "<table border=\"1\" class=\"dataframe\">\n",
       "  <thead>\n",
       "    <tr style=\"text-align: right;\">\n",
       "      <th></th>\n",
       "      <th>id</th>\n",
       "      <th>f0</th>\n",
       "      <th>f1</th>\n",
       "      <th>f2</th>\n",
       "      <th>product</th>\n",
       "    </tr>\n",
       "  </thead>\n",
       "  <tbody>\n",
       "    <tr>\n",
       "      <th>931</th>\n",
       "      <td>HZww2</td>\n",
       "      <td>0.76</td>\n",
       "      <td>0.37</td>\n",
       "      <td>1.86</td>\n",
       "      <td>30.68</td>\n",
       "    </tr>\n",
       "    <tr>\n",
       "      <th>1364</th>\n",
       "      <td>bxg6G</td>\n",
       "      <td>0.41</td>\n",
       "      <td>0.86</td>\n",
       "      <td>-3.65</td>\n",
       "      <td>73.60</td>\n",
       "    </tr>\n",
       "    <tr>\n",
       "      <th>1949</th>\n",
       "      <td>QcMuo</td>\n",
       "      <td>0.51</td>\n",
       "      <td>-0.32</td>\n",
       "      <td>-2.22</td>\n",
       "      <td>75.50</td>\n",
       "    </tr>\n",
       "    <tr>\n",
       "      <th>3389</th>\n",
       "      <td>A5aEY</td>\n",
       "      <td>-0.04</td>\n",
       "      <td>0.16</td>\n",
       "      <td>0.21</td>\n",
       "      <td>89.25</td>\n",
       "    </tr>\n",
       "    <tr>\n",
       "      <th>7530</th>\n",
       "      <td>HZww2</td>\n",
       "      <td>1.06</td>\n",
       "      <td>-0.37</td>\n",
       "      <td>10.43</td>\n",
       "      <td>158.83</td>\n",
       "    </tr>\n",
       "    <tr>\n",
       "      <th>16633</th>\n",
       "      <td>fiKDv</td>\n",
       "      <td>0.16</td>\n",
       "      <td>1.03</td>\n",
       "      <td>5.59</td>\n",
       "      <td>95.82</td>\n",
       "    </tr>\n",
       "    <tr>\n",
       "      <th>21426</th>\n",
       "      <td>Tdehs</td>\n",
       "      <td>0.83</td>\n",
       "      <td>0.30</td>\n",
       "      <td>-0.05</td>\n",
       "      <td>96.04</td>\n",
       "    </tr>\n",
       "    <tr>\n",
       "      <th>41724</th>\n",
       "      <td>bxg6G</td>\n",
       "      <td>-0.82</td>\n",
       "      <td>0.55</td>\n",
       "      <td>3.63</td>\n",
       "      <td>93.01</td>\n",
       "    </tr>\n",
       "    <tr>\n",
       "      <th>42529</th>\n",
       "      <td>AGS9W</td>\n",
       "      <td>1.45</td>\n",
       "      <td>-0.48</td>\n",
       "      <td>0.68</td>\n",
       "      <td>126.37</td>\n",
       "    </tr>\n",
       "    <tr>\n",
       "      <th>51970</th>\n",
       "      <td>A5aEY</td>\n",
       "      <td>-0.18</td>\n",
       "      <td>0.94</td>\n",
       "      <td>-2.09</td>\n",
       "      <td>33.02</td>\n",
       "    </tr>\n",
       "    <tr>\n",
       "      <th>60140</th>\n",
       "      <td>TtcGQ</td>\n",
       "      <td>0.57</td>\n",
       "      <td>-0.10</td>\n",
       "      <td>6.44</td>\n",
       "      <td>85.35</td>\n",
       "    </tr>\n",
       "    <tr>\n",
       "      <th>63593</th>\n",
       "      <td>QcMuo</td>\n",
       "      <td>0.64</td>\n",
       "      <td>-0.47</td>\n",
       "      <td>0.86</td>\n",
       "      <td>64.58</td>\n",
       "    </tr>\n",
       "    <tr>\n",
       "      <th>64022</th>\n",
       "      <td>74z30</td>\n",
       "      <td>0.74</td>\n",
       "      <td>0.46</td>\n",
       "      <td>5.15</td>\n",
       "      <td>140.77</td>\n",
       "    </tr>\n",
       "    <tr>\n",
       "      <th>66136</th>\n",
       "      <td>74z30</td>\n",
       "      <td>1.08</td>\n",
       "      <td>-0.31</td>\n",
       "      <td>6.99</td>\n",
       "      <td>127.64</td>\n",
       "    </tr>\n",
       "    <tr>\n",
       "      <th>69163</th>\n",
       "      <td>AGS9W</td>\n",
       "      <td>-0.93</td>\n",
       "      <td>0.12</td>\n",
       "      <td>-3.66</td>\n",
       "      <td>19.23</td>\n",
       "    </tr>\n",
       "    <tr>\n",
       "      <th>75715</th>\n",
       "      <td>Tdehs</td>\n",
       "      <td>0.11</td>\n",
       "      <td>0.43</td>\n",
       "      <td>3.22</td>\n",
       "      <td>60.96</td>\n",
       "    </tr>\n",
       "    <tr>\n",
       "      <th>89582</th>\n",
       "      <td>bsk9y</td>\n",
       "      <td>0.40</td>\n",
       "      <td>-0.40</td>\n",
       "      <td>10.12</td>\n",
       "      <td>163.43</td>\n",
       "    </tr>\n",
       "    <tr>\n",
       "      <th>90815</th>\n",
       "      <td>fiKDv</td>\n",
       "      <td>0.05</td>\n",
       "      <td>0.84</td>\n",
       "      <td>6.39</td>\n",
       "      <td>137.35</td>\n",
       "    </tr>\n",
       "    <tr>\n",
       "      <th>92341</th>\n",
       "      <td>TtcGQ</td>\n",
       "      <td>0.11</td>\n",
       "      <td>1.02</td>\n",
       "      <td>0.91</td>\n",
       "      <td>101.32</td>\n",
       "    </tr>\n",
       "    <tr>\n",
       "      <th>97785</th>\n",
       "      <td>bsk9y</td>\n",
       "      <td>0.38</td>\n",
       "      <td>0.01</td>\n",
       "      <td>0.16</td>\n",
       "      <td>160.64</td>\n",
       "    </tr>\n",
       "  </tbody>\n",
       "</table>\n",
       "</div>"
      ],
      "text/plain": [
       "          id    f0    f1    f2  product\n",
       "931    HZww2  0.76  0.37  1.86    30.68\n",
       "1364   bxg6G  0.41  0.86 -3.65    73.60\n",
       "1949   QcMuo  0.51 -0.32 -2.22    75.50\n",
       "3389   A5aEY -0.04  0.16  0.21    89.25\n",
       "7530   HZww2  1.06 -0.37 10.43   158.83\n",
       "16633  fiKDv  0.16  1.03  5.59    95.82\n",
       "21426  Tdehs  0.83  0.30 -0.05    96.04\n",
       "41724  bxg6G -0.82  0.55  3.63    93.01\n",
       "42529  AGS9W  1.45 -0.48  0.68   126.37\n",
       "51970  A5aEY -0.18  0.94 -2.09    33.02\n",
       "60140  TtcGQ  0.57 -0.10  6.44    85.35\n",
       "63593  QcMuo  0.64 -0.47  0.86    64.58\n",
       "64022  74z30  0.74  0.46  5.15   140.77\n",
       "66136  74z30  1.08 -0.31  6.99   127.64\n",
       "69163  AGS9W -0.93  0.12 -3.66    19.23\n",
       "75715  Tdehs  0.11  0.43  3.22    60.96\n",
       "89582  bsk9y  0.40 -0.40 10.12   163.43\n",
       "90815  fiKDv  0.05  0.84  6.39   137.35\n",
       "92341  TtcGQ  0.11  1.02  0.91   101.32\n",
       "97785  bsk9y  0.38  0.01  0.16   160.64"
      ]
     },
     "execution_count": 29,
     "metadata": {},
     "output_type": "execute_result"
    }
   ],
   "source": [
    "geo_data_zero[geo_data_zero['id'].duplicated(keep=False)]"
   ]
  },
  {
   "cell_type": "markdown",
   "id": "32386a16",
   "metadata": {},
   "source": [
    "В условиях проекта указано что id-уникальный идентификатор скважины. Наблюдаем что значения всех других признаков по 4м дублирующимся id  отличаются. Возможно, что это повторные наблюдения по той же самой скважине (например через промежуток времени, либо наблюдения, предоставленные другим исполнителем). В любом случае т.к. записи не являются полными дублями удалять не будем."
   ]
  },
  {
   "cell_type": "code",
   "execution_count": 30,
   "id": "f0934c9d",
   "metadata": {},
   "outputs": [
    {
     "name": "stdout",
     "output_type": "stream",
     "text": [
      "Общая инфо:\n",
      "<class 'pandas.core.frame.DataFrame'>\n",
      "RangeIndex: 100000 entries, 0 to 99999\n",
      "Data columns (total 5 columns):\n",
      " #   Column   Non-Null Count   Dtype \n",
      "---  ------   --------------   ----- \n",
      " 0   id       100000 non-null  object\n",
      " 1   f0       100000 non-null  object\n",
      " 2   f1       100000 non-null  object\n",
      " 3   f2       100000 non-null  object\n",
      " 4   product  100000 non-null  object\n",
      "dtypes: object(5)\n",
      "memory usage: 3.8+ MB\n",
      "\n",
      "Проверка на наличие пропусков:\n",
      "Пропущенные значения в датафрейме отсутствуют.\n",
      "\n",
      "Проверка на наличие дубликатов:\n",
      "Явные дубликаты в датафрейме отсутствуют.\n"
     ]
    },
    {
     "data": {
      "text/html": [
       "<div>\n",
       "<style scoped>\n",
       "    .dataframe tbody tr th:only-of-type {\n",
       "        vertical-align: middle;\n",
       "    }\n",
       "\n",
       "    .dataframe tbody tr th {\n",
       "        vertical-align: top;\n",
       "    }\n",
       "\n",
       "    .dataframe thead th {\n",
       "        text-align: right;\n",
       "    }\n",
       "</style>\n",
       "<table border=\"1\" class=\"dataframe\">\n",
       "  <thead>\n",
       "    <tr style=\"text-align: right;\">\n",
       "      <th></th>\n",
       "      <th>id</th>\n",
       "      <th>f0</th>\n",
       "      <th>f1</th>\n",
       "      <th>f2</th>\n",
       "      <th>product</th>\n",
       "    </tr>\n",
       "  </thead>\n",
       "  <tbody>\n",
       "    <tr>\n",
       "      <th>0</th>\n",
       "      <td>kBEdx</td>\n",
       "      <td>-15.00134818249185</td>\n",
       "      <td>-8.275999947188001</td>\n",
       "      <td>-0.005876013693320655</td>\n",
       "      <td>3.179102583207246</td>\n",
       "    </tr>\n",
       "    <tr>\n",
       "      <th>1</th>\n",
       "      <td>62mP7</td>\n",
       "      <td>14.272087811011147</td>\n",
       "      <td>-3.47508321506002</td>\n",
       "      <td>0.9991827365665829</td>\n",
       "      <td>26.95326103153969</td>\n",
       "    </tr>\n",
       "    <tr>\n",
       "      <th>2</th>\n",
       "      <td>vyE1P</td>\n",
       "      <td>6.263187352448809</td>\n",
       "      <td>-5.948385788285711</td>\n",
       "      <td>5.001160160764809</td>\n",
       "      <td>134.76630515769844</td>\n",
       "    </tr>\n",
       "    <tr>\n",
       "      <th>3</th>\n",
       "      <td>KcrkZ</td>\n",
       "      <td>-13.081196289023516</td>\n",
       "      <td>-11.506056864519605</td>\n",
       "      <td>4.999414898074921</td>\n",
       "      <td>137.94540774090564</td>\n",
       "    </tr>\n",
       "    <tr>\n",
       "      <th>4</th>\n",
       "      <td>AHL4O</td>\n",
       "      <td>12.702194885533585</td>\n",
       "      <td>-8.147433374146587</td>\n",
       "      <td>5.00436255224226</td>\n",
       "      <td>134.76630515769844</td>\n",
       "    </tr>\n",
       "  </tbody>\n",
       "</table>\n",
       "</div>"
      ],
      "text/plain": [
       "      id                   f0                   f1                     f2  \\\n",
       "0  kBEdx   -15.00134818249185   -8.275999947188001  -0.005876013693320655   \n",
       "1  62mP7   14.272087811011147    -3.47508321506002     0.9991827365665829   \n",
       "2  vyE1P    6.263187352448809   -5.948385788285711      5.001160160764809   \n",
       "3  KcrkZ  -13.081196289023516  -11.506056864519605      4.999414898074921   \n",
       "4  AHL4O   12.702194885533585   -8.147433374146587       5.00436255224226   \n",
       "\n",
       "              product  \n",
       "0   3.179102583207246  \n",
       "1   26.95326103153969  \n",
       "2  134.76630515769844  \n",
       "3  137.94540774090564  \n",
       "4  134.76630515769844  "
      ]
     },
     "metadata": {},
     "output_type": "display_data"
    }
   ],
   "source": [
    "check_df(geo_data_one)"
   ]
  },
  {
   "cell_type": "code",
   "execution_count": 31,
   "id": "c9914508",
   "metadata": {},
   "outputs": [],
   "source": [
    "# Переведем значения признаков в формат float\n",
    "for column in num_coll_list:\n",
    "    geo_data_one[column] = pd.to_numeric(geo_data_one[column], errors='coerce')"
   ]
  },
  {
   "cell_type": "code",
   "execution_count": 32,
   "id": "a0469d5a",
   "metadata": {},
   "outputs": [
    {
     "name": "stdout",
     "output_type": "stream",
     "text": [
      "Общая инфо:\n",
      "<class 'pandas.core.frame.DataFrame'>\n",
      "RangeIndex: 100000 entries, 0 to 99999\n",
      "Data columns (total 5 columns):\n",
      " #   Column   Non-Null Count   Dtype  \n",
      "---  ------   --------------   -----  \n",
      " 0   id       100000 non-null  object \n",
      " 1   f0       100000 non-null  float64\n",
      " 2   f1       100000 non-null  float64\n",
      " 3   f2       100000 non-null  float64\n",
      " 4   product  100000 non-null  float64\n",
      "dtypes: float64(4), object(1)\n",
      "memory usage: 3.8+ MB\n",
      "\n",
      "Проверка на наличие пропусков:\n",
      "Пропущенные значения в датафрейме отсутствуют.\n",
      "\n",
      "Проверка на наличие дубликатов:\n",
      "Явные дубликаты в датафрейме отсутствуют.\n"
     ]
    },
    {
     "data": {
      "text/html": [
       "<div>\n",
       "<style scoped>\n",
       "    .dataframe tbody tr th:only-of-type {\n",
       "        vertical-align: middle;\n",
       "    }\n",
       "\n",
       "    .dataframe tbody tr th {\n",
       "        vertical-align: top;\n",
       "    }\n",
       "\n",
       "    .dataframe thead th {\n",
       "        text-align: right;\n",
       "    }\n",
       "</style>\n",
       "<table border=\"1\" class=\"dataframe\">\n",
       "  <thead>\n",
       "    <tr style=\"text-align: right;\">\n",
       "      <th></th>\n",
       "      <th>id</th>\n",
       "      <th>f0</th>\n",
       "      <th>f1</th>\n",
       "      <th>f2</th>\n",
       "      <th>product</th>\n",
       "    </tr>\n",
       "  </thead>\n",
       "  <tbody>\n",
       "    <tr>\n",
       "      <th>0</th>\n",
       "      <td>kBEdx</td>\n",
       "      <td>-15.00</td>\n",
       "      <td>-8.28</td>\n",
       "      <td>-0.01</td>\n",
       "      <td>3.18</td>\n",
       "    </tr>\n",
       "    <tr>\n",
       "      <th>1</th>\n",
       "      <td>62mP7</td>\n",
       "      <td>14.27</td>\n",
       "      <td>-3.48</td>\n",
       "      <td>1.00</td>\n",
       "      <td>26.95</td>\n",
       "    </tr>\n",
       "    <tr>\n",
       "      <th>2</th>\n",
       "      <td>vyE1P</td>\n",
       "      <td>6.26</td>\n",
       "      <td>-5.95</td>\n",
       "      <td>5.00</td>\n",
       "      <td>134.77</td>\n",
       "    </tr>\n",
       "    <tr>\n",
       "      <th>3</th>\n",
       "      <td>KcrkZ</td>\n",
       "      <td>-13.08</td>\n",
       "      <td>-11.51</td>\n",
       "      <td>5.00</td>\n",
       "      <td>137.95</td>\n",
       "    </tr>\n",
       "    <tr>\n",
       "      <th>4</th>\n",
       "      <td>AHL4O</td>\n",
       "      <td>12.70</td>\n",
       "      <td>-8.15</td>\n",
       "      <td>5.00</td>\n",
       "      <td>134.77</td>\n",
       "    </tr>\n",
       "  </tbody>\n",
       "</table>\n",
       "</div>"
      ],
      "text/plain": [
       "      id     f0     f1    f2  product\n",
       "0  kBEdx -15.00  -8.28 -0.01     3.18\n",
       "1  62mP7  14.27  -3.48  1.00    26.95\n",
       "2  vyE1P   6.26  -5.95  5.00   134.77\n",
       "3  KcrkZ -13.08 -11.51  5.00   137.95\n",
       "4  AHL4O  12.70  -8.15  5.00   134.77"
      ]
     },
     "metadata": {},
     "output_type": "display_data"
    }
   ],
   "source": [
    "check_df(geo_data_one)"
   ]
  },
  {
   "cell_type": "code",
   "execution_count": 33,
   "id": "48aa4694",
   "metadata": {},
   "outputs": [
    {
     "data": {
      "text/plain": [
       "4"
      ]
     },
     "execution_count": 33,
     "metadata": {},
     "output_type": "execute_result"
    }
   ],
   "source": [
    "geo_data_one.id.duplicated().sum()"
   ]
  },
  {
   "cell_type": "code",
   "execution_count": 34,
   "id": "694e5ec9",
   "metadata": {},
   "outputs": [
    {
     "data": {
      "text/html": [
       "<div>\n",
       "<style scoped>\n",
       "    .dataframe tbody tr th:only-of-type {\n",
       "        vertical-align: middle;\n",
       "    }\n",
       "\n",
       "    .dataframe tbody tr th {\n",
       "        vertical-align: top;\n",
       "    }\n",
       "\n",
       "    .dataframe thead th {\n",
       "        text-align: right;\n",
       "    }\n",
       "</style>\n",
       "<table border=\"1\" class=\"dataframe\">\n",
       "  <thead>\n",
       "    <tr style=\"text-align: right;\">\n",
       "      <th></th>\n",
       "      <th>id</th>\n",
       "      <th>f0</th>\n",
       "      <th>f1</th>\n",
       "      <th>f2</th>\n",
       "      <th>product</th>\n",
       "    </tr>\n",
       "  </thead>\n",
       "  <tbody>\n",
       "    <tr>\n",
       "      <th>1305</th>\n",
       "      <td>LHZR0</td>\n",
       "      <td>11.17</td>\n",
       "      <td>-1.95</td>\n",
       "      <td>3.00</td>\n",
       "      <td>80.86</td>\n",
       "    </tr>\n",
       "    <tr>\n",
       "      <th>2721</th>\n",
       "      <td>bfPNe</td>\n",
       "      <td>-9.49</td>\n",
       "      <td>-5.46</td>\n",
       "      <td>4.01</td>\n",
       "      <td>110.99</td>\n",
       "    </tr>\n",
       "    <tr>\n",
       "      <th>5849</th>\n",
       "      <td>5ltQ6</td>\n",
       "      <td>-3.44</td>\n",
       "      <td>-12.30</td>\n",
       "      <td>2.00</td>\n",
       "      <td>57.09</td>\n",
       "    </tr>\n",
       "    <tr>\n",
       "      <th>41906</th>\n",
       "      <td>LHZR0</td>\n",
       "      <td>-8.99</td>\n",
       "      <td>-4.29</td>\n",
       "      <td>2.01</td>\n",
       "      <td>57.09</td>\n",
       "    </tr>\n",
       "    <tr>\n",
       "      <th>47591</th>\n",
       "      <td>wt4Uk</td>\n",
       "      <td>-9.09</td>\n",
       "      <td>-8.11</td>\n",
       "      <td>-0.00</td>\n",
       "      <td>3.18</td>\n",
       "    </tr>\n",
       "    <tr>\n",
       "      <th>82178</th>\n",
       "      <td>bfPNe</td>\n",
       "      <td>-6.20</td>\n",
       "      <td>-4.82</td>\n",
       "      <td>3.00</td>\n",
       "      <td>84.04</td>\n",
       "    </tr>\n",
       "    <tr>\n",
       "      <th>82873</th>\n",
       "      <td>wt4Uk</td>\n",
       "      <td>10.26</td>\n",
       "      <td>-9.38</td>\n",
       "      <td>4.99</td>\n",
       "      <td>134.77</td>\n",
       "    </tr>\n",
       "    <tr>\n",
       "      <th>84461</th>\n",
       "      <td>5ltQ6</td>\n",
       "      <td>18.21</td>\n",
       "      <td>2.19</td>\n",
       "      <td>3.99</td>\n",
       "      <td>107.81</td>\n",
       "    </tr>\n",
       "  </tbody>\n",
       "</table>\n",
       "</div>"
      ],
      "text/plain": [
       "          id    f0     f1    f2  product\n",
       "1305   LHZR0 11.17  -1.95  3.00    80.86\n",
       "2721   bfPNe -9.49  -5.46  4.01   110.99\n",
       "5849   5ltQ6 -3.44 -12.30  2.00    57.09\n",
       "41906  LHZR0 -8.99  -4.29  2.01    57.09\n",
       "47591  wt4Uk -9.09  -8.11 -0.00     3.18\n",
       "82178  bfPNe -6.20  -4.82  3.00    84.04\n",
       "82873  wt4Uk 10.26  -9.38  4.99   134.77\n",
       "84461  5ltQ6 18.21   2.19  3.99   107.81"
      ]
     },
     "execution_count": 34,
     "metadata": {},
     "output_type": "execute_result"
    }
   ],
   "source": [
    "geo_data_one[geo_data_one.id.duplicated(keep=False)]"
   ]
  },
  {
   "cell_type": "code",
   "execution_count": 35,
   "id": "b6703e70",
   "metadata": {},
   "outputs": [
    {
     "name": "stdout",
     "output_type": "stream",
     "text": [
      "Общая инфо:\n",
      "<class 'pandas.core.frame.DataFrame'>\n",
      "RangeIndex: 100000 entries, 0 to 99999\n",
      "Data columns (total 5 columns):\n",
      " #   Column   Non-Null Count   Dtype \n",
      "---  ------   --------------   ----- \n",
      " 0   id       100000 non-null  object\n",
      " 1   f0       100000 non-null  object\n",
      " 2   f1       100000 non-null  object\n",
      " 3   f2       100000 non-null  object\n",
      " 4   product  100000 non-null  object\n",
      "dtypes: object(5)\n",
      "memory usage: 3.8+ MB\n",
      "\n",
      "Проверка на наличие пропусков:\n",
      "Пропущенные значения в датафрейме отсутствуют.\n",
      "\n",
      "Проверка на наличие дубликатов:\n",
      "Явные дубликаты в датафрейме отсутствуют.\n"
     ]
    },
    {
     "data": {
      "text/html": [
       "<div>\n",
       "<style scoped>\n",
       "    .dataframe tbody tr th:only-of-type {\n",
       "        vertical-align: middle;\n",
       "    }\n",
       "\n",
       "    .dataframe tbody tr th {\n",
       "        vertical-align: top;\n",
       "    }\n",
       "\n",
       "    .dataframe thead th {\n",
       "        text-align: right;\n",
       "    }\n",
       "</style>\n",
       "<table border=\"1\" class=\"dataframe\">\n",
       "  <thead>\n",
       "    <tr style=\"text-align: right;\">\n",
       "      <th></th>\n",
       "      <th>id</th>\n",
       "      <th>f0</th>\n",
       "      <th>f1</th>\n",
       "      <th>f2</th>\n",
       "      <th>product</th>\n",
       "    </tr>\n",
       "  </thead>\n",
       "  <tbody>\n",
       "    <tr>\n",
       "      <th>0</th>\n",
       "      <td>fwXo0</td>\n",
       "      <td>-1.1469870984179529</td>\n",
       "      <td>0.9633279217162892</td>\n",
       "      <td>-0.8289649221710994</td>\n",
       "      <td>27.758673230730036</td>\n",
       "    </tr>\n",
       "    <tr>\n",
       "      <th>1</th>\n",
       "      <td>WJtFt</td>\n",
       "      <td>0.2627779016539684</td>\n",
       "      <td>0.2698389572803021</td>\n",
       "      <td>-2.530186515492004</td>\n",
       "      <td>56.06969663239464</td>\n",
       "    </tr>\n",
       "    <tr>\n",
       "      <th>2</th>\n",
       "      <td>ovLUW</td>\n",
       "      <td>0.19458728165865746</td>\n",
       "      <td>0.2890350017576741</td>\n",
       "      <td>-5.586432770903118</td>\n",
       "      <td>62.87191004763475</td>\n",
       "    </tr>\n",
       "    <tr>\n",
       "      <th>3</th>\n",
       "      <td>q6cA6</td>\n",
       "      <td>2.2360596126935817</td>\n",
       "      <td>-0.5537598999099264</td>\n",
       "      <td>0.930037615920042</td>\n",
       "      <td>114.57284166750858</td>\n",
       "    </tr>\n",
       "    <tr>\n",
       "      <th>4</th>\n",
       "      <td>WPMUX</td>\n",
       "      <td>-0.5159928644136754</td>\n",
       "      <td>1.7162655596688288</td>\n",
       "      <td>5.899011469346728</td>\n",
       "      <td>149.60074591275887</td>\n",
       "    </tr>\n",
       "  </tbody>\n",
       "</table>\n",
       "</div>"
      ],
      "text/plain": [
       "      id                   f0                   f1                   f2  \\\n",
       "0  fwXo0  -1.1469870984179529   0.9633279217162892  -0.8289649221710994   \n",
       "1  WJtFt   0.2627779016539684   0.2698389572803021   -2.530186515492004   \n",
       "2  ovLUW  0.19458728165865746   0.2890350017576741   -5.586432770903118   \n",
       "3  q6cA6   2.2360596126935817  -0.5537598999099264    0.930037615920042   \n",
       "4  WPMUX  -0.5159928644136754   1.7162655596688288    5.899011469346728   \n",
       "\n",
       "              product  \n",
       "0  27.758673230730036  \n",
       "1   56.06969663239464  \n",
       "2   62.87191004763475  \n",
       "3  114.57284166750858  \n",
       "4  149.60074591275887  "
      ]
     },
     "metadata": {},
     "output_type": "display_data"
    }
   ],
   "source": [
    "check_df(geo_data_two)"
   ]
  },
  {
   "cell_type": "code",
   "execution_count": 36,
   "id": "72799599",
   "metadata": {},
   "outputs": [],
   "source": [
    "# Переведем значения признаков в формат float\n",
    "for column in num_coll_list:\n",
    "    geo_data_two[column] = pd.to_numeric(geo_data_two[column], errors='coerce')"
   ]
  },
  {
   "cell_type": "code",
   "execution_count": 37,
   "id": "32589212",
   "metadata": {},
   "outputs": [
    {
     "name": "stdout",
     "output_type": "stream",
     "text": [
      "Общая инфо:\n",
      "<class 'pandas.core.frame.DataFrame'>\n",
      "RangeIndex: 100000 entries, 0 to 99999\n",
      "Data columns (total 5 columns):\n",
      " #   Column   Non-Null Count   Dtype  \n",
      "---  ------   --------------   -----  \n",
      " 0   id       100000 non-null  object \n",
      " 1   f0       100000 non-null  float64\n",
      " 2   f1       100000 non-null  float64\n",
      " 3   f2       100000 non-null  float64\n",
      " 4   product  100000 non-null  float64\n",
      "dtypes: float64(4), object(1)\n",
      "memory usage: 3.8+ MB\n",
      "\n",
      "Проверка на наличие пропусков:\n",
      "Пропущенные значения в датафрейме отсутствуют.\n",
      "\n",
      "Проверка на наличие дубликатов:\n",
      "Явные дубликаты в датафрейме отсутствуют.\n"
     ]
    },
    {
     "data": {
      "text/html": [
       "<div>\n",
       "<style scoped>\n",
       "    .dataframe tbody tr th:only-of-type {\n",
       "        vertical-align: middle;\n",
       "    }\n",
       "\n",
       "    .dataframe tbody tr th {\n",
       "        vertical-align: top;\n",
       "    }\n",
       "\n",
       "    .dataframe thead th {\n",
       "        text-align: right;\n",
       "    }\n",
       "</style>\n",
       "<table border=\"1\" class=\"dataframe\">\n",
       "  <thead>\n",
       "    <tr style=\"text-align: right;\">\n",
       "      <th></th>\n",
       "      <th>id</th>\n",
       "      <th>f0</th>\n",
       "      <th>f1</th>\n",
       "      <th>f2</th>\n",
       "      <th>product</th>\n",
       "    </tr>\n",
       "  </thead>\n",
       "  <tbody>\n",
       "    <tr>\n",
       "      <th>0</th>\n",
       "      <td>fwXo0</td>\n",
       "      <td>-1.15</td>\n",
       "      <td>0.96</td>\n",
       "      <td>-0.83</td>\n",
       "      <td>27.76</td>\n",
       "    </tr>\n",
       "    <tr>\n",
       "      <th>1</th>\n",
       "      <td>WJtFt</td>\n",
       "      <td>0.26</td>\n",
       "      <td>0.27</td>\n",
       "      <td>-2.53</td>\n",
       "      <td>56.07</td>\n",
       "    </tr>\n",
       "    <tr>\n",
       "      <th>2</th>\n",
       "      <td>ovLUW</td>\n",
       "      <td>0.19</td>\n",
       "      <td>0.29</td>\n",
       "      <td>-5.59</td>\n",
       "      <td>62.87</td>\n",
       "    </tr>\n",
       "    <tr>\n",
       "      <th>3</th>\n",
       "      <td>q6cA6</td>\n",
       "      <td>2.24</td>\n",
       "      <td>-0.55</td>\n",
       "      <td>0.93</td>\n",
       "      <td>114.57</td>\n",
       "    </tr>\n",
       "    <tr>\n",
       "      <th>4</th>\n",
       "      <td>WPMUX</td>\n",
       "      <td>-0.52</td>\n",
       "      <td>1.72</td>\n",
       "      <td>5.90</td>\n",
       "      <td>149.60</td>\n",
       "    </tr>\n",
       "  </tbody>\n",
       "</table>\n",
       "</div>"
      ],
      "text/plain": [
       "      id    f0    f1    f2  product\n",
       "0  fwXo0 -1.15  0.96 -0.83    27.76\n",
       "1  WJtFt  0.26  0.27 -2.53    56.07\n",
       "2  ovLUW  0.19  0.29 -5.59    62.87\n",
       "3  q6cA6  2.24 -0.55  0.93   114.57\n",
       "4  WPMUX -0.52  1.72  5.90   149.60"
      ]
     },
     "metadata": {},
     "output_type": "display_data"
    }
   ],
   "source": [
    "check_df(geo_data_two)"
   ]
  },
  {
   "cell_type": "code",
   "execution_count": 38,
   "id": "81d33ee6",
   "metadata": {},
   "outputs": [
    {
     "data": {
      "text/plain": [
       "4"
      ]
     },
     "execution_count": 38,
     "metadata": {},
     "output_type": "execute_result"
    }
   ],
   "source": [
    "# Проверим на наличие дубликатов в id\n",
    "geo_data_two['id'].duplicated().sum()"
   ]
  },
  {
   "cell_type": "code",
   "execution_count": 39,
   "id": "0815b2d6",
   "metadata": {
    "scrolled": true
   },
   "outputs": [
    {
     "data": {
      "text/html": [
       "<div>\n",
       "<style scoped>\n",
       "    .dataframe tbody tr th:only-of-type {\n",
       "        vertical-align: middle;\n",
       "    }\n",
       "\n",
       "    .dataframe tbody tr th {\n",
       "        vertical-align: top;\n",
       "    }\n",
       "\n",
       "    .dataframe thead th {\n",
       "        text-align: right;\n",
       "    }\n",
       "</style>\n",
       "<table border=\"1\" class=\"dataframe\">\n",
       "  <thead>\n",
       "    <tr style=\"text-align: right;\">\n",
       "      <th></th>\n",
       "      <th>id</th>\n",
       "      <th>f0</th>\n",
       "      <th>f1</th>\n",
       "      <th>f2</th>\n",
       "      <th>product</th>\n",
       "    </tr>\n",
       "  </thead>\n",
       "  <tbody>\n",
       "    <tr>\n",
       "      <th>11449</th>\n",
       "      <td>VF7Jo</td>\n",
       "      <td>2.12</td>\n",
       "      <td>-0.86</td>\n",
       "      <td>5.75</td>\n",
       "      <td>181.72</td>\n",
       "    </tr>\n",
       "    <tr>\n",
       "      <th>28039</th>\n",
       "      <td>xCHr8</td>\n",
       "      <td>1.63</td>\n",
       "      <td>0.37</td>\n",
       "      <td>-2.38</td>\n",
       "      <td>6.12</td>\n",
       "    </tr>\n",
       "    <tr>\n",
       "      <th>43233</th>\n",
       "      <td>xCHr8</td>\n",
       "      <td>-0.85</td>\n",
       "      <td>2.10</td>\n",
       "      <td>5.60</td>\n",
       "      <td>184.39</td>\n",
       "    </tr>\n",
       "    <tr>\n",
       "      <th>44378</th>\n",
       "      <td>Vcm5J</td>\n",
       "      <td>-1.23</td>\n",
       "      <td>-2.44</td>\n",
       "      <td>1.22</td>\n",
       "      <td>137.97</td>\n",
       "    </tr>\n",
       "    <tr>\n",
       "      <th>45404</th>\n",
       "      <td>KUPhW</td>\n",
       "      <td>0.23</td>\n",
       "      <td>-1.70</td>\n",
       "      <td>4.99</td>\n",
       "      <td>11.72</td>\n",
       "    </tr>\n",
       "    <tr>\n",
       "      <th>49564</th>\n",
       "      <td>VF7Jo</td>\n",
       "      <td>-0.88</td>\n",
       "      <td>0.56</td>\n",
       "      <td>0.72</td>\n",
       "      <td>136.23</td>\n",
       "    </tr>\n",
       "    <tr>\n",
       "      <th>55967</th>\n",
       "      <td>KUPhW</td>\n",
       "      <td>1.21</td>\n",
       "      <td>3.18</td>\n",
       "      <td>5.54</td>\n",
       "      <td>132.83</td>\n",
       "    </tr>\n",
       "    <tr>\n",
       "      <th>95090</th>\n",
       "      <td>Vcm5J</td>\n",
       "      <td>2.59</td>\n",
       "      <td>1.99</td>\n",
       "      <td>2.48</td>\n",
       "      <td>92.33</td>\n",
       "    </tr>\n",
       "  </tbody>\n",
       "</table>\n",
       "</div>"
      ],
      "text/plain": [
       "          id    f0    f1    f2  product\n",
       "11449  VF7Jo  2.12 -0.86  5.75   181.72\n",
       "28039  xCHr8  1.63  0.37 -2.38     6.12\n",
       "43233  xCHr8 -0.85  2.10  5.60   184.39\n",
       "44378  Vcm5J -1.23 -2.44  1.22   137.97\n",
       "45404  KUPhW  0.23 -1.70  4.99    11.72\n",
       "49564  VF7Jo -0.88  0.56  0.72   136.23\n",
       "55967  KUPhW  1.21  3.18  5.54   132.83\n",
       "95090  Vcm5J  2.59  1.99  2.48    92.33"
      ]
     },
     "execution_count": 39,
     "metadata": {},
     "output_type": "execute_result"
    }
   ],
   "source": [
    "geo_data_two[geo_data_two['id'].duplicated(keep=False)]"
   ]
  },
  {
   "cell_type": "markdown",
   "id": "2559939b",
   "metadata": {},
   "source": [
    "В условиях проекта указано что id-уникальный идентификатор скважины. Наблюдаем что значения всех других признаков по 4м дублирующимся id  отличаются. Возможно, что это повторные наблюдения по той же самой скважине (например через промежуток времени, либо наблюдения, предоставленные другим исполнителем). В любом случае т.к. записи не являются полными дублями удалять не будем."
   ]
  },
  {
   "cell_type": "code",
   "execution_count": 40,
   "id": "ee3f02de",
   "metadata": {},
   "outputs": [
    {
     "data": {
      "text/html": [
       "<div>\n",
       "<style scoped>\n",
       "    .dataframe tbody tr th:only-of-type {\n",
       "        vertical-align: middle;\n",
       "    }\n",
       "\n",
       "    .dataframe tbody tr th {\n",
       "        vertical-align: top;\n",
       "    }\n",
       "\n",
       "    .dataframe thead th {\n",
       "        text-align: right;\n",
       "    }\n",
       "</style>\n",
       "<table border=\"1\" class=\"dataframe\">\n",
       "  <thead>\n",
       "    <tr style=\"text-align: right;\">\n",
       "      <th></th>\n",
       "      <th>id</th>\n",
       "      <th>f0</th>\n",
       "      <th>f1</th>\n",
       "      <th>f2</th>\n",
       "      <th>product</th>\n",
       "    </tr>\n",
       "  </thead>\n",
       "  <tbody>\n",
       "    <tr>\n",
       "      <th>43233</th>\n",
       "      <td>xCHr8</td>\n",
       "      <td>-0.85</td>\n",
       "      <td>2.10</td>\n",
       "      <td>5.60</td>\n",
       "      <td>184.39</td>\n",
       "    </tr>\n",
       "    <tr>\n",
       "      <th>49564</th>\n",
       "      <td>VF7Jo</td>\n",
       "      <td>-0.88</td>\n",
       "      <td>0.56</td>\n",
       "      <td>0.72</td>\n",
       "      <td>136.23</td>\n",
       "    </tr>\n",
       "    <tr>\n",
       "      <th>55967</th>\n",
       "      <td>KUPhW</td>\n",
       "      <td>1.21</td>\n",
       "      <td>3.18</td>\n",
       "      <td>5.54</td>\n",
       "      <td>132.83</td>\n",
       "    </tr>\n",
       "    <tr>\n",
       "      <th>95090</th>\n",
       "      <td>Vcm5J</td>\n",
       "      <td>2.59</td>\n",
       "      <td>1.99</td>\n",
       "      <td>2.48</td>\n",
       "      <td>92.33</td>\n",
       "    </tr>\n",
       "  </tbody>\n",
       "</table>\n",
       "</div>"
      ],
      "text/plain": [
       "          id    f0   f1   f2  product\n",
       "43233  xCHr8 -0.85 2.10 5.60   184.39\n",
       "49564  VF7Jo -0.88 0.56 0.72   136.23\n",
       "55967  KUPhW  1.21 3.18 5.54   132.83\n",
       "95090  Vcm5J  2.59 1.99 2.48    92.33"
      ]
     },
     "execution_count": 40,
     "metadata": {},
     "output_type": "execute_result"
    }
   ],
   "source": [
    "geo_data_two[geo_data_two['id'].duplicated()]"
   ]
  },
  {
   "cell_type": "markdown",
   "id": "13edf549",
   "metadata": {},
   "source": [
    "Итого по разделу:\n",
    "1. Данные загружены, признаки и их значения соответствуют описанию\n",
    "2. Датафреймы проверены на наличие явных дубликатов и пропусков\n",
    "3. Типы данных приведены в соответствие.\n",
    "4. Определены дубликаты по id"
   ]
  },
  {
   "cell_type": "markdown",
   "id": "85fb86eb",
   "metadata": {},
   "source": [
    "## Исследовательский анализ данных (доп раздел).  "
   ]
  },
  {
   "cell_type": "markdown",
   "id": "c2f656fe",
   "metadata": {},
   "source": [
    "### Статистический анализ"
   ]
  },
  {
   "cell_type": "code",
   "execution_count": 41,
   "id": "04b511ce",
   "metadata": {},
   "outputs": [],
   "source": [
    "# Создадим функцию для визуализации диаграмм размаха.\n",
    "def plot_boxplot(data, column_name):\n",
    "    plt.figure(figsize=(14, 3))  # Задаем размер фигуры\n",
    "    sns.boxplot(data=data, x=column_name, showmeans=True)  # Строим диаграмму расмаха с указанием среднего значения\n",
    "    plt.title(f'Диаграмма размаха для признака \"{column_name}\"')  # Заголовок графика\n",
    "    plt.xlabel(column_name)  # Подпись оси X\n",
    "    plt.show() "
   ]
  },
  {
   "cell_type": "code",
   "execution_count": 42,
   "id": "7e275e3a",
   "metadata": {},
   "outputs": [],
   "source": [
    "# Создадим функцию для интерпретации стат данных.\n",
    "def interpret_boxplot(data, column_name):\n",
    "    \"\"\"\n",
    "    Расчитывает и выводит стат показатели\n",
    "    Параметры:\n",
    "    df (df, название столбца): .\n",
    "    \n",
    "    Выводит:\n",
    "    - Значений выходящих за доверительные интервалы,\n",
    "    - 25% значений до Q1\n",
    "    - 50% значений до Q1-Q3,\n",
    "    - 25% значений превышают Q3\n",
    "    - Медиана\n",
    "    - Среднее\n",
    "    \"\"\"\n",
    "    # Вычисляем квартили и межквартильный размах\n",
    "    Q1 = data[column_name].quantile(0.25)\n",
    "    Q3 = data[column_name].quantile(0.75)\n",
    "    IQR = Q3 - Q1\n",
    "    median = data[column_name].median()\n",
    "    mean = data[column_name].mean()\n",
    "    \n",
    "    # Определяем границы усов (выбросы могут находиться за этими границами)\n",
    "    lower_bound = Q1 - 1.5 * IQR\n",
    "    upper_bound = Q3 + 1.5 * IQR\n",
    "    \n",
    "    # Проверяем наличие выбросов\n",
    "    outliers_exist = ((data[column_name] < lower_bound) | (data[column_name] > upper_bound)).any()\n",
    "    outliers_message = \"есть\" if outliers_exist else \"нет\"\n",
    "    \n",
    "    # Выводим результаты\n",
    "    print(f\"Статистический анализ признака:\")\n",
    "    print(f\"1. Значений выходящих за доверительные интервалы {outliers_message}.\")\n",
    "    print(f\"2. 25% значений '{column_name}' - до {Q1}.\")\n",
    "    print(f\"3. 50% значений '{column_name}' в диапазоне от {Q1} до {Q3}.\")\n",
    "    print(f\"4. 25% значений '{column_name}' превышают {Q3}.\")\n",
    "    print(f\"5. Медиана {round(median, 2)}\")\n",
    "    print(f\"6. Среднее {round(mean, 2)}\")"
   ]
  },
  {
   "cell_type": "code",
   "execution_count": 43,
   "id": "da638e98",
   "metadata": {},
   "outputs": [],
   "source": [
    "#Создадим функцию для построения диграмм размаха в разрезе числовых признаков\n",
    "def num_coll_boxplot(df):\n",
    "    num_coll_list = df.select_dtypes(include='number').columns.tolist()\n",
    "    print('Стат анализ числовых признаков:', num_coll_list)\n",
    "    for i in num_coll_list:\n",
    "        box_plot_constuction = plot_boxplot(df, i)\n",
    "        description = interpret_boxplot(df, i)\n",
    "        describe = df[i].describe()\n",
    "        print(box_plot_constuction)\n",
    "        print(description)"
   ]
  },
  {
   "cell_type": "code",
   "execution_count": 44,
   "id": "a414fe6b",
   "metadata": {},
   "outputs": [],
   "source": [
    "#Создадим функцию для построения сводных таблиц в разрезе категориальных признаков\n",
    "def cal_coll_pivot(df):\n",
    "    cat_column_list = df.select_dtypes(exclude='number').columns.tolist()\n",
    "    print('Анализ категориальных признаков:', cat_column_list)\n",
    "    for i in cat_column_list:\n",
    "        pivot_table = df.pivot_table(index=i, values='id', aggfunc='count', margins=True, margins_name='Итого')\n",
    "        print(f\"\\nСводная таблица по признаку {i}:\\n{pivot_table}\\n\")"
   ]
  },
  {
   "cell_type": "code",
   "execution_count": 45,
   "id": "a1fd964b",
   "metadata": {
    "scrolled": false
   },
   "outputs": [
    {
     "name": "stdout",
     "output_type": "stream",
     "text": [
      "Стат анализ числовых признаков: ['f0', 'f1', 'f2', 'product']\n"
     ]
    },
    {
     "data": {
      "image/png": "[encoded data removed]",
      "text/plain": [
       "<Figure size 1008x216 with 1 Axes>"
      ]
     },
     "metadata": {
      "needs_background": "light"
     },
     "output_type": "display_data"
    },
    {
     "name": "stdout",
     "output_type": "stream",
     "text": [
      "Статистический анализ признака:\n",
      "1. Значений выходящих за доверительные интервалы нет.\n",
      "2. 25% значений 'f0' - до -0.07258042446404508.\n",
      "3. 50% значений 'f0' в диапазоне от -0.07258042446404508 до 1.073581404917224.\n",
      "4. 25% значений 'f0' превышают 1.073581404917224.\n",
      "5. Медиана 0.5\n",
      "6. Среднее 0.5\n",
      "None\n",
      "None\n"
     ]
    },
    {
     "data": {
      "image/png": "[encoded data removed]",
      "text/plain": [
       "<Figure size 1008x216 with 1 Axes>"
      ]
     },
     "metadata": {
      "needs_background": "light"
     },
     "output_type": "display_data"
    },
    {
     "name": "stdout",
     "output_type": "stream",
     "text": [
      "Статистический анализ признака:\n",
      "1. Значений выходящих за доверительные интервалы нет.\n",
      "2. 25% значений 'f1' - до -0.20088118576625755.\n",
      "3. 50% значений 'f1' в диапазоне от -0.20088118576625755 до 0.7006464043880118.\n",
      "4. 25% значений 'f1' превышают 0.7006464043880118.\n",
      "5. Медиана 0.25\n",
      "6. Среднее 0.25\n",
      "None\n",
      "None\n"
     ]
    },
    {
     "data": {
      "image/png": "[encoded data removed]",
      "text/plain": [
       "<Figure size 1008x216 with 1 Axes>"
      ]
     },
     "metadata": {
      "needs_background": "light"
     },
     "output_type": "display_data"
    },
    {
     "name": "stdout",
     "output_type": "stream",
     "text": [
      "Статистический анализ признака:\n",
      "1. Значений выходящих за доверительные интервалы есть.\n",
      "2. 25% значений 'f2' - до 0.28774815581444596.\n",
      "3. 50% значений 'f2' в диапазоне от 0.28774815581444596 до 4.715087898413286.\n",
      "4. 25% значений 'f2' превышают 4.715087898413286.\n",
      "5. Медиана 2.52\n",
      "6. Среднее 2.5\n",
      "None\n",
      "None\n"
     ]
    },
    {
     "data": {
      "image/png": "[encoded data removed]",
      "text/plain": [
       "<Figure size 1008x216 with 1 Axes>"
      ]
     },
     "metadata": {
      "needs_background": "light"
     },
     "output_type": "display_data"
    },
    {
     "name": "stdout",
     "output_type": "stream",
     "text": [
      "Статистический анализ признака:\n",
      "1. Значений выходящих за доверительные интервалы нет.\n",
      "2. 25% значений 'product' - до 56.49750665985803.\n",
      "3. 50% значений 'product' в диапазоне от 56.49750665985803 до 128.56408897150277.\n",
      "4. 25% значений 'product' превышают 128.56408897150277.\n",
      "5. Медиана 91.85\n",
      "6. Среднее 92.5\n",
      "None\n",
      "None\n"
     ]
    }
   ],
   "source": [
    "num_coll_boxplot(geo_data_zero)"
   ]
  },
  {
   "cell_type": "code",
   "execution_count": 46,
   "id": "0e7efc50",
   "metadata": {
    "scrolled": false
   },
   "outputs": [
    {
     "data": {
      "image/png": "[encoded data removed]",
      "text/plain": [
       "<Figure size 360x432 with 1 Axes>"
      ]
     },
     "metadata": {
      "needs_background": "light"
     },
     "output_type": "display_data"
    }
   ],
   "source": [
    "geo_data_zero.plot(y='product', kind='hist', grid=True, figsize=(5, 6),\n",
    "bins=100, ylim=(0, 2000), xlim=(0, 190), \n",
    "legend=False)\n",
    "plt.title('объём запасов в скважине (тыс. баррелей)')\n",
    "plt.ylabel('количество значений')\n",
    "plt.xlabel('оценка')\n",
    "plt.show()"
   ]
  },
  {
   "cell_type": "markdown",
   "id": "87d58ac2",
   "metadata": {},
   "source": [
    "Наблюдаем мультимодальное распределение (5 пиков), Это может указывать на то, что запасы оцениваются в определенных «стандартных» диапазонах."
   ]
  },
  {
   "cell_type": "code",
   "execution_count": 47,
   "id": "4f5fea5a",
   "metadata": {
    "scrolled": true
   },
   "outputs": [
    {
     "data": {
      "image/png": "[encoded data removed]",
      "text/plain": [
       "<Figure size 360x432 with 1 Axes>"
      ]
     },
     "metadata": {
      "needs_background": "light"
     },
     "output_type": "display_data"
    }
   ],
   "source": [
    "geo_data_zero.plot(y='f2', kind='hist', grid=True, figsize=(5, 6),\n",
    "bins=100, ylim=(0, 5000), xlim=(-15, 20), \n",
    "legend=False)\n",
    "plt.title('f2')\n",
    "plt.ylabel('количество значений')\n",
    "plt.xlabel('оценка')\n",
    "plt.show()"
   ]
  },
  {
   "cell_type": "code",
   "execution_count": 48,
   "id": "490e9160",
   "metadata": {},
   "outputs": [
    {
     "data": {
      "image/png": "[encoded data removed]",
      "text/plain": [
       "<Figure size 360x432 with 1 Axes>"
      ]
     },
     "metadata": {
      "needs_background": "light"
     },
     "output_type": "display_data"
    }
   ],
   "source": [
    "geo_data_zero.plot(y='f1', kind='hist', grid=True, figsize=(5, 6),\n",
    "bins=100, ylim=(0, 2000), xlim=(-1.5, 2.5), \n",
    "legend=False)\n",
    "plt.title('f1')\n",
    "plt.ylabel('количество значений')\n",
    "plt.xlabel('оценка')\n",
    "plt.show()"
   ]
  },
  {
   "cell_type": "markdown",
   "id": "2c33c7e7",
   "metadata": {},
   "source": [
    "Наблюдаем мультимодальное распределение (3 пика). Выглядит эпично ) "
   ]
  },
  {
   "cell_type": "code",
   "execution_count": 49,
   "id": "e7752d47",
   "metadata": {},
   "outputs": [
    {
     "data": {
      "image/png": "[encoded data removed]",
      "text/plain": [
       "<Figure size 360x432 with 1 Axes>"
      ]
     },
     "metadata": {
      "needs_background": "light"
     },
     "output_type": "display_data"
    }
   ],
   "source": [
    "geo_data_zero.plot(y='f0', kind='hist', grid=True, figsize=(5, 6),\n",
    "bins=100, ylim=(0, 2000), xlim=(-1.5, 2.5), \n",
    "legend=False)\n",
    "plt.title('f0')\n",
    "plt.ylabel('количество значений')\n",
    "plt.xlabel('оценка')\n",
    "plt.show()"
   ]
  },
  {
   "cell_type": "markdown",
   "id": "9d09a987",
   "metadata": {},
   "source": [
    "Наблюдаем мультимодальное распределение (4 пика). "
   ]
  },
  {
   "cell_type": "code",
   "execution_count": 50,
   "id": "622e5ad5",
   "metadata": {
    "scrolled": false
   },
   "outputs": [
    {
     "name": "stdout",
     "output_type": "stream",
     "text": [
      "Стат анализ числовых признаков: ['f0', 'f1', 'f2', 'product']\n"
     ]
    },
    {
     "data": {
      "image/png": "[encoded data removed]",
      "text/plain": [
       "<Figure size 1008x216 with 1 Axes>"
      ]
     },
     "metadata": {
      "needs_background": "light"
     },
     "output_type": "display_data"
    },
    {
     "name": "stdout",
     "output_type": "stream",
     "text": [
      "Статистический анализ признака:\n",
      "1. Значений выходящих за доверительные интервалы есть.\n",
      "2. 25% значений 'f0' - до -6.298551155177497.\n",
      "3. 50% значений 'f0' в диапазоне от -6.298551155177497 до 8.621015493890583.\n",
      "4. 25% значений 'f0' превышают 8.621015493890583.\n",
      "5. Медиана 1.15\n",
      "6. Среднее 1.14\n",
      "None\n",
      "None\n"
     ]
    },
    {
     "data": {
      "image/png": "[encoded data removed]",
      "text/plain": [
       "<Figure size 1008x216 with 1 Axes>"
      ]
     },
     "metadata": {
      "needs_background": "light"
     },
     "output_type": "display_data"
    },
    {
     "name": "stdout",
     "output_type": "stream",
     "text": [
      "Статистический анализ признака:\n",
      "1. Значений выходящих за доверительные интервалы есть.\n",
      "2. 25% значений 'f1' - до -8.26798483466915.\n",
      "3. 50% значений 'f1' в диапазоне от -8.26798483466915 до -1.3328160113936642.\n",
      "4. 25% значений 'f1' превышают -1.3328160113936642.\n",
      "5. Медиана -4.81\n",
      "6. Среднее -4.8\n",
      "None\n",
      "None\n"
     ]
    },
    {
     "data": {
      "image/png": "[encoded data removed]",
      "text/plain": [
       "<Figure size 1008x216 with 1 Axes>"
      ]
     },
     "metadata": {
      "needs_background": "light"
     },
     "output_type": "display_data"
    },
    {
     "name": "stdout",
     "output_type": "stream",
     "text": [
      "Статистический анализ признака:\n",
      "1. Значений выходящих за доверительные интервалы нет.\n",
      "2. 25% значений 'f2' - до 1.000021295032341.\n",
      "3. 50% значений 'f2' в диапазоне от 1.000021295032341 до 3.9999040665177663.\n",
      "4. 25% значений 'f2' превышают 3.9999040665177663.\n",
      "5. Медиана 2.01\n",
      "6. Среднее 2.49\n",
      "None\n",
      "None\n"
     ]
    },
    {
     "data": {
      "image/png": "[encoded data removed]",
      "text/plain": [
       "<Figure size 1008x216 with 1 Axes>"
      ]
     },
     "metadata": {
      "needs_background": "light"
     },
     "output_type": "display_data"
    },
    {
     "name": "stdout",
     "output_type": "stream",
     "text": [
      "Статистический анализ признака:\n",
      "1. Значений выходящих за доверительные интервалы нет.\n",
      "2. 25% значений 'product' - до 26.95326103153969.\n",
      "3. 50% значений 'product' в диапазоне от 26.95326103153969 до 107.81304412615876.\n",
      "4. 25% значений 'product' превышают 107.81304412615876.\n",
      "5. Медиана 57.09\n",
      "6. Среднее 68.83\n",
      "None\n",
      "None\n"
     ]
    }
   ],
   "source": [
    "num_coll_boxplot(geo_data_one)"
   ]
  },
  {
   "cell_type": "code",
   "execution_count": 51,
   "id": "51ec85e8",
   "metadata": {},
   "outputs": [
    {
     "data": {
      "image/png": "[encoded data removed]",
      "text/plain": [
       "<Figure size 360x432 with 1 Axes>"
      ]
     },
     "metadata": {
      "needs_background": "light"
     },
     "output_type": "display_data"
    }
   ],
   "source": [
    "geo_data_one.plot(y='f0', kind='hist', grid=True, figsize=(5, 6),\n",
    "bins=100, ylim=(0, 3000), xlim=(-40, 30), \n",
    "legend=False)\n",
    "plt.title('f0')\n",
    "plt.ylabel('количество значений')\n",
    "plt.xlabel('оценка')\n",
    "plt.show()"
   ]
  },
  {
   "cell_type": "markdown",
   "id": "cbf1155e",
   "metadata": {},
   "source": [
    "Наблюдаем бимодальное распределение"
   ]
  },
  {
   "cell_type": "code",
   "execution_count": 52,
   "id": "3469b18a",
   "metadata": {},
   "outputs": [
    {
     "data": {
      "image/png": "[encoded data removed]",
      "text/plain": [
       "<Figure size 360x432 with 1 Axes>"
      ]
     },
     "metadata": {
      "needs_background": "light"
     },
     "output_type": "display_data"
    }
   ],
   "source": [
    "geo_data_one.plot(y='f1', kind='hist', grid=True, figsize=(5, 6),\n",
    "bins=100, ylim=(0, 4000), xlim=(-30, 20), \n",
    "legend=False)\n",
    "plt.title('f1')\n",
    "plt.ylabel('количество значений')\n",
    "plt.xlabel('оценка')\n",
    "plt.show()"
   ]
  },
  {
   "cell_type": "markdown",
   "id": "f2e086cc",
   "metadata": {},
   "source": [
    "Наблюдает нормальное распределение."
   ]
  },
  {
   "cell_type": "code",
   "execution_count": 53,
   "id": "c46be5ad",
   "metadata": {},
   "outputs": [
    {
     "data": {
      "image/png": "[encoded data removed]",
      "text/plain": [
       "<Figure size 360x432 with 1 Axes>"
      ]
     },
     "metadata": {
      "needs_background": "light"
     },
     "output_type": "display_data"
    }
   ],
   "source": [
    "geo_data_one.plot(y='f2', kind='hist', grid=True, figsize=(5, 6),\n",
    "bins=20, ylim=(0, 20000), xlim=(0, 5), \n",
    "legend=False)\n",
    "plt.title('f2')\n",
    "plt.ylabel('количество значений')\n",
    "plt.xlabel('оценка')\n",
    "plt.show()"
   ]
  },
  {
   "cell_type": "markdown",
   "id": "3b0e7d03",
   "metadata": {},
   "source": [
    "Наблюдаем дискретные значения от 0 до 5 (вероятно категоризированные значения)"
   ]
  },
  {
   "cell_type": "code",
   "execution_count": 54,
   "id": "2e671313",
   "metadata": {
    "scrolled": false
   },
   "outputs": [
    {
     "data": {
      "image/png": "[encoded data removed]",
      "text/plain": [
       "<Figure size 360x432 with 1 Axes>"
      ]
     },
     "metadata": {
      "needs_background": "light"
     },
     "output_type": "display_data"
    }
   ],
   "source": [
    "geo_data_one.plot(y='product', kind='hist', grid=True, figsize=(5, 6),\n",
    "bins=50, ylim=(0, 10000), xlim=(0, 160), \n",
    "legend=False)\n",
    "plt.title('product')\n",
    "plt.ylabel('количество значений')\n",
    "plt.xlabel('оценка')\n",
    "plt.show()"
   ]
  },
  {
   "cell_type": "markdown",
   "id": "32d26f1f",
   "metadata": {},
   "source": [
    "Наблюдаем 6 дискретных значений от 0 до 140 (вероятно категоризированные значения)"
   ]
  },
  {
   "cell_type": "code",
   "execution_count": 55,
   "id": "c876280a",
   "metadata": {
    "scrolled": false
   },
   "outputs": [
    {
     "name": "stdout",
     "output_type": "stream",
     "text": [
      "Стат анализ числовых признаков: ['f0', 'f1', 'f2', 'product']\n"
     ]
    },
    {
     "data": {
      "image/png": "[encoded data removed]",
      "text/plain": [
       "<Figure size 1008x216 with 1 Axes>"
      ]
     },
     "metadata": {
      "needs_background": "light"
     },
     "output_type": "display_data"
    },
    {
     "name": "stdout",
     "output_type": "stream",
     "text": [
      "Статистический анализ признака:\n",
      "1. Значений выходящих за доверительные интервалы есть.\n",
      "2. 25% значений 'f0' - до -1.1622884801574571.\n",
      "3. 50% значений 'f0' в диапазоне от -1.1622884801574571 до 1.1585353487528773.\n",
      "4. 25% значений 'f0' превышают 1.1585353487528773.\n",
      "5. Медиана 0.01\n",
      "6. Среднее 0.0\n",
      "None\n",
      "None\n"
     ]
    },
    {
     "data": {
      "image/png": "[encoded data removed]",
      "text/plain": [
       "<Figure size 1008x216 with 1 Axes>"
      ]
     },
     "metadata": {
      "needs_background": "light"
     },
     "output_type": "display_data"
    },
    {
     "name": "stdout",
     "output_type": "stream",
     "text": [
      "Статистический анализ признака:\n",
      "1. Значений выходящих за доверительные интервалы есть.\n",
      "2. 25% значений 'f1' - до -1.174819610202934.\n",
      "3. 50% значений 'f1' в диапазоне от -1.174819610202934 до 1.1636778666142238.\n",
      "4. 25% значений 'f1' превышают 1.1636778666142238.\n",
      "5. Медиана -0.01\n",
      "6. Среднее -0.0\n",
      "None\n",
      "None\n"
     ]
    },
    {
     "data": {
      "image/png": "[encoded data removed]",
      "text/plain": [
       "<Figure size 1008x216 with 1 Axes>"
      ]
     },
     "metadata": {
      "needs_background": "light"
     },
     "output_type": "display_data"
    },
    {
     "name": "stdout",
     "output_type": "stream",
     "text": [
      "Статистический анализ признака:\n",
      "1. Значений выходящих за доверительные интервалы есть.\n",
      "2. 25% значений 'f2' - до 0.13035864392872082.\n",
      "3. 50% значений 'f2' в диапазоне от 0.13035864392872082 до 4.85879359743347.\n",
      "4. 25% значений 'f2' превышают 4.85879359743347.\n",
      "5. Медиана 2.48\n",
      "6. Среднее 2.5\n",
      "None\n",
      "None\n"
     ]
    },
    {
     "data": {
      "image/png": "[encoded data removed]",
      "text/plain": [
       "<Figure size 1008x216 with 1 Axes>"
      ]
     },
     "metadata": {
      "needs_background": "light"
     },
     "output_type": "display_data"
    },
    {
     "name": "stdout",
     "output_type": "stream",
     "text": [
      "Статистический анализ признака:\n",
      "1. Значений выходящих за доверительные интервалы нет.\n",
      "2. 25% значений 'product' - до 59.45044093843895.\n",
      "3. 50% значений 'product' в диапазоне от 59.45044093843895 до 130.5950267155838.\n",
      "4. 25% значений 'product' превышают 130.5950267155838.\n",
      "5. Медиана 94.93\n",
      "6. Среднее 95.0\n",
      "None\n",
      "None\n"
     ]
    }
   ],
   "source": [
    "num_coll_boxplot(geo_data_two)"
   ]
  },
  {
   "cell_type": "code",
   "execution_count": 56,
   "id": "0407b3a0",
   "metadata": {},
   "outputs": [
    {
     "data": {
      "image/png": "[encoded data removed]",
      "text/plain": [
       "<Figure size 360x432 with 1 Axes>"
      ]
     },
     "metadata": {
      "needs_background": "light"
     },
     "output_type": "display_data"
    }
   ],
   "source": [
    "geo_data_two.plot(y='product', kind='hist', grid=True, figsize=(5, 6),\n",
    "bins=50, ylim=(0, 4000), xlim=(0, 200), \n",
    "legend=False)\n",
    "plt.title('product')\n",
    "plt.ylabel('количество значений')\n",
    "plt.xlabel('оценка')\n",
    "plt.show()"
   ]
  },
  {
   "cell_type": "markdown",
   "id": "07810c82",
   "metadata": {},
   "source": [
    "Наблюдаем мультимодальное распередление - 6 пиков значений."
   ]
  },
  {
   "cell_type": "markdown",
   "id": "8985b76c",
   "metadata": {},
   "source": [
    "### Корреляционный анализ признаков"
   ]
  },
  {
   "cell_type": "code",
   "execution_count": 57,
   "id": "ab3dd2ef",
   "metadata": {},
   "outputs": [],
   "source": [
    "num_coll_list =  geo_data_zero.select_dtypes(include='number').columns.tolist()\n",
    "cat_coll_list =  geo_data_zero.select_dtypes(exclude='number').columns.tolist()"
   ]
  },
  {
   "cell_type": "code",
   "execution_count": 58,
   "id": "33e07f7f",
   "metadata": {},
   "outputs": [
    {
     "data": {
      "text/plain": [
       "Text(0.5, 1.0, 'Тепловая карта корреляции Пирсона')"
      ]
     },
     "execution_count": 58,
     "metadata": {},
     "output_type": "execute_result"
    },
    {
     "data": {
      "image/png": "[encoded data removed]",
      "text/plain": [
       "<Figure size 432x288 with 2 Axes>"
      ]
     },
     "metadata": {
      "needs_background": "light"
     },
     "output_type": "display_data"
    }
   ],
   "source": [
    "#Построим heatmap с корреляцией признаков\n",
    "sns.heatmap(geo_data_zero[num_coll_list].corr(), annot=True, cmap='coolwarm') \n",
    "plt.title('Тепловая карта корреляции Пирсона')"
   ]
  },
  {
   "cell_type": "markdown",
   "id": "696bc2eb",
   "metadata": {},
   "source": [
    "Мультиколлинеарность между признаками отсутствует в geo_data_zero. Сильные и умеренные корреляции с целевым признаком отсутстуют. Незначительная корреляция с признаком f2. В виду того, что на прошлом шаге мы обнаружили выбивающиеся значения оценим корреляцию Спирмана"
   ]
  },
  {
   "cell_type": "code",
   "execution_count": 59,
   "id": "22ec5f2a",
   "metadata": {
    "scrolled": true
   },
   "outputs": [
    {
     "data": {
      "image/png": "[encoded data removed]",
      "text/plain": [
       "<Figure size 432x288 with 2 Axes>"
      ]
     },
     "metadata": {
      "needs_background": "light"
     },
     "output_type": "display_data"
    }
   ],
   "source": [
    "# Построим heatmap с корреляцией Спирмена \n",
    "sns.heatmap(geo_data_zero[num_coll_list].corr(method='spearman'), annot=True, cmap='coolwarm')\n",
    "plt.title('Тепловая карта корреляции Спирмена')\n",
    "plt.show()"
   ]
  },
  {
   "cell_type": "markdown",
   "id": "b50cd413",
   "metadata": {},
   "source": [
    "Картина повторилась"
   ]
  },
  {
   "cell_type": "code",
   "execution_count": 60,
   "id": "8033e89b",
   "metadata": {},
   "outputs": [
    {
     "data": {
      "image/png": "[encoded data removed]",
      "text/plain": [
       "<Figure size 432x288 with 2 Axes>"
      ]
     },
     "metadata": {
      "needs_background": "light"
     },
     "output_type": "display_data"
    }
   ],
   "source": [
    "# Построим heatmap с корреляцией Спирмена \n",
    "sns.heatmap(geo_data_one[num_coll_list].corr(method='spearman'), annot=True, cmap='coolwarm')\n",
    "plt.title('Тепловая карта корреляции Спирмена')\n",
    "plt.show()"
   ]
  },
  {
   "cell_type": "markdown",
   "id": "21a8108b",
   "metadata": {},
   "source": [
    "Мультиколлинеарности между признаками нет. Наблюдаем сильную положительную корреляцию между целевым и f2 признаком в geo_data_one"
   ]
  },
  {
   "cell_type": "code",
   "execution_count": 61,
   "id": "551d7b57",
   "metadata": {},
   "outputs": [
    {
     "data": {
      "image/png": "[encoded data removed]",
      "text/plain": [
       "<Figure size 432x288 with 2 Axes>"
      ]
     },
     "metadata": {
      "needs_background": "light"
     },
     "output_type": "display_data"
    }
   ],
   "source": [
    "# Построим heatmap с корреляцией Спирмена \n",
    "sns.heatmap(geo_data_two[num_coll_list].corr(method='spearman'), annot=True, cmap='coolwarm')\n",
    "plt.title('Тепловая карта корреляции Спирмена')\n",
    "plt.show()"
   ]
  },
  {
   "cell_type": "markdown",
   "id": "ef861f35",
   "metadata": {},
   "source": [
    "Мультиколлинеарности между признаками нет. Наблюдаем слабую положительную корреляцию между целевым и f2 признаком в geo_data_two"
   ]
  },
  {
   "cell_type": "code",
   "execution_count": 62,
   "id": "39c13f1e",
   "metadata": {},
   "outputs": [],
   "source": [
    "# Создадим функцию для визуализации диаграмм рассеивания. \n",
    "# Мы в цикле вызываем все категориальные переменные для заданной пары числовых признаков. \n",
    "\n",
    "def plot_scatter(data, column_name_x, column_name_y):\n",
    "        plt.figure(figsize=(4, 4))\n",
    "        sns.scatterplot(data=data, x=column_name_x, y=column_name_y, alpha=0.6)\n",
    "        plt.title(f' Анализ {column_name_y} - {column_name_x}')\n",
    "        plt.ylabel(column_name_y)\n",
    "        plt.xlabel(column_name_x)\n",
    "        plt.legend(title=column_name_color, bbox_to_anchor=(1, 1), loc='upper left')\n",
    "        plt.show()"
   ]
  },
  {
   "cell_type": "markdown",
   "id": "82c848ac",
   "metadata": {},
   "source": [
    "Согласно условию проекта возможно использование линейной регрессии, что предполагает наличие только линейных зависимостей в данных. Пропустим шаг построения диаграмм рассеяния "
   ]
  },
  {
   "cell_type": "markdown",
   "id": "b646d72c",
   "metadata": {},
   "source": [
    "### Итого по разделу: \n",
    "  1. По датасету geo_data_zero: \n",
    "  \n",
    "    1.1. Product. Наблюдаем мультимодальное распределение (5 пиков), Это может указывать на то, что запасы оцениваются в определенных «стандартных» диапазонах.\n",
    "  \n",
    "    1.2 Анонимизированные (обфусцированные) признаки имеют мультимодальные распределения. Значения признака f2 имеет правые и левые выбивающиеся значения.\n",
    "   \n",
    "  2. По датасету geo_data_one:\n",
    "  \n",
    "    2.1. Product. Наблюдаем дискретные значения от 0 до 140 (вероятно категоризированные значения).\n",
    "    \n",
    "    2.2. Фиксируем выбивающиеся значения для признаков f0 (левые) и f1 (левые и правые). Для признака f2 наблюдаем дискретные значения от 0 до 5 (вероятно категоризированные значения)\n",
    "    \n",
    "  3. По датасету geo_data_two:\n",
    "  \n",
    "    3.1. Product. Наблюдаем мультимодальное распередление - 5 пиков значений.\n",
    "    3.2. Признаки f0, f1, f2 имеют выбивающиеся левые и правые выбивающие значения\n",
    "    \n",
    " 4. Мультиколлинеарности между признаками в данных нет. \n",
    " \n",
    " 5. Наблюдаем сильную положительную корреляцию между целевым и f2 признаком в geo_data_one, для остальных датасетов корреляция слабая."
   ]
  },
  {
   "cell_type": "markdown",
   "id": "ddedb9a1",
   "metadata": {},
   "source": [
    "## Создание моделей для каждого из регионов."
   ]
  },
  {
   "cell_type": "code",
   "execution_count": 63,
   "id": "a78ccdcc",
   "metadata": {},
   "outputs": [],
   "source": [
    "num_coll_list=['f0', 'f1', 'f2']"
   ]
  },
  {
   "cell_type": "code",
   "execution_count": 64,
   "id": "fb3da1de",
   "metadata": {},
   "outputs": [],
   "source": [
    "columns_to_drop=['id', 'product']"
   ]
  },
  {
   "cell_type": "markdown",
   "id": "09a096af",
   "metadata": {},
   "source": [
    "### Создание модели для для данных региона geo_data_zero"
   ]
  },
  {
   "cell_type": "code",
   "execution_count": 65,
   "id": "54351a18",
   "metadata": {},
   "outputs": [],
   "source": [
    "RANDOM_STATE = 42\n",
    "TEST_SIZE = 0.25\n",
    "\n",
    "X_train, X_test, y_train, y_test = train_test_split(\n",
    "    geo_data_zero.drop(columns_to_drop, axis=1\n",
    "    ),\n",
    "    geo_data_zero['product'],\n",
    "    test_size = TEST_SIZE, \n",
    "    random_state = RANDOM_STATE,\n",
    ")\n",
    "scaler = StandardScaler()\n",
    "X_train_scaled = scaler.fit_transform(X_train)\n",
    "X_train_scaled = pd.DataFrame(X_train_scaled, columns=num_coll_list)\n",
    "X_test_scaled = scaler.transform(X_test)\n",
    "X_test_scaled = pd.DataFrame(X_test_scaled, columns=num_coll_list)\n",
    "model_lr  = LinearRegression()\n",
    "model_lr.fit(X_train_scaled, y_train)\n",
    "predictions = model_lr.predict(X_test_scaled)\n",
    "rmse_scores = cross_val_score(model_lr, X_train_scaled, y_train, cv=5, scoring='neg_root_mean_squared_error').mean()\n",
    "rmse_scores_val_zero = cross_val_score(model_lr, X_test_scaled, y_test, cv=5, scoring='neg_root_mean_squared_error').mean()"
   ]
  },
  {
   "cell_type": "code",
   "execution_count": 66,
   "id": "3c04929d",
   "metadata": {},
   "outputs": [
    {
     "data": {
      "text/plain": [
       "37.67200536313506"
      ]
     },
     "execution_count": 66,
     "metadata": {},
     "output_type": "execute_result"
    }
   ],
   "source": [
    "-rmse_scores"
   ]
  },
  {
   "cell_type": "code",
   "execution_count": 67,
   "id": "548b5dd0",
   "metadata": {},
   "outputs": [
    {
     "data": {
      "text/plain": [
       "37.75811155943487"
      ]
     },
     "execution_count": 67,
     "metadata": {},
     "output_type": "execute_result"
    }
   ],
   "source": [
    "-rmse_scores_val_zero"
   ]
  },
  {
   "cell_type": "code",
   "execution_count": 68,
   "id": "384cc9bf",
   "metadata": {
    "scrolled": true
   },
   "outputs": [
    {
     "name": "stdout",
     "output_type": "stream",
     "text": [
      "          Признак   Вес\n",
      "3  свободный_член 92.56\n",
      "2              f2 21.42\n",
      "0              f0  3.34\n",
      "1              f1 -7.18\n"
     ]
    }
   ],
   "source": [
    "# Посмотрим какие признаки наиблолее значимы для модели.\n",
    "weights_v1 = pd.DataFrame({\n",
    "    'Признак': X_train.columns,\n",
    "    'Вес': model_lr.coef_\n",
    "})\n",
    "\n",
    "# Добавляем строку для свободного члена (intercept)\n",
    "intercept_df = pd.DataFrame({\n",
    "    'Признак': ['свободный_член'],\n",
    "    'Вес': [model_lr.intercept_]\n",
    "})\n",
    "\n",
    "# Объединяем веса признаков и свободный член. На всякий случай обнуляем индексы при объединении. \n",
    "weights_v1 = pd.concat([weights_v1, intercept_df], ignore_index=True)\n",
    "\n",
    "# Сортируем\n",
    "weights_v1_sorted = weights_v1.sort_values(by='Вес', ascending=False)\n",
    "\n",
    "# Выводим веса признаков и свободный член\n",
    "print(weights_v1_sorted)"
   ]
  },
  {
   "cell_type": "markdown",
   "id": "d893d2d8",
   "metadata": {},
   "source": [
    "Ожидаемо признак f2 имеет более высокий вес по сравнению с признаками f0, f1."
   ]
  },
  {
   "cell_type": "code",
   "execution_count": 69,
   "id": "9e9af412",
   "metadata": {},
   "outputs": [
    {
     "data": {
      "image/png": "[encoded data removed]",
      "text/plain": [
       "<Figure size 720x360 with 2 Axes>"
      ]
     },
     "metadata": {
      "needs_background": "light"
     },
     "output_type": "display_data"
    }
   ],
   "source": [
    "# Проводим анализ остатков\n",
    "residuals = y_test-predictions\n",
    "\n",
    "# постройте графики по количественным признакам — гистограмму частотности \n",
    "# распределения и диаграмму рассеяния\n",
    "fig, axes = plt.subplots(nrows=1, ncols=2, figsize=(10,5))\n",
    "axes[0].hist(residuals, bins=50)\n",
    "axes[0].set_title('Гистограмма распределения остатков')\n",
    "axes[0].set_xlabel('Остатки')\n",
    "\n",
    "axes[1].scatter(x=predictions, y=residuals)\n",
    "axes[1].set_xlabel('Предсказания модели')\n",
    "axes[1].set_ylabel('Остатки')\n",
    "axes[1].set_title('Анализ дисперсии')\n",
    "plt.show()"
   ]
  },
  {
   "cell_type": "code",
   "execution_count": 70,
   "id": "5ab0532a",
   "metadata": {
    "scrolled": true
   },
   "outputs": [
    {
     "name": "stdout",
     "output_type": "stream",
     "text": [
      "       predictions\n",
      "75721       101.90\n",
      "80184        78.22\n",
      "19864       115.27\n",
      "76699       105.62\n",
      "92991        97.98\n",
      "...            ...\n",
      "21271       105.08\n",
      "34014        74.77\n",
      "81355        82.54\n",
      "65720        81.83\n",
      "11627        93.12\n",
      "\n",
      "[25000 rows x 1 columns]\n"
     ]
    }
   ],
   "source": [
    "#запишем все прогнозы модели для валидационной выборки \n",
    "df_predict_zero = pd.DataFrame(predictions, columns=['predictions'], index=X_test.index)\n",
    "print(df_predict_zero)"
   ]
  },
  {
   "cell_type": "code",
   "execution_count": 71,
   "id": "d264e540",
   "metadata": {
    "scrolled": true
   },
   "outputs": [
    {
     "data": {
      "text/html": [
       "<div>\n",
       "<style scoped>\n",
       "    .dataframe tbody tr th:only-of-type {\n",
       "        vertical-align: middle;\n",
       "    }\n",
       "\n",
       "    .dataframe tbody tr th {\n",
       "        vertical-align: top;\n",
       "    }\n",
       "\n",
       "    .dataframe thead th {\n",
       "        text-align: right;\n",
       "    }\n",
       "</style>\n",
       "<table border=\"1\" class=\"dataframe\">\n",
       "  <thead>\n",
       "    <tr style=\"text-align: right;\">\n",
       "      <th></th>\n",
       "      <th>f0</th>\n",
       "      <th>f1</th>\n",
       "      <th>f2</th>\n",
       "      <th>id</th>\n",
       "      <th>product</th>\n",
       "    </tr>\n",
       "  </thead>\n",
       "  <tbody>\n",
       "    <tr>\n",
       "      <th>58991</th>\n",
       "      <td>0.35</td>\n",
       "      <td>1.05</td>\n",
       "      <td>-0.15</td>\n",
       "      <td>ZTBzT</td>\n",
       "      <td>74.65</td>\n",
       "    </tr>\n",
       "    <tr>\n",
       "      <th>45051</th>\n",
       "      <td>0.14</td>\n",
       "      <td>1.22</td>\n",
       "      <td>-3.39</td>\n",
       "      <td>JdlF5</td>\n",
       "      <td>8.89</td>\n",
       "    </tr>\n",
       "    <tr>\n",
       "      <th>27093</th>\n",
       "      <td>1.13</td>\n",
       "      <td>-0.48</td>\n",
       "      <td>-2.17</td>\n",
       "      <td>w329j</td>\n",
       "      <td>29.44</td>\n",
       "    </tr>\n",
       "    <tr>\n",
       "      <th>20727</th>\n",
       "      <td>0.38</td>\n",
       "      <td>-0.36</td>\n",
       "      <td>3.53</td>\n",
       "      <td>9ga1h</td>\n",
       "      <td>88.39</td>\n",
       "    </tr>\n",
       "    <tr>\n",
       "      <th>79470</th>\n",
       "      <td>0.11</td>\n",
       "      <td>0.13</td>\n",
       "      <td>-0.17</td>\n",
       "      <td>1yb4i</td>\n",
       "      <td>170.67</td>\n",
       "    </tr>\n",
       "  </tbody>\n",
       "</table>\n",
       "</div>"
      ],
      "text/plain": [
       "        f0    f1    f2     id  product\n",
       "58991 0.35  1.05 -0.15  ZTBzT    74.65\n",
       "45051 0.14  1.22 -3.39  JdlF5     8.89\n",
       "27093 1.13 -0.48 -2.17  w329j    29.44\n",
       "20727 0.38 -0.36  3.53  9ga1h    88.39\n",
       "79470 0.11  0.13 -0.17  1yb4i   170.67"
      ]
     },
     "execution_count": 71,
     "metadata": {},
     "output_type": "execute_result"
    }
   ],
   "source": [
    "valid_data_zero=X_test.join(geo_data_zero[['id', 'product']])\n",
    "valid_data_zero.sample(5)"
   ]
  },
  {
   "cell_type": "code",
   "execution_count": 72,
   "id": "3a65ccf5",
   "metadata": {},
   "outputs": [
    {
     "data": {
      "text/html": [
       "<div>\n",
       "<style scoped>\n",
       "    .dataframe tbody tr th:only-of-type {\n",
       "        vertical-align: middle;\n",
       "    }\n",
       "\n",
       "    .dataframe tbody tr th {\n",
       "        vertical-align: top;\n",
       "    }\n",
       "\n",
       "    .dataframe thead th {\n",
       "        text-align: right;\n",
       "    }\n",
       "</style>\n",
       "<table border=\"1\" class=\"dataframe\">\n",
       "  <thead>\n",
       "    <tr style=\"text-align: right;\">\n",
       "      <th></th>\n",
       "      <th>f0</th>\n",
       "      <th>f1</th>\n",
       "      <th>f2</th>\n",
       "      <th>id</th>\n",
       "      <th>product</th>\n",
       "      <th>predictions</th>\n",
       "    </tr>\n",
       "  </thead>\n",
       "  <tbody>\n",
       "    <tr>\n",
       "      <th>95507</th>\n",
       "      <td>1.79</td>\n",
       "      <td>0.22</td>\n",
       "      <td>-2.81</td>\n",
       "      <td>9YUVa</td>\n",
       "      <td>82.32</td>\n",
       "      <td>62.88</td>\n",
       "    </tr>\n",
       "    <tr>\n",
       "      <th>20196</th>\n",
       "      <td>1.92</td>\n",
       "      <td>0.02</td>\n",
       "      <td>2.66</td>\n",
       "      <td>fDkIp</td>\n",
       "      <td>161.27</td>\n",
       "      <td>102.22</td>\n",
       "    </tr>\n",
       "    <tr>\n",
       "      <th>46226</th>\n",
       "      <td>1.00</td>\n",
       "      <td>0.21</td>\n",
       "      <td>4.08</td>\n",
       "      <td>g4NZr</td>\n",
       "      <td>79.45</td>\n",
       "      <td>105.46</td>\n",
       "    </tr>\n",
       "    <tr>\n",
       "      <th>11471</th>\n",
       "      <td>1.61</td>\n",
       "      <td>-0.50</td>\n",
       "      <td>0.72</td>\n",
       "      <td>2VlxL</td>\n",
       "      <td>128.63</td>\n",
       "      <td>95.64</td>\n",
       "    </tr>\n",
       "    <tr>\n",
       "      <th>64151</th>\n",
       "      <td>-0.51</td>\n",
       "      <td>0.79</td>\n",
       "      <td>4.15</td>\n",
       "      <td>MJO46</td>\n",
       "      <td>90.90</td>\n",
       "      <td>91.89</td>\n",
       "    </tr>\n",
       "  </tbody>\n",
       "</table>\n",
       "</div>"
      ],
      "text/plain": [
       "         f0    f1    f2     id  product  predictions\n",
       "95507  1.79  0.22 -2.81  9YUVa    82.32        62.88\n",
       "20196  1.92  0.02  2.66  fDkIp   161.27       102.22\n",
       "46226  1.00  0.21  4.08  g4NZr    79.45       105.46\n",
       "11471  1.61 -0.50  0.72  2VlxL   128.63        95.64\n",
       "64151 -0.51  0.79  4.15  MJO46    90.90        91.89"
      ]
     },
     "execution_count": 72,
     "metadata": {},
     "output_type": "execute_result"
    }
   ],
   "source": [
    "#Создадим таблицу с валидационными данными geo_data_zero и прессказаниями модели\n",
    "valid_data_zero=valid_data_zero.join(df_predict_zero['predictions'])\n",
    "valid_data_zero.sample(5)"
   ]
  },
  {
   "cell_type": "markdown",
   "id": "23095e97",
   "metadata": {},
   "source": [
    "### Создание модели для для данных региона geo_data_one"
   ]
  },
  {
   "cell_type": "code",
   "execution_count": 73,
   "id": "fe664416",
   "metadata": {},
   "outputs": [],
   "source": [
    "RANDOM_STATE = 42\n",
    "TEST_SIZE = 0.25\n",
    "\n",
    "X_train, X_test, y_train, y_test = train_test_split(\n",
    "    geo_data_one.drop(columns_to_drop, axis=1\n",
    "    ),\n",
    "    geo_data_one['product'],\n",
    "    test_size = TEST_SIZE, \n",
    "    random_state = RANDOM_STATE,\n",
    ")\n",
    "scaler = StandardScaler()\n",
    "X_train_scaled = scaler.fit_transform(X_train)\n",
    "X_train_scaled = pd.DataFrame(X_train_scaled, columns=num_coll_list)\n",
    "X_test_scaled = scaler.transform(X_test)\n",
    "X_test_scaled = pd.DataFrame(X_test_scaled, columns=num_coll_list)\n",
    "model_lr  = LinearRegression()\n",
    "model_lr.fit(X_train_scaled, y_train)\n",
    "predictions = model_lr.predict(X_test_scaled)\n",
    "rmse_scores = cross_val_score(model_lr, X_train_scaled, y_train, cv=5, scoring='neg_root_mean_squared_error').mean()\n",
    "rmse_scores_val_one = cross_val_score(model_lr, X_test_scaled, y_test, cv=5, scoring='neg_root_mean_squared_error').mean()"
   ]
  },
  {
   "cell_type": "code",
   "execution_count": 74,
   "id": "bd56e80a",
   "metadata": {},
   "outputs": [
    {
     "data": {
      "text/plain": [
       "0.8904559629285673"
      ]
     },
     "execution_count": 74,
     "metadata": {},
     "output_type": "execute_result"
    }
   ],
   "source": [
    "-rmse_scores"
   ]
  },
  {
   "cell_type": "code",
   "execution_count": 75,
   "id": "9df6709e",
   "metadata": {},
   "outputs": [
    {
     "data": {
      "text/plain": [
       "0.8901658757278078"
      ]
     },
     "execution_count": 75,
     "metadata": {},
     "output_type": "execute_result"
    }
   ],
   "source": [
    "-rmse_scores_val_one"
   ]
  },
  {
   "cell_type": "code",
   "execution_count": 76,
   "id": "03ed0b9a",
   "metadata": {
    "scrolled": false
   },
   "outputs": [
    {
     "name": "stdout",
     "output_type": "stream",
     "text": [
      "          Признак   Вес\n",
      "3  свободный_член 68.86\n",
      "2              f2 45.91\n",
      "1              f1 -0.11\n",
      "0              f0 -1.30\n"
     ]
    }
   ],
   "source": [
    "# Посмотрим какие признаки наиблолее значимы для модели.\n",
    "weights_v1 = pd.DataFrame({\n",
    "    'Признак': X_train.columns,\n",
    "    'Вес': model_lr.coef_\n",
    "})\n",
    "\n",
    "# Добавляем строку для свободного члена (intercept)\n",
    "intercept_df = pd.DataFrame({\n",
    "    'Признак': ['свободный_член'],\n",
    "    'Вес': [model_lr.intercept_]\n",
    "})\n",
    "\n",
    "# Объединяем веса признаков и свободный член. На всякий случай обнуляем индексы при объединении. \n",
    "weights_v1 = pd.concat([weights_v1, intercept_df], ignore_index=True)\n",
    "\n",
    "# Сортируем\n",
    "weights_v1_sorted = weights_v1.sort_values(by='Вес', ascending=False)\n",
    "\n",
    "# Выводим веса признаков и свободный член\n",
    "print(weights_v1_sorted)"
   ]
  },
  {
   "cell_type": "markdown",
   "id": "e1890282",
   "metadata": {},
   "source": [
    "Ожидаемо признак f2 имеет более высокий вес по сравнению с признаками f0, f1."
   ]
  },
  {
   "cell_type": "code",
   "execution_count": 77,
   "id": "65b0c963",
   "metadata": {},
   "outputs": [
    {
     "data": {
      "image/png": "[encoded data removed]",
      "text/plain": [
       "<Figure size 720x360 with 2 Axes>"
      ]
     },
     "metadata": {
      "needs_background": "light"
     },
     "output_type": "display_data"
    }
   ],
   "source": [
    "# Проводим анализ остатков\n",
    "residuals = y_test-predictions\n",
    "\n",
    "# постройте графики по количественным признакам — гистограмму частотности \n",
    "# распределения и диаграмму рассеяния\n",
    "fig, axes = plt.subplots(nrows=1, ncols=2, figsize=(10,5))\n",
    "axes[0].hist(residuals, bins=50)\n",
    "axes[0].set_title('Гистограмма распределения остатков')\n",
    "axes[0].set_xlabel('Остатки')\n",
    "\n",
    "axes[1].scatter(x=predictions, y=residuals)\n",
    "axes[1].set_xlabel('Предсказания модели')\n",
    "axes[1].set_ylabel('Остатки')\n",
    "axes[1].set_title('Анализ дисперсии')\n",
    "plt.show()"
   ]
  },
  {
   "cell_type": "code",
   "execution_count": 78,
   "id": "3e373626",
   "metadata": {},
   "outputs": [
    {
     "name": "stdout",
     "output_type": "stream",
     "text": [
      "       predictions\n",
      "83875        54.25\n",
      "88620        27.28\n",
      "97181       136.12\n"
     ]
    }
   ],
   "source": [
    "#запишем все прогнозы модели для валидационной выборки \n",
    "df_predict_one = pd.DataFrame(predictions, columns=['predictions'], index=X_test.index)\n",
    "print(df_predict_one.sample(3))"
   ]
  },
  {
   "cell_type": "code",
   "execution_count": 79,
   "id": "834a259f",
   "metadata": {},
   "outputs": [
    {
     "data": {
      "text/html": [
       "<div>\n",
       "<style scoped>\n",
       "    .dataframe tbody tr th:only-of-type {\n",
       "        vertical-align: middle;\n",
       "    }\n",
       "\n",
       "    .dataframe tbody tr th {\n",
       "        vertical-align: top;\n",
       "    }\n",
       "\n",
       "    .dataframe thead th {\n",
       "        text-align: right;\n",
       "    }\n",
       "</style>\n",
       "<table border=\"1\" class=\"dataframe\">\n",
       "  <thead>\n",
       "    <tr style=\"text-align: right;\">\n",
       "      <th></th>\n",
       "      <th>f0</th>\n",
       "      <th>f1</th>\n",
       "      <th>f2</th>\n",
       "      <th>id</th>\n",
       "      <th>product</th>\n",
       "    </tr>\n",
       "  </thead>\n",
       "  <tbody>\n",
       "    <tr>\n",
       "      <th>32248</th>\n",
       "      <td>-9.99</td>\n",
       "      <td>-6.08</td>\n",
       "      <td>0.99</td>\n",
       "      <td>8o8dN</td>\n",
       "      <td>30.13</td>\n",
       "    </tr>\n",
       "    <tr>\n",
       "      <th>46609</th>\n",
       "      <td>-5.58</td>\n",
       "      <td>-8.98</td>\n",
       "      <td>1.00</td>\n",
       "      <td>2Q7GC</td>\n",
       "      <td>30.13</td>\n",
       "    </tr>\n",
       "    <tr>\n",
       "      <th>13340</th>\n",
       "      <td>14.24</td>\n",
       "      <td>-17.27</td>\n",
       "      <td>2.00</td>\n",
       "      <td>SeCwT</td>\n",
       "      <td>53.91</td>\n",
       "    </tr>\n",
       "    <tr>\n",
       "      <th>44909</th>\n",
       "      <td>-9.71</td>\n",
       "      <td>-8.72</td>\n",
       "      <td>3.00</td>\n",
       "      <td>QetWP</td>\n",
       "      <td>84.04</td>\n",
       "    </tr>\n",
       "    <tr>\n",
       "      <th>79964</th>\n",
       "      <td>-3.20</td>\n",
       "      <td>-2.31</td>\n",
       "      <td>3.00</td>\n",
       "      <td>uJ1V1</td>\n",
       "      <td>84.04</td>\n",
       "    </tr>\n",
       "  </tbody>\n",
       "</table>\n",
       "</div>"
      ],
      "text/plain": [
       "         f0     f1   f2     id  product\n",
       "32248 -9.99  -6.08 0.99  8o8dN    30.13\n",
       "46609 -5.58  -8.98 1.00  2Q7GC    30.13\n",
       "13340 14.24 -17.27 2.00  SeCwT    53.91\n",
       "44909 -9.71  -8.72 3.00  QetWP    84.04\n",
       "79964 -3.20  -2.31 3.00  uJ1V1    84.04"
      ]
     },
     "execution_count": 79,
     "metadata": {},
     "output_type": "execute_result"
    }
   ],
   "source": [
    "valid_data_one=X_test.join(geo_data_one[['id', 'product']])\n",
    "valid_data_one.sample(5)"
   ]
  },
  {
   "cell_type": "code",
   "execution_count": 80,
   "id": "97965273",
   "metadata": {},
   "outputs": [],
   "source": [
    "#Создадим таблицу с исходными значениями региона и предсказаниями\n",
    "valid_data_one=valid_data_one.join(df_predict_one['predictions'])\n"
   ]
  },
  {
   "cell_type": "code",
   "execution_count": 81,
   "id": "78c13341",
   "metadata": {},
   "outputs": [
    {
     "data": {
      "text/html": [
       "<div>\n",
       "<style scoped>\n",
       "    .dataframe tbody tr th:only-of-type {\n",
       "        vertical-align: middle;\n",
       "    }\n",
       "\n",
       "    .dataframe tbody tr th {\n",
       "        vertical-align: top;\n",
       "    }\n",
       "\n",
       "    .dataframe thead th {\n",
       "        text-align: right;\n",
       "    }\n",
       "</style>\n",
       "<table border=\"1\" class=\"dataframe\">\n",
       "  <thead>\n",
       "    <tr style=\"text-align: right;\">\n",
       "      <th></th>\n",
       "      <th>f0</th>\n",
       "      <th>f1</th>\n",
       "      <th>f2</th>\n",
       "      <th>id</th>\n",
       "      <th>product</th>\n",
       "      <th>predictions</th>\n",
       "    </tr>\n",
       "  </thead>\n",
       "  <tbody>\n",
       "    <tr>\n",
       "      <th>98583</th>\n",
       "      <td>-5.47</td>\n",
       "      <td>5.94</td>\n",
       "      <td>2.01</td>\n",
       "      <td>AowVQ</td>\n",
       "      <td>57.09</td>\n",
       "      <td>56.39</td>\n",
       "    </tr>\n",
       "    <tr>\n",
       "      <th>55370</th>\n",
       "      <td>11.18</td>\n",
       "      <td>-17.65</td>\n",
       "      <td>4.00</td>\n",
       "      <td>PS90L</td>\n",
       "      <td>107.81</td>\n",
       "      <td>108.18</td>\n",
       "    </tr>\n",
       "    <tr>\n",
       "      <th>83351</th>\n",
       "      <td>12.09</td>\n",
       "      <td>-8.01</td>\n",
       "      <td>4.00</td>\n",
       "      <td>txs8t</td>\n",
       "      <td>107.81</td>\n",
       "      <td>107.88</td>\n",
       "    </tr>\n",
       "  </tbody>\n",
       "</table>\n",
       "</div>"
      ],
      "text/plain": [
       "         f0     f1   f2     id  product  predictions\n",
       "98583 -5.47   5.94 2.01  AowVQ    57.09        56.39\n",
       "55370 11.18 -17.65 4.00  PS90L   107.81       108.18\n",
       "83351 12.09  -8.01 4.00  txs8t   107.81       107.88"
      ]
     },
     "execution_count": 81,
     "metadata": {},
     "output_type": "execute_result"
    }
   ],
   "source": [
    "valid_data_one.sample(3)"
   ]
  },
  {
   "cell_type": "markdown",
   "id": "e5695e7e",
   "metadata": {},
   "source": [
    "### Создание модели для для данных региона geo_data_two"
   ]
  },
  {
   "cell_type": "code",
   "execution_count": 82,
   "id": "ae22c3a0",
   "metadata": {},
   "outputs": [],
   "source": [
    "RANDOM_STATE = 42\n",
    "TEST_SIZE = 0.25\n",
    "\n",
    "X_train, X_test, y_train, y_test = train_test_split(\n",
    "    geo_data_two.drop(columns_to_drop, axis=1\n",
    "    ),\n",
    "    geo_data_two['product'],\n",
    "    test_size = TEST_SIZE, \n",
    "    random_state = RANDOM_STATE,\n",
    ")\n",
    "scaler = StandardScaler()\n",
    "X_train_scaled = scaler.fit_transform(X_train)\n",
    "X_train_scaled = pd.DataFrame(X_train_scaled, columns=num_coll_list)\n",
    "X_test_scaled = scaler.transform(X_test)\n",
    "X_test_scaled = pd.DataFrame(X_test_scaled, columns=num_coll_list)\n",
    "model_lr  = LinearRegression()\n",
    "model_lr.fit(X_train_scaled, y_train)\n",
    "predictions = model_lr.predict(X_test_scaled)\n",
    "rmse_scores = cross_val_score(model_lr, X_train_scaled, y_train, cv=5, scoring='neg_root_mean_squared_error').mean()\n",
    "rmse_scores_val_two = cross_val_score(model_lr, X_test_scaled, y_test, cv=5, scoring='neg_root_mean_squared_error').mean()"
   ]
  },
  {
   "cell_type": "code",
   "execution_count": 83,
   "id": "eec98b8f",
   "metadata": {},
   "outputs": [
    {
     "data": {
      "text/plain": [
       "40.02698159997838"
      ]
     },
     "execution_count": 83,
     "metadata": {},
     "output_type": "execute_result"
    }
   ],
   "source": [
    "-rmse_scores"
   ]
  },
  {
   "cell_type": "code",
   "execution_count": 84,
   "id": "728c41bd",
   "metadata": {},
   "outputs": [
    {
     "data": {
      "text/plain": [
       "40.1537801191938"
      ]
     },
     "execution_count": 84,
     "metadata": {},
     "output_type": "execute_result"
    }
   ],
   "source": [
    "-rmse_scores_val_two"
   ]
  },
  {
   "cell_type": "code",
   "execution_count": 85,
   "id": "fe8bf7dd",
   "metadata": {},
   "outputs": [
    {
     "name": "stdout",
     "output_type": "stream",
     "text": [
      "          Признак   Вес\n",
      "3  свободный_член 94.95\n",
      "2              f2 19.99\n",
      "1              f1 -0.03\n",
      "0              f0 -0.15\n"
     ]
    }
   ],
   "source": [
    "# Посмотрим какие признаки наиблолее значимы для модели.\n",
    "weights_v1 = pd.DataFrame({\n",
    "    'Признак': X_train.columns,\n",
    "    'Вес': model_lr.coef_\n",
    "})\n",
    "\n",
    "# Добавляем строку для свободного члена (intercept)\n",
    "intercept_df = pd.DataFrame({\n",
    "    'Признак': ['свободный_член'],\n",
    "    'Вес': [model_lr.intercept_]\n",
    "})\n",
    "\n",
    "# Объединяем веса признаков и свободный член. На всякий случай обнуляем индексы при объединении. \n",
    "weights_v1 = pd.concat([weights_v1, intercept_df], ignore_index=True)\n",
    "\n",
    "# Сортируем\n",
    "weights_v1_sorted = weights_v1.sort_values(by='Вес', ascending=False)\n",
    "\n",
    "# Выводим веса признаков и свободный член\n",
    "print(weights_v1_sorted)"
   ]
  },
  {
   "cell_type": "markdown",
   "id": "2e6f0e11",
   "metadata": {},
   "source": [
    "Ожидаемо признак f2 имеет более высокий вес по сравнению с признаками f0, f1."
   ]
  },
  {
   "cell_type": "code",
   "execution_count": 86,
   "id": "93b328a1",
   "metadata": {},
   "outputs": [
    {
     "data": {
      "image/png": "[encoded data removed]",
      "text/plain": [
       "<Figure size 720x360 with 2 Axes>"
      ]
     },
     "metadata": {
      "needs_background": "light"
     },
     "output_type": "display_data"
    }
   ],
   "source": [
    "# Проводим анализ остатков\n",
    "residuals = y_test-predictions\n",
    "\n",
    "# постройте графики по количественным признакам — гистограмму частотности \n",
    "# распределения и диаграмму рассеяния\n",
    "fig, axes = plt.subplots(nrows=1, ncols=2, figsize=(10,5))\n",
    "axes[0].hist(residuals, bins=50)\n",
    "axes[0].set_title('Гистограмма распределения остатков')\n",
    "axes[0].set_xlabel('Остатки')\n",
    "\n",
    "axes[1].scatter(x=predictions, y=residuals)\n",
    "axes[1].set_xlabel('Предсказания модели')\n",
    "axes[1].set_ylabel('Остатки')\n",
    "axes[1].set_title('Анализ дисперсии')\n",
    "plt.show()"
   ]
  },
  {
   "cell_type": "markdown",
   "id": "590d54c5",
   "metadata": {},
   "source": [
    "Центр распределения в районе нуля (ошибки предсказания модели симметричны). "
   ]
  },
  {
   "cell_type": "code",
   "execution_count": 87,
   "id": "ec4610d0",
   "metadata": {},
   "outputs": [
    {
     "name": "stdout",
     "output_type": "stream",
     "text": [
      "       predictions\n",
      "75721        98.30\n",
      "80184       101.59\n",
      "19864        52.45\n",
      "76699       109.92\n",
      "92991        72.41\n",
      "...            ...\n",
      "21271       102.76\n",
      "34014        93.43\n",
      "81355        64.10\n",
      "65720        83.76\n",
      "11627        86.56\n",
      "\n",
      "[25000 rows x 1 columns]\n"
     ]
    }
   ],
   "source": [
    "#запишем все прогнозы модели для валидационной выборки \n",
    "df_predict_two = pd.DataFrame(predictions, columns=['predictions'], index=X_test.index)\n",
    "print(df_predict_two)"
   ]
  },
  {
   "cell_type": "code",
   "execution_count": 88,
   "id": "1789ad8c",
   "metadata": {},
   "outputs": [
    {
     "data": {
      "text/html": [
       "<div>\n",
       "<style scoped>\n",
       "    .dataframe tbody tr th:only-of-type {\n",
       "        vertical-align: middle;\n",
       "    }\n",
       "\n",
       "    .dataframe tbody tr th {\n",
       "        vertical-align: top;\n",
       "    }\n",
       "\n",
       "    .dataframe thead th {\n",
       "        text-align: right;\n",
       "    }\n",
       "</style>\n",
       "<table border=\"1\" class=\"dataframe\">\n",
       "  <thead>\n",
       "    <tr style=\"text-align: right;\">\n",
       "      <th></th>\n",
       "      <th>f0</th>\n",
       "      <th>f1</th>\n",
       "      <th>f2</th>\n",
       "      <th>id</th>\n",
       "      <th>product</th>\n",
       "    </tr>\n",
       "  </thead>\n",
       "  <tbody>\n",
       "    <tr>\n",
       "      <th>32364</th>\n",
       "      <td>2.11</td>\n",
       "      <td>-2.20</td>\n",
       "      <td>0.92</td>\n",
       "      <td>rVQ6P</td>\n",
       "      <td>149.62</td>\n",
       "    </tr>\n",
       "    <tr>\n",
       "      <th>59582</th>\n",
       "      <td>3.71</td>\n",
       "      <td>-0.35</td>\n",
       "      <td>5.10</td>\n",
       "      <td>FMz8J</td>\n",
       "      <td>66.94</td>\n",
       "    </tr>\n",
       "    <tr>\n",
       "      <th>68365</th>\n",
       "      <td>0.98</td>\n",
       "      <td>0.34</td>\n",
       "      <td>1.69</td>\n",
       "      <td>PX6PE</td>\n",
       "      <td>59.78</td>\n",
       "    </tr>\n",
       "  </tbody>\n",
       "</table>\n",
       "</div>"
      ],
      "text/plain": [
       "        f0    f1   f2     id  product\n",
       "32364 2.11 -2.20 0.92  rVQ6P   149.62\n",
       "59582 3.71 -0.35 5.10  FMz8J    66.94\n",
       "68365 0.98  0.34 1.69  PX6PE    59.78"
      ]
     },
     "execution_count": 88,
     "metadata": {},
     "output_type": "execute_result"
    }
   ],
   "source": [
    "valid_data_two=X_test.join(geo_data_two[['id', 'product']])\n",
    "valid_data_two.sample(3)"
   ]
  },
  {
   "cell_type": "code",
   "execution_count": 89,
   "id": "f6b84d24",
   "metadata": {},
   "outputs": [
    {
     "data": {
      "text/html": [
       "<div>\n",
       "<style scoped>\n",
       "    .dataframe tbody tr th:only-of-type {\n",
       "        vertical-align: middle;\n",
       "    }\n",
       "\n",
       "    .dataframe tbody tr th {\n",
       "        vertical-align: top;\n",
       "    }\n",
       "\n",
       "    .dataframe thead th {\n",
       "        text-align: right;\n",
       "    }\n",
       "</style>\n",
       "<table border=\"1\" class=\"dataframe\">\n",
       "  <thead>\n",
       "    <tr style=\"text-align: right;\">\n",
       "      <th></th>\n",
       "      <th>f0</th>\n",
       "      <th>f1</th>\n",
       "      <th>f2</th>\n",
       "      <th>id</th>\n",
       "      <th>product</th>\n",
       "      <th>predictions</th>\n",
       "    </tr>\n",
       "  </thead>\n",
       "  <tbody>\n",
       "    <tr>\n",
       "      <th>93282</th>\n",
       "      <td>1.29</td>\n",
       "      <td>1.02</td>\n",
       "      <td>6.08</td>\n",
       "      <td>lBSgM</td>\n",
       "      <td>127.26</td>\n",
       "      <td>115.38</td>\n",
       "    </tr>\n",
       "    <tr>\n",
       "      <th>19948</th>\n",
       "      <td>0.75</td>\n",
       "      <td>0.02</td>\n",
       "      <td>2.66</td>\n",
       "      <td>An0YQ</td>\n",
       "      <td>154.28</td>\n",
       "      <td>95.77</td>\n",
       "    </tr>\n",
       "    <tr>\n",
       "      <th>46272</th>\n",
       "      <td>-0.20</td>\n",
       "      <td>0.17</td>\n",
       "      <td>-1.65</td>\n",
       "      <td>Snqsb</td>\n",
       "      <td>124.97</td>\n",
       "      <td>71.09</td>\n",
       "    </tr>\n",
       "  </tbody>\n",
       "</table>\n",
       "</div>"
      ],
      "text/plain": [
       "         f0   f1    f2     id  product  predictions\n",
       "93282  1.29 1.02  6.08  lBSgM   127.26       115.38\n",
       "19948  0.75 0.02  2.66  An0YQ   154.28        95.77\n",
       "46272 -0.20 0.17 -1.65  Snqsb   124.97        71.09"
      ]
     },
     "execution_count": 89,
     "metadata": {},
     "output_type": "execute_result"
    }
   ],
   "source": [
    "valid_data_two=valid_data_two.join(df_predict_two['predictions'])\n",
    "valid_data_two.sample(3)"
   ]
  },
  {
   "cell_type": "markdown",
   "id": "a6fc9b3f",
   "metadata": {},
   "source": [
    "### Расчет среднего запаса предсказанного сырья и RMSE модели"
   ]
  },
  {
   "cell_type": "code",
   "execution_count": 90,
   "id": "464698e8",
   "metadata": {},
   "outputs": [
    {
     "name": "stdout",
     "output_type": "stream",
     "text": [
      "Среднее предсказание для региона geo_data_zero: 92.39879990657768\n",
      "Среднее предсказание для региона geo_data_one: 68.7128780391376\n",
      "Среднее предсказание для региона geo_data_two: 94.77102387765939\n",
      "Качество модели (rmse) для geo_data_zero: 37.75811155943487\n",
      "Качество модели (rmse) для geo_data_one: 0.8901658757278078\n",
      "Качество модели (rmse) для geo_data_one: 40.1537801191938\n"
     ]
    }
   ],
   "source": [
    "predict_means_zero=valid_data_zero.predictions.mean()\n",
    "predict_means_one=valid_data_one.predictions.mean()\n",
    "predict_means_two=valid_data_two.predictions.mean()\n",
    "print(f'Среднее предсказание для региона geo_data_zero: {predict_means_zero}')\n",
    "print(f'Среднее предсказание для региона geo_data_one: {predict_means_one}')\n",
    "print(f'Среднее предсказание для региона geo_data_two: {predict_means_two}')\n",
    "print(f'Качество модели (rmse) для geo_data_zero: {-rmse_scores_val_zero}')\n",
    "print(f'Качество модели (rmse) для geo_data_one: {-rmse_scores_val_one}')\n",
    "print(f'Качество модели (rmse) для geo_data_one: {-rmse_scores_val_two}')"
   ]
  },
  {
   "cell_type": "markdown",
   "id": "5135220b",
   "metadata": {},
   "source": [
    "### Итоги раздела. Анализ результатов:"
   ]
  },
  {
   "cell_type": "markdown",
   "id": "0fd182b4",
   "metadata": {},
   "source": [
    "1. С учетом разного характера распределений входящих признаков, наличия дискретных значений целевых признаков. Для каждого датасета (3 региона) была обучена отдельная модель линейной регрессии, посчитаны метрики качества, проверен анализ весов признаков и остатков.\n",
    "2. Проведен расчет среднего запаса \n",
    "3. Максимальное качество модели rmse наблюдаем на geo_data_one (0.8901658757278079)\n",
    "4. Наибольшее среднее значение предсказанного запаса на валидационных данных в разрезе скважин наблюдаем на данных geo_data_two (94.77 тыс баррелей)."
   ]
  },
  {
   "cell_type": "markdown",
   "id": "0418883a",
   "metadata": {},
   "source": [
    "## Подготовка данных к расчету прибыли"
   ]
  },
  {
   "cell_type": "code",
   "execution_count": 91,
   "id": "75aaac42",
   "metadata": {},
   "outputs": [],
   "source": [
    "# Создадим переменные для расчета себестоимости и прибыльности скважин и регионов\n",
    "\n",
    "region_budget = 10000000000\n",
    "income_per_burrel_th=450000\n",
    "max_loss_probability=0.025\n",
    "oil_well_for_exploration=500\n",
    "amount_of_top_oil_well=200"
   ]
  },
  {
   "cell_type": "code",
   "execution_count": 92,
   "id": "92967234",
   "metadata": {},
   "outputs": [
    {
     "data": {
      "text/plain": [
       "111.11111111111111"
      ]
     },
     "execution_count": 92,
     "metadata": {},
     "output_type": "execute_result"
    }
   ],
   "source": [
    "#Рассчитаем достаточный объём сырья для безубыточной разработки для 1 новой скважины. \n",
    "min_explored_reserve=region_budget/amount_of_top_oil_well/income_per_burrel_th\n",
    "min_explored_reserve"
   ]
  },
  {
   "cell_type": "code",
   "execution_count": 93,
   "id": "718841fc",
   "metadata": {},
   "outputs": [],
   "source": [
    "#Посчитаем разницу между минимальным для достижения уровня безубыточности объемом нефти и средним объем скважин в регионе\n",
    "\n",
    "delta_zero = predict_means_zero-min_explored_reserve\n",
    "delta_one = predict_means_one-min_explored_reserve\n",
    "delta_two = predict_means_two-min_explored_reserve"
   ]
  },
  {
   "cell_type": "code",
   "execution_count": 94,
   "id": "d9d34a76",
   "metadata": {},
   "outputs": [],
   "source": [
    "#Посчитаем среднее значение запасов для ТОП200 каждого из регионов.\n",
    "top_zero=valid_data_zero.nlargest(200, 'predictions')\n",
    "top_zero_mean=top_zero['predictions'].mean()\n",
    "top_one=valid_data_one.nlargest(200, 'predictions')\n",
    "top_one_mean=top_one['predictions'].mean()\n",
    "top_two=valid_data_two.nlargest(200, 'predictions')\n",
    "top_two_mean=top_two['predictions'].mean()"
   ]
  },
  {
   "cell_type": "code",
   "execution_count": 95,
   "id": "bd402a41",
   "metadata": {},
   "outputs": [],
   "source": [
    "#Посчитаем разницу между минимальным для достижения уровня безубыточности объемом нефти и средних предсказанных обьемов ТОП 200 скважин \n",
    "# для каждого региона\n",
    "delta_top_zero = top_zero_mean-min_explored_reserve\n",
    "delta_top_one = top_one_mean-min_explored_reserve\n",
    "delta_top_two = top_two_mean-min_explored_reserve"
   ]
  },
  {
   "cell_type": "markdown",
   "id": "71015fc1",
   "metadata": {},
   "source": [
    "### Выводы по итогам раздела"
   ]
  },
  {
   "cell_type": "markdown",
   "id": "a0d46535",
   "metadata": {},
   "source": [
    "Полученное значение минимального запаса скважины для достижения безубыточности значительно превышает средние значения по всем 3 регионам (особенно по региону one). При этом, заданная методология предполагает отбор топ 200 лучших скважин для разработки, для которых среднее значение исследованных запасов выше минимального объема в каждом регионе. "
   ]
  },
  {
   "cell_type": "code",
   "execution_count": 96,
   "id": "e47a9197",
   "metadata": {
    "scrolled": true
   },
   "outputs": [
    {
     "name": "stdout",
     "output_type": "stream",
     "text": [
      "для региона zero: -18.712311204533435\n",
      "для региона one: -42.39823307197351\n",
      "для региона two: -16.340087233451726\n"
     ]
    }
   ],
   "source": [
    "print(f'для региона zero: {delta_zero}')\n",
    "print(f'для региона one: {delta_one}')\n",
    "print(f'для региона two: {delta_two}')"
   ]
  },
  {
   "cell_type": "code",
   "execution_count": 97,
   "id": "174e8783",
   "metadata": {},
   "outputs": [
    {
     "name": "stdout",
     "output_type": "stream",
     "text": [
      "Среднее ТОП 200 для региона zero: 43.29620532962386\n",
      "Среднее ТОП 200 для региона one: 27.632645722212004\n",
      "Среднее ТОП 200 для региона two: 37.53312793016613\n"
     ]
    }
   ],
   "source": [
    "print(f'Среднее ТОП 200 для региона zero: {delta_top_zero}')\n",
    "print(f'Среднее ТОП 200 для региона one: {delta_top_one}')\n",
    "print(f'Среднее ТОП 200 для региона two: {delta_top_two}')"
   ]
  },
  {
   "cell_type": "markdown",
   "id": "e1e92c47",
   "metadata": {},
   "source": [
    "## Создание функции для расчета прибыли в регионе"
   ]
  },
  {
   "cell_type": "code",
   "execution_count": 98,
   "id": "ddab1eaf",
   "metadata": {},
   "outputs": [],
   "source": [
    "# Создадим функцию для расчета прибыли в регионе с учетом заданного числа скважин\n",
    "def profit(predicts, product, count):\n",
    "    pred_sorted = predicts.sort_values(ascending=False)\n",
    "    selected = product[pred_sorted.index][:count] \n",
    "    return income_per_burrel_th *selected.sum()-region_budget "
   ]
  },
  {
   "cell_type": "code",
   "execution_count": 99,
   "id": "3a06cd74",
   "metadata": {},
   "outputs": [
    {
     "name": "stdout",
     "output_type": "stream",
     "text": [
      "Прибыль от объёма сырья в регионе zero: 3359141114.46\n",
      "Прибыль от объёма сырья в регионе one: 2415086696.68\n",
      "Прибыль от объёма сырья в регионе two: 2598571759.37\n"
     ]
    }
   ],
   "source": [
    "#Применим функцию для расчета прибыли в регионах по заданным условиям (Разрабатываются 200 скважит, расходы 10 млрд руб.)\n",
    "profit_zero=profit(valid_data_zero['predictions'],valid_data_zero['product'], amount_of_top_oil_well)\n",
    "profit_one=profit(valid_data_one['predictions'],valid_data_one['product'], amount_of_top_oil_well)\n",
    "profit_two=profit(valid_data_two['predictions'],valid_data_two['product'], amount_of_top_oil_well)\n",
    "\n",
    "print(f'Прибыль от объёма сырья в регионе zero: {profit_zero.round(2)}')\n",
    "print(f'Прибыль от объёма сырья в регионе one: {profit_one.round(2)}')\n",
    "print(f'Прибыль от объёма сырья в регионе two: {profit_two.round(2)}')"
   ]
  },
  {
   "cell_type": "markdown",
   "id": "b7742284",
   "metadata": {},
   "source": [
    "### Итого по разделу:\n",
    "1. Создана функция для расчета прибыли региона с учетом разработки 200 скважин и предсказанных ранее значений исследованных запасов.\n",
    "2. Расчитан прогноз прибыли для каждого из регионов с учетом того, что максимальные расходы на разработку 200 выбранных месторождений региона составляют 10 млрд руб. По итогам прогноза наибольная прибыль достигается в регионе zero.\n",
    "- Прибыль для предсказанного объёма сырья в регионе zero: 3.359 млрд руб. \n",
    "- Прибыль для предсказанного объёма сырья в регионе one: 2.415 млрд руб.\n",
    "- Прибыль для предсказанного объёма сырья в регионе two: 2.598 млрд руб."
   ]
  },
  {
   "cell_type": "markdown",
   "id": "0d80f2e7",
   "metadata": {},
   "source": [
    "## Расчет рисков и прибыли для каждого региона"
   ]
  },
  {
   "cell_type": "code",
   "execution_count": 100,
   "id": "cde7fac8",
   "metadata": {},
   "outputs": [
    {
     "data": {
      "text/plain": [
       "25000"
      ]
     },
     "execution_count": 100,
     "metadata": {},
     "output_type": "execute_result"
    }
   ],
   "source": [
    "valid_data_zero.shape[0]"
   ]
  },
  {
   "cell_type": "code",
   "execution_count": 101,
   "id": "5d8b8d7e",
   "metadata": {},
   "outputs": [
    {
     "name": "stdout",
     "output_type": "stream",
     "text": [
      "Средняя прибыль: 435933772.1386621\n",
      "2.25й-квантиль: -116231612.77720818\n",
      "97.75й-квантиль: 966504180.707376\n"
     ]
    }
   ],
   "source": [
    "#Расчитаем среднюю прибыль региона и дов интервалы с использованием бутстрапа для региона zero.\n",
    "state = np.random.RandomState(12345)\n",
    "    \n",
    "values = []\n",
    "for i in range(1000):\n",
    "    pred_subsample  = valid_data_zero['predictions'].sample(\n",
    "        frac=oil_well_for_exploration/valid_data_zero.shape[0],\n",
    "        replace=True, random_state=state\n",
    "    )\n",
    "    fact_subsample = valid_data_zero['product'][pred_subsample.index] \n",
    "    values.append(profit(pred_subsample, fact_subsample,  200))\n",
    "   \n",
    "\n",
    "values_zero = pd.Series(values)\n",
    "lower = values_zero.quantile(0.025)\n",
    "upper = values_zero.quantile(0.975)\n",
    "\n",
    "mean_zero = values_zero.mean()\n",
    "print(\"Средняя прибыль:\", mean_zero)\n",
    "print(\"2.25й-квантиль:\", lower)\n",
    "print(\"97.75й-квантиль:\", upper)"
   ]
  },
  {
   "cell_type": "code",
   "execution_count": 102,
   "metadata": {},
   "outputs": [
    {
     "name": "stdout",
     "output_type": "stream",
     "text": [
      "вероятность получения убытков для региона zero равен 0.061\n"
     ]
    }
   ],
   "source": [
    "#Посчитаем вероятность получения убытков исходя из текущего распределения средних прибылей для региона zero\n",
    "negative_count_zero=(values_zero < 0).sum()\n",
    "negative_count_zero\n",
    "prob_of_losses=negative_count_zero/len(values_zero)\n",
    "print(f'вероятность получения убытков для региона zero равен {prob_of_losses}')"
   ]
  },
  {
   "cell_type": "markdown",
   "metadata": {},
   "source": [
    "\n",
    "<div class=\"alert alert-block alert-success\">\n",
    "<b>Успех:</b> Отлично, что для подсчета доверительного интервала использовался именно метод квантилей!\n",
    "</div>\n",
    "\n",
    "\n",
    "<div class=\"alert alert-block alert-info\">\n",
    "\n",
    "<b>Совет: </b> Риск можно было найти чуть проще: `(values < 0).mean()`, если объект типа pandas Series или numpy array.\n",
    "</div>"
   ]
  },
  {
   "cell_type": "code",
   "execution_count": 103,
   "id": "570c692e",
   "metadata": {},
   "outputs": [
    {
     "data": {
      "image/png": "[encoded data removed]",
      "text/plain": [
       "<Figure size 720x432 with 1 Axes>"
      ]
     },
     "metadata": {
      "needs_background": "light"
     },
     "output_type": "display_data"
    }
   ],
   "source": [
    "# Построим распределение средних для региона zero чтобы визуально подтвердить результат.\n",
    "plt.figure(figsize=(10,6))\n",
    "values_zero.plot(kind='hist', bins=30, alpha=0.7)\n",
    "plt.title('Распределение ')\n",
    "plt.xlabel('Values')\n",
    "plt.ylabel('Frequency')\n",
    "plt.grid(True)\n",
    "plt.show()"
   ]
  },
  {
   "cell_type": "code",
   "execution_count": 104,
   "metadata": {},
   "outputs": [
    {
     "name": "stdout",
     "output_type": "stream",
     "text": [
      "Средняя прибыль: 489661254.41175246\n",
      "2.25й-квантиль: 55116177.27361494\n",
      "97.75й-квантиль: 905762650.4248402\n"
     ]
    }
   ],
   "source": [
    "#Расчитаем среднюю прибыль региона и дов интервалы с использованием бутстрапа для региона one.\n",
    "state = np.random.RandomState(12345)\n",
    "    \n",
    "values = []\n",
    "for i in range(1000):\n",
    "    pred_subsample  = valid_data_one['predictions'].sample(\n",
    "        frac=oil_well_for_exploration/valid_data_one.shape[0],\n",
    "        replace=True, random_state=state\n",
    "    )\n",
    "    fact_subsample = valid_data_one['product'][pred_subsample.index] \n",
    "    values.append(profit(pred_subsample, fact_subsample,  200))\n",
    "   \n",
    "values_one = pd.Series(values)\n",
    "lower = values_one.quantile(0.025)\n",
    "upper = values_one.quantile(0.975)\n",
    "\n",
    "mean_one = values_one.mean()\n",
    "print(\"Средняя прибыль:\", mean_one)\n",
    "print(\"2.25й-квантиль:\", lower)\n",
    "print(\"97.75й-квантиль:\", upper)"
   ]
  },
  {
   "cell_type": "code",
   "execution_count": 105,
   "metadata": {},
   "outputs": [
    {
     "name": "stdout",
     "output_type": "stream",
     "text": [
      "вероятность получения убытков для региона one равен 0.011\n"
     ]
    }
   ],
   "source": [
    "#Посчитаем вероятность получения убытков исходя из текущего распределения средних прибылей для региона one\n",
    "negative_count_one=(values_one < 0).sum()\n",
    "negative_count_one\n",
    "prob_of_losses=negative_count_one/len(values_one)\n",
    "print(f'вероятность получения убытков для региона one равен {prob_of_losses}')"
   ]
  },
  {
   "cell_type": "code",
   "execution_count": 106,
   "metadata": {},
   "outputs": [
    {
     "data": {
      "image/png": "[encoded data removed]",
      "text/plain": [
       "<Figure size 720x432 with 1 Axes>"
      ]
     },
     "metadata": {
      "needs_background": "light"
     },
     "output_type": "display_data"
    }
   ],
   "source": [
    "# Построим распределение средних для региона one чтобы визуально подтвердить результат.\n",
    "plt.figure(figsize=(10,6))\n",
    "values_one.plot(kind='hist', bins=30, alpha=0.7)\n",
    "plt.title('Распределение ')\n",
    "plt.xlabel('Values')\n",
    "plt.ylabel('Frequency')\n",
    "plt.grid(True)\n",
    "plt.show()"
   ]
  },
  {
   "cell_type": "code",
   "execution_count": 107,
   "metadata": {},
   "outputs": [
    {
     "name": "stdout",
     "output_type": "stream",
     "text": [
      "Средняя прибыль: 403687927.86213845\n",
      "2.25й-квантиль: -153116984.7619049\n",
      "97.75й-квантиль: 952887416.7078604\n"
     ]
    }
   ],
   "source": [
    "#Расчитаем среднюю прибыль и дов интервалы с использованием бутстрапа для региона two.\n",
    "state = np.random.RandomState(12345)\n",
    "    \n",
    "values = []\n",
    "for i in range(1000):\n",
    "    pred_subsample  = valid_data_two['predictions'].sample(\n",
    "        frac=oil_well_for_exploration/valid_data_two.shape[0],\n",
    "        replace=True, random_state=state\n",
    "    )\n",
    "    fact_subsample = valid_data_two['product'][pred_subsample.index] \n",
    "    values.append(profit(pred_subsample, fact_subsample,  200))\n",
    "   \n",
    "values_two = pd.Series(values)\n",
    "lower = values_two.quantile(0.025)\n",
    "upper = values_two.quantile(0.975)\n",
    "\n",
    "mean_two = values_two.mean()\n",
    "print(\"Средняя прибыль:\", mean_two)\n",
    "print(\"2.25й-квантиль:\", lower)\n",
    "print(\"97.75й-квантиль:\", upper)"
   ]
  },
  {
   "cell_type": "code",
   "execution_count": 108,
   "metadata": {},
   "outputs": [
    {
     "name": "stdout",
     "output_type": "stream",
     "text": [
      "вероятность получения убытков для региона two равна 0.071\n"
     ]
    }
   ],
   "source": [
    "#Посчитаем вероятность получения убытков исходя из текущего распределения средних прибылей для региона two\n",
    "negative_count_two=(values_two < 0).sum()\n",
    "negative_count_two\n",
    "prob_of_losses=negative_count_two/len(values_two)\n",
    "print(f'вероятность получения убытков для региона two равна {prob_of_losses}')"
   ]
  },
  {
   "cell_type": "code",
   "execution_count": 109,
   "metadata": {},
   "outputs": [
    {
     "data": {
      "image/png": "[encoded data removed]",
      "text/plain": [
       "<Figure size 720x432 with 1 Axes>"
      ]
     },
     "metadata": {
      "needs_background": "light"
     },
     "output_type": "display_data"
    }
   ],
   "source": [
    "# Построим распределение средних для региона two чтобы визуально подтвердить результат.\n",
    "\n",
    "plt.figure(figsize=(10,6))\n",
    "values_two.plot(kind='hist', bins=30, alpha=0.7)\n",
    "plt.title('Распределение ')\n",
    "plt.xlabel('Values')\n",
    "plt.ylabel('Frequency')\n",
    "plt.grid(True)\n",
    "plt.show()"
   ]
  },
  {
   "cell_type": "markdown",
   "metadata": {},
   "source": [
    "### Итого по разделу:"
   ]
  },
  {
   "cell_type": "markdown",
   "metadata": {},
   "source": [
    "1. Проверен расчет средней прибыли (распределение средних) и дов интервалы для каждого региона с использованием бутстрапа.\n",
    "\n",
    "2. По итогам расчета получены следующие значения:\n",
    "\n",
    "2.1. По региону Zero: \n",
    "Средняя прибыль: 435933772.1386621\n",
    "2.25й-квантиль: -116231612.77720818\n",
    "97.75й-квантиль: 966504180.707376\n",
    "- вероятность получения убытков для региона zero равна 0.061\n",
    "2.1. По региону One:\n",
    "Средняя прибыль: 489661254.41175246\n",
    "2.25й-квантиль: 55116177.27361494\n",
    "97.75й-квантиль: 905762650.4248402\n",
    "- вероятность получения убытков для региона zero равна 0.011\n",
    "\n",
    "2.2 По региону Two:\n",
    "Средняя прибыль: 403687927.86213845\n",
    "2.25й-квантиль: -153116984.7619049\n",
    "97.75й-квантиль: 952887416.7078604\n",
    "- вероятность получения убытков для региона zero равна 0.071\n",
    "\n",
    "3. Выводы:\n",
    "- Исходя из распределения средних наибольшим потенциалом обладает регион One, наименьним регион Two.\n",
    "- Под требования проекта (вероятность убытков меньше 2.5%) подходит только регион One (1.1%)\n",
    "\n",
    "С учетом расчитанных значений прибыли и допустимой вероятности риска убытков предлагаем выбрать для разработки  регион One."
   ]
  },
  {
   "attachments": {
    "image-4.png": {
     "image/png": "[encoded data removed]"
    }
   },
   "cell_type": "markdown",
   "metadata": {},
   "source": [
    "Таблица с ключевыми расчетами в проекте:\n",
    "![image-4.png](attachment:image-4.png)"
   ]
  },
  {
   "cell_type": "markdown",
   "metadata": {},
   "source": [
    "## Общий вывод по проекту: \n",
    "   1. Загружены и проведены данные.\n",
    "   \n",
    "   2. Проведена предобработка. Датафреймы проверены на наличие явных дубликатов и пропусков. Типы данных приведены в соответствие. \n",
    "   \n",
    "   3. Проведен исследовательский анализ данных. Проведен корреляционный анализ признаков.\n",
    "   \n",
    "   4. С учетом разного характера распределений входящих признаков, наличия дискретных значений целевых признаков. Для каждого датасета (3 региона) была обучена отдельная модель линейной регрессии, посчитаны метрики качества, проверен анализ весов признаков и остатков. Проведен расчет среднего запаса.\n",
    "   - Максимальное качество модели rmse наблюдаем на geo_data_one (0.8901658757278079).\n",
    "   - Наибольшее среднее значение предсказанного запаса на валидационных данных в разрезе скважин наблюдаем на данных geo_data_two\n",
    "   \n",
    "   5. Расчитано значение минимального запаса скважины для достижения безубыточности. Полученное значение значительно превышает средние значения по всем 3 регионам (особенно по региону one). При этом, заданная методология предполагает отбор топ 200 лучших скважин для разработки, для которых среднее значение исследованных запасов выше минимального объема в каждом регионе.\n",
    "   \n",
    "   6. Создана функция для расчета прибыли региона с учетом разработки 200 скважин и предсказанных ранее значений исследованных запасов. Расчитан прогноз прибыли для каждого из регионов с учетом того, что максимальные расходы на разработку 200 выбранных месторождений региона составляют 10 млрд руб. По итогам прогноза наибольная прибыль достигается в регионе zero.\n",
    "- Прибыль для предсказанного объёма сырья в регионе zero: 3.359 млрд руб. \n",
    "- Прибыль для предсказанного объёма сырья в регионе one: 2.415 млрд руб.\n",
    "- Прибыль для предсказанного объёма сырья в регионе two: 2.598 млрд руб.\n",
    " \n",
    " \n",
    "   7. Проверен расчет средней прибыли (распределение средних) и дов интервалы для каждого региона с использованием бутстрапа.\n",
    "   По итогам расчета получены следующие значения:\n",
    "   \n",
    "    7.1 По региону Zero: \n",
    "    Средняя прибыль: 435933772.1386621\n",
    "    2.25й-квантиль: -116231612.77720818\n",
    "    97.75й-квантиль: 966504180.707376\n",
    "    - вероятность получения убытков для региона zero равна 0.061\n",
    "    7.2. По региону One:\n",
    "    Средняя прибыль: 489661254.41175246\n",
    "    2.25й-квантиль: 55116177.27361494\n",
    "    97.75й-квантиль: 905762650.4248402\n",
    "    - вероятность получения убытков для региона zero равна 0.011\n",
    "\n",
    "    7.3 По региону Two:\n",
    "    Средняя прибыль: 403687927.86213845\n",
    "    2.25й-квантиль: -153116984.7619049\n",
    "    97.75й-квантиль: 952887416.7078604\n",
    "    - вероятность получения убытков для региона zero равна 0.071\n",
    "    \n",
    "\n",
    "   8. Итоговый вывод:\n",
    "    - Исходя из распределения средних наибольшим потенциалом обладает регион One, наименьним регион Two.\n",
    "    - Под требования проекта (вероятность убытков меньше 2.5%) подходит только регион One (1.1%)\n"
   ]
  },
  {
   "cell_type": "markdown",
   "id": "06810722",
   "metadata": {},
   "source": [
    "## Сырой контент"
   ]
  },
  {
   "cell_type": "code",
   "execution_count": 110,
   "id": "b7a82d53",
   "metadata": {},
   "outputs": [],
   "source": [
    "# Создадим шаг для замены пропущенных значений числовых признаков медианой.\n",
    "num_pipe = Pipeline([\n",
    "    ('imputer', SimpleImputer(missing_values=np.nan, strategy='median')),\n",
    "    ('scaler', StandardScaler())\n",
    "])"
   ]
  },
  {
   "cell_type": "code",
   "execution_count": 111,
   "id": "aed0c733",
   "metadata": {},
   "outputs": [],
   "source": [
    "data_preprocessor = ColumnTransformer(\n",
    "    [\n",
    "        ('num', num_pipe, num_coll_list),\n",
    "    ], \n",
    "    remainder='passthrough'\n",
    ")"
   ]
  },
  {
   "cell_type": "code",
   "execution_count": 112,
   "id": "d38ee8f9",
   "metadata": {},
   "outputs": [],
   "source": [
    "pipe_final = Pipeline(\n",
    "    [\n",
    "        ('preprocessor', data_preprocessor),\n",
    "        ('models', LinearRegression())\n",
    "    ])"
   ]
  },
  {
   "cell_type": "code",
   "execution_count": 113,
   "id": "b670ddfb",
   "metadata": {},
   "outputs": [],
   "source": [
    "param_distributions = [\n",
    "    # словарь для модели Ridge()\n",
    "    {\n",
    "        'models': [LinearRegression()],\n",
    "        'preprocessor__num': [StandardScaler(), MinMaxScaler(), RobustScaler(), 'passthrough']\n",
    "    }\n",
    "]"
   ]
  },
  {
   "cell_type": "code",
   "execution_count": 114,
   "id": "d2f69f0b",
   "metadata": {
    "scrolled": false
   },
   "outputs": [
    {
     "data": {
      "text/html": [
       "<style>#sk-container-id-1 {color: black;}#sk-container-id-1 pre{padding: 0;}#sk-container-id-1 div.sk-toggleable {background-color: white;}#sk-container-id-1 label.sk-toggleable__label {cursor: pointer;display: block;width: 100%;margin-bottom: 0;padding: 0.3em;box-sizing: border-box;text-align: center;}#sk-container-id-1 label.sk-toggleable__label-arrow:before {content: \"▸\";float: left;margin-right: 0.25em;color: #696969;}#sk-container-id-1 label.sk-toggleable__label-arrow:hover:before {color: black;}#sk-container-id-1 div.sk-estimator:hover label.sk-toggleable__label-arrow:before {color: black;}#sk-container-id-1 div.sk-toggleable__content {max-height: 0;max-width: 0;overflow: hidden;text-align: left;background-color: #f0f8ff;}#sk-container-id-1 div.sk-toggleable__content pre {margin: 0.2em;color: black;border-radius: 0.25em;background-color: #f0f8ff;}#sk-container-id-1 input.sk-toggleable__control:checked~div.sk-toggleable__content {max-height: 200px;max-width: 100%;overflow: auto;}#sk-container-id-1 input.sk-toggleable__control:checked~label.sk-toggleable__label-arrow:before {content: \"▾\";}#sk-container-id-1 div.sk-estimator input.sk-toggleable__control:checked~label.sk-toggleable__label {background-color: #d4ebff;}#sk-container-id-1 div.sk-label input.sk-toggleable__control:checked~label.sk-toggleable__label {background-color: #d4ebff;}#sk-container-id-1 input.sk-hidden--visually {border: 0;clip: rect(1px 1px 1px 1px);clip: rect(1px, 1px, 1px, 1px);height: 1px;margin: -1px;overflow: hidden;padding: 0;position: absolute;width: 1px;}#sk-container-id-1 div.sk-estimator {font-family: monospace;background-color: #f0f8ff;border: 1px dotted black;border-radius: 0.25em;box-sizing: border-box;margin-bottom: 0.5em;}#sk-container-id-1 div.sk-estimator:hover {background-color: #d4ebff;}#sk-container-id-1 div.sk-parallel-item::after {content: \"\";width: 100%;border-bottom: 1px solid gray;flex-grow: 1;}#sk-container-id-1 div.sk-label:hover label.sk-toggleable__label {background-color: #d4ebff;}#sk-container-id-1 div.sk-serial::before {content: \"\";position: absolute;border-left: 1px solid gray;box-sizing: border-box;top: 0;bottom: 0;left: 50%;z-index: 0;}#sk-container-id-1 div.sk-serial {display: flex;flex-direction: column;align-items: center;background-color: white;padding-right: 0.2em;padding-left: 0.2em;position: relative;}#sk-container-id-1 div.sk-item {position: relative;z-index: 1;}#sk-container-id-1 div.sk-parallel {display: flex;align-items: stretch;justify-content: center;background-color: white;position: relative;}#sk-container-id-1 div.sk-item::before, #sk-container-id-1 div.sk-parallel-item::before {content: \"\";position: absolute;border-left: 1px solid gray;box-sizing: border-box;top: 0;bottom: 0;left: 50%;z-index: -1;}#sk-container-id-1 div.sk-parallel-item {display: flex;flex-direction: column;z-index: 1;position: relative;background-color: white;}#sk-container-id-1 div.sk-parallel-item:first-child::after {align-self: flex-end;width: 50%;}#sk-container-id-1 div.sk-parallel-item:last-child::after {align-self: flex-start;width: 50%;}#sk-container-id-1 div.sk-parallel-item:only-child::after {width: 0;}#sk-container-id-1 div.sk-dashed-wrapped {border: 1px dashed gray;margin: 0 0.4em 0.5em 0.4em;box-sizing: border-box;padding-bottom: 0.4em;background-color: white;}#sk-container-id-1 div.sk-label label {font-family: monospace;font-weight: bold;display: inline-block;line-height: 1.2em;}#sk-container-id-1 div.sk-label-container {text-align: center;}#sk-container-id-1 div.sk-container {/* jupyter's `normalize.less` sets `[hidden] { display: none; }` but bootstrap.min.css set `[hidden] { display: none !important; }` so we also need the `!important` here to be able to override the default hidden behavior on the sphinx rendered scikit-learn.org. See: https://github.com/scikit-learn/scikit-learn/issues/21755 */display: inline-block !important;position: relative;}#sk-container-id-1 div.sk-text-repr-fallback {display: none;}</style><div id=\"sk-container-id-1\" class=\"sk-top-container\"><div class=\"sk-text-repr-fallback\"><pre>RandomizedSearchCV(cv=5,\n",
       "                   estimator=Pipeline(steps=[(&#x27;preprocessor&#x27;,\n",
       "                                              ColumnTransformer(remainder=&#x27;passthrough&#x27;,\n",
       "                                                                transformers=[(&#x27;num&#x27;,\n",
       "                                                                               Pipeline(steps=[(&#x27;imputer&#x27;,\n",
       "                                                                                                SimpleImputer(strategy=&#x27;median&#x27;)),\n",
       "                                                                                               (&#x27;scaler&#x27;,\n",
       "                                                                                                StandardScaler())]),\n",
       "                                                                               [&#x27;f0&#x27;,\n",
       "                                                                                &#x27;f1&#x27;,\n",
       "                                                                                &#x27;f2&#x27;])])),\n",
       "                                             (&#x27;models&#x27;, LinearRegression())]),\n",
       "                   n_iter=50, n_jobs=-1,\n",
       "                   param_distributions=[{&#x27;models&#x27;: [LinearRegression()],\n",
       "                                         &#x27;preprocessor__num&#x27;: [StandardScaler(),\n",
       "                                                               MinMaxScaler(),\n",
       "                                                               RobustScaler(),\n",
       "                                                               &#x27;passthrough&#x27;]}],\n",
       "                   random_state=42, scoring=&#x27;neg_root_mean_squared_error&#x27;)</pre><b>In a Jupyter environment, please rerun this cell to show the HTML representation or trust the notebook. <br />On GitHub, the HTML representation is unable to render, please try loading this page with nbviewer.org.</b></div><div class=\"sk-container\" hidden><div class=\"sk-item sk-dashed-wrapped\"><div class=\"sk-label-container\"><div class=\"sk-label sk-toggleable\"><input class=\"sk-toggleable__control sk-hidden--visually\" id=\"sk-estimator-id-1\" type=\"checkbox\" ><label for=\"sk-estimator-id-1\" class=\"sk-toggleable__label sk-toggleable__label-arrow\">RandomizedSearchCV</label><div class=\"sk-toggleable__content\"><pre>RandomizedSearchCV(cv=5,\n",
       "                   estimator=Pipeline(steps=[(&#x27;preprocessor&#x27;,\n",
       "                                              ColumnTransformer(remainder=&#x27;passthrough&#x27;,\n",
       "                                                                transformers=[(&#x27;num&#x27;,\n",
       "                                                                               Pipeline(steps=[(&#x27;imputer&#x27;,\n",
       "                                                                                                SimpleImputer(strategy=&#x27;median&#x27;)),\n",
       "                                                                                               (&#x27;scaler&#x27;,\n",
       "                                                                                                StandardScaler())]),\n",
       "                                                                               [&#x27;f0&#x27;,\n",
       "                                                                                &#x27;f1&#x27;,\n",
       "                                                                                &#x27;f2&#x27;])])),\n",
       "                                             (&#x27;models&#x27;, LinearRegression())]),\n",
       "                   n_iter=50, n_jobs=-1,\n",
       "                   param_distributions=[{&#x27;models&#x27;: [LinearRegression()],\n",
       "                                         &#x27;preprocessor__num&#x27;: [StandardScaler(),\n",
       "                                                               MinMaxScaler(),\n",
       "                                                               RobustScaler(),\n",
       "                                                               &#x27;passthrough&#x27;]}],\n",
       "                   random_state=42, scoring=&#x27;neg_root_mean_squared_error&#x27;)</pre></div></div></div><div class=\"sk-parallel\"><div class=\"sk-parallel-item\"><div class=\"sk-item\"><div class=\"sk-label-container\"><div class=\"sk-label sk-toggleable\"><input class=\"sk-toggleable__control sk-hidden--visually\" id=\"sk-estimator-id-2\" type=\"checkbox\" ><label for=\"sk-estimator-id-2\" class=\"sk-toggleable__label sk-toggleable__label-arrow\">estimator: Pipeline</label><div class=\"sk-toggleable__content\"><pre>Pipeline(steps=[(&#x27;preprocessor&#x27;,\n",
       "                 ColumnTransformer(remainder=&#x27;passthrough&#x27;,\n",
       "                                   transformers=[(&#x27;num&#x27;,\n",
       "                                                  Pipeline(steps=[(&#x27;imputer&#x27;,\n",
       "                                                                   SimpleImputer(strategy=&#x27;median&#x27;)),\n",
       "                                                                  (&#x27;scaler&#x27;,\n",
       "                                                                   StandardScaler())]),\n",
       "                                                  [&#x27;f0&#x27;, &#x27;f1&#x27;, &#x27;f2&#x27;])])),\n",
       "                (&#x27;models&#x27;, LinearRegression())])</pre></div></div></div><div class=\"sk-serial\"><div class=\"sk-item\"><div class=\"sk-serial\"><div class=\"sk-item sk-dashed-wrapped\"><div class=\"sk-label-container\"><div class=\"sk-label sk-toggleable\"><input class=\"sk-toggleable__control sk-hidden--visually\" id=\"sk-estimator-id-3\" type=\"checkbox\" ><label for=\"sk-estimator-id-3\" class=\"sk-toggleable__label sk-toggleable__label-arrow\">preprocessor: ColumnTransformer</label><div class=\"sk-toggleable__content\"><pre>ColumnTransformer(remainder=&#x27;passthrough&#x27;,\n",
       "                  transformers=[(&#x27;num&#x27;,\n",
       "                                 Pipeline(steps=[(&#x27;imputer&#x27;,\n",
       "                                                  SimpleImputer(strategy=&#x27;median&#x27;)),\n",
       "                                                 (&#x27;scaler&#x27;, StandardScaler())]),\n",
       "                                 [&#x27;f0&#x27;, &#x27;f1&#x27;, &#x27;f2&#x27;])])</pre></div></div></div><div class=\"sk-parallel\"><div class=\"sk-parallel-item\"><div class=\"sk-item\"><div class=\"sk-label-container\"><div class=\"sk-label sk-toggleable\"><input class=\"sk-toggleable__control sk-hidden--visually\" id=\"sk-estimator-id-4\" type=\"checkbox\" ><label for=\"sk-estimator-id-4\" class=\"sk-toggleable__label sk-toggleable__label-arrow\">num</label><div class=\"sk-toggleable__content\"><pre>[&#x27;f0&#x27;, &#x27;f1&#x27;, &#x27;f2&#x27;]</pre></div></div></div><div class=\"sk-serial\"><div class=\"sk-item\"><div class=\"sk-serial\"><div class=\"sk-item\"><div class=\"sk-estimator sk-toggleable\"><input class=\"sk-toggleable__control sk-hidden--visually\" id=\"sk-estimator-id-5\" type=\"checkbox\" ><label for=\"sk-estimator-id-5\" class=\"sk-toggleable__label sk-toggleable__label-arrow\">SimpleImputer</label><div class=\"sk-toggleable__content\"><pre>SimpleImputer(strategy=&#x27;median&#x27;)</pre></div></div></div><div class=\"sk-item\"><div class=\"sk-estimator sk-toggleable\"><input class=\"sk-toggleable__control sk-hidden--visually\" id=\"sk-estimator-id-6\" type=\"checkbox\" ><label for=\"sk-estimator-id-6\" class=\"sk-toggleable__label sk-toggleable__label-arrow\">StandardScaler</label><div class=\"sk-toggleable__content\"><pre>StandardScaler()</pre></div></div></div></div></div></div></div></div><div class=\"sk-parallel-item\"><div class=\"sk-item\"><div class=\"sk-label-container\"><div class=\"sk-label sk-toggleable\"><input class=\"sk-toggleable__control sk-hidden--visually\" id=\"sk-estimator-id-7\" type=\"checkbox\" ><label for=\"sk-estimator-id-7\" class=\"sk-toggleable__label sk-toggleable__label-arrow\">remainder</label><div class=\"sk-toggleable__content\"><pre></pre></div></div></div><div class=\"sk-serial\"><div class=\"sk-item\"><div class=\"sk-estimator sk-toggleable\"><input class=\"sk-toggleable__control sk-hidden--visually\" id=\"sk-estimator-id-8\" type=\"checkbox\" ><label for=\"sk-estimator-id-8\" class=\"sk-toggleable__label sk-toggleable__label-arrow\">passthrough</label><div class=\"sk-toggleable__content\"><pre>passthrough</pre></div></div></div></div></div></div></div></div><div class=\"sk-item\"><div class=\"sk-estimator sk-toggleable\"><input class=\"sk-toggleable__control sk-hidden--visually\" id=\"sk-estimator-id-9\" type=\"checkbox\" ><label for=\"sk-estimator-id-9\" class=\"sk-toggleable__label sk-toggleable__label-arrow\">LinearRegression</label><div class=\"sk-toggleable__content\"><pre>LinearRegression()</pre></div></div></div></div></div></div></div></div></div></div></div></div>"
      ],
      "text/plain": [
       "RandomizedSearchCV(cv=5,\n",
       "                   estimator=Pipeline(steps=[('preprocessor',\n",
       "                                              ColumnTransformer(remainder='passthrough',\n",
       "                                                                transformers=[('num',\n",
       "                                                                               Pipeline(steps=[('imputer',\n",
       "                                                                                                SimpleImputer(strategy='median')),\n",
       "                                                                                               ('scaler',\n",
       "                                                                                                StandardScaler())]),\n",
       "                                                                               ['f0',\n",
       "                                                                                'f1',\n",
       "                                                                                'f2'])])),\n",
       "                                             ('models', LinearRegression())]),\n",
       "                   n_iter=50, n_jobs=-1,\n",
       "                   param_distributions=[{'models': [LinearRegression()],\n",
       "                                         'preprocessor__num': [StandardScaler(),\n",
       "                                                               MinMaxScaler(),\n",
       "                                                               RobustScaler(),\n",
       "                                                               'passthrough']}],\n",
       "                   random_state=42, scoring='neg_root_mean_squared_error')"
      ]
     },
     "execution_count": 114,
     "metadata": {},
     "output_type": "execute_result"
    }
   ],
   "source": [
    "randomized_search = RandomizedSearchCV(\n",
    "    pipe_final, \n",
    "    param_distributions=param_distributions, \n",
    "    scoring='neg_root_mean_squared_error',     \n",
    "    random_state=RANDOM_STATE,\n",
    "    n_iter=50,\n",
    "    cv=5,\n",
    "    n_jobs=-1\n",
    ")\n",
    "randomized_search.fit(X_train, y_train)"
   ]
  },
  {
   "cell_type": "code",
   "execution_count": 115,
   "id": "fcd1c1bd",
   "metadata": {},
   "outputs": [
    {
     "data": {
      "text/html": [
       "<style>#sk-container-id-2 {color: black;}#sk-container-id-2 pre{padding: 0;}#sk-container-id-2 div.sk-toggleable {background-color: white;}#sk-container-id-2 label.sk-toggleable__label {cursor: pointer;display: block;width: 100%;margin-bottom: 0;padding: 0.3em;box-sizing: border-box;text-align: center;}#sk-container-id-2 label.sk-toggleable__label-arrow:before {content: \"▸\";float: left;margin-right: 0.25em;color: #696969;}#sk-container-id-2 label.sk-toggleable__label-arrow:hover:before {color: black;}#sk-container-id-2 div.sk-estimator:hover label.sk-toggleable__label-arrow:before {color: black;}#sk-container-id-2 div.sk-toggleable__content {max-height: 0;max-width: 0;overflow: hidden;text-align: left;background-color: #f0f8ff;}#sk-container-id-2 div.sk-toggleable__content pre {margin: 0.2em;color: black;border-radius: 0.25em;background-color: #f0f8ff;}#sk-container-id-2 input.sk-toggleable__control:checked~div.sk-toggleable__content {max-height: 200px;max-width: 100%;overflow: auto;}#sk-container-id-2 input.sk-toggleable__control:checked~label.sk-toggleable__label-arrow:before {content: \"▾\";}#sk-container-id-2 div.sk-estimator input.sk-toggleable__control:checked~label.sk-toggleable__label {background-color: #d4ebff;}#sk-container-id-2 div.sk-label input.sk-toggleable__control:checked~label.sk-toggleable__label {background-color: #d4ebff;}#sk-container-id-2 input.sk-hidden--visually {border: 0;clip: rect(1px 1px 1px 1px);clip: rect(1px, 1px, 1px, 1px);height: 1px;margin: -1px;overflow: hidden;padding: 0;position: absolute;width: 1px;}#sk-container-id-2 div.sk-estimator {font-family: monospace;background-color: #f0f8ff;border: 1px dotted black;border-radius: 0.25em;box-sizing: border-box;margin-bottom: 0.5em;}#sk-container-id-2 div.sk-estimator:hover {background-color: #d4ebff;}#sk-container-id-2 div.sk-parallel-item::after {content: \"\";width: 100%;border-bottom: 1px solid gray;flex-grow: 1;}#sk-container-id-2 div.sk-label:hover label.sk-toggleable__label {background-color: #d4ebff;}#sk-container-id-2 div.sk-serial::before {content: \"\";position: absolute;border-left: 1px solid gray;box-sizing: border-box;top: 0;bottom: 0;left: 50%;z-index: 0;}#sk-container-id-2 div.sk-serial {display: flex;flex-direction: column;align-items: center;background-color: white;padding-right: 0.2em;padding-left: 0.2em;position: relative;}#sk-container-id-2 div.sk-item {position: relative;z-index: 1;}#sk-container-id-2 div.sk-parallel {display: flex;align-items: stretch;justify-content: center;background-color: white;position: relative;}#sk-container-id-2 div.sk-item::before, #sk-container-id-2 div.sk-parallel-item::before {content: \"\";position: absolute;border-left: 1px solid gray;box-sizing: border-box;top: 0;bottom: 0;left: 50%;z-index: -1;}#sk-container-id-2 div.sk-parallel-item {display: flex;flex-direction: column;z-index: 1;position: relative;background-color: white;}#sk-container-id-2 div.sk-parallel-item:first-child::after {align-self: flex-end;width: 50%;}#sk-container-id-2 div.sk-parallel-item:last-child::after {align-self: flex-start;width: 50%;}#sk-container-id-2 div.sk-parallel-item:only-child::after {width: 0;}#sk-container-id-2 div.sk-dashed-wrapped {border: 1px dashed gray;margin: 0 0.4em 0.5em 0.4em;box-sizing: border-box;padding-bottom: 0.4em;background-color: white;}#sk-container-id-2 div.sk-label label {font-family: monospace;font-weight: bold;display: inline-block;line-height: 1.2em;}#sk-container-id-2 div.sk-label-container {text-align: center;}#sk-container-id-2 div.sk-container {/* jupyter's `normalize.less` sets `[hidden] { display: none; }` but bootstrap.min.css set `[hidden] { display: none !important; }` so we also need the `!important` here to be able to override the default hidden behavior on the sphinx rendered scikit-learn.org. See: https://github.com/scikit-learn/scikit-learn/issues/21755 */display: inline-block !important;position: relative;}#sk-container-id-2 div.sk-text-repr-fallback {display: none;}</style><div id=\"sk-container-id-2\" class=\"sk-top-container\"><div class=\"sk-text-repr-fallback\"><pre>LinearRegression()</pre><b>In a Jupyter environment, please rerun this cell to show the HTML representation or trust the notebook. <br />On GitHub, the HTML representation is unable to render, please try loading this page with nbviewer.org.</b></div><div class=\"sk-container\" hidden><div class=\"sk-item\"><div class=\"sk-estimator sk-toggleable\"><input class=\"sk-toggleable__control sk-hidden--visually\" id=\"sk-estimator-id-10\" type=\"checkbox\" checked><label for=\"sk-estimator-id-10\" class=\"sk-toggleable__label sk-toggleable__label-arrow\">LinearRegression</label><div class=\"sk-toggleable__content\"><pre>LinearRegression()</pre></div></div></div></div></div>"
      ],
      "text/plain": [
       "LinearRegression()"
      ]
     },
     "execution_count": 115,
     "metadata": {},
     "output_type": "execute_result"
    }
   ],
   "source": [
    "best_model = randomized_search.best_estimator_['models']\n",
    "best_model"
   ]
  },
  {
   "cell_type": "code",
   "execution_count": 116,
   "id": "be16a8e0",
   "metadata": {
    "scrolled": false
   },
   "outputs": [
    {
     "name": "stdout",
     "output_type": "stream",
     "text": [
      "Метрика rmse для лучшей модели на кроссвалидации:\n",
      " 40.02698159997838\n",
      "{'preprocessor__num': StandardScaler(), 'models': LinearRegression()}\n"
     ]
    }
   ],
   "source": [
    "print('Метрика rmse для лучшей модели на кроссвалидации:\\n', -randomized_search.best_score_)\n",
    "print(randomized_search.best_params_)"
   ]
  },
  {
   "cell_type": "code",
   "execution_count": 117,
   "metadata": {},
   "outputs": [
    {
     "data": {
      "text/plain": [
       "array([-0.14567612, -0.02677615, 19.98791624])"
      ]
     },
     "execution_count": 117,
     "metadata": {},
     "output_type": "execute_result"
    }
   ],
   "source": [
    "best_model.coef_"
   ]
  },
  {
   "cell_type": "code",
   "execution_count": 118,
   "id": "50c93276",
   "metadata": {},
   "outputs": [
    {
     "name": "stdout",
     "output_type": "stream",
     "text": [
      "          Признак   Вес\n",
      "3  свободный_член 94.95\n",
      "2         num__f2 19.99\n",
      "1         num__f1 -0.03\n",
      "0         num__f0 -0.15\n"
     ]
    }
   ],
   "source": [
    "# Теперь мы можем получить веса признаков и свободный член\n",
    "weights = best_model.coef_  \n",
    "intercept = best_model.intercept_\n",
    "\n",
    "# Достаем названия признаков\n",
    "feature_names_transformed = randomized_search.best_estimator_.named_steps['preprocessor'].get_feature_names_out()\n",
    "\n",
    "# Создаем датафрейм с весами признаков\n",
    "weights_df = pd.DataFrame({\n",
    "    'Признак': feature_names_transformed,\n",
    "    'Вес': weights\n",
    "})\n",
    "\n",
    "# Добавляем строку для свободного члена (intercept)\n",
    "intercept_df = pd.DataFrame({\n",
    "    'Признак': ['свободный_член'],\n",
    "    'Вес': intercept\n",
    "})\n",
    "\n",
    "# Объединяем веса признаков и свободный член.\n",
    "weights_df = pd.concat([weights_df, intercept_df], ignore_index=True)\n",
    "\n",
    "# Сортируем по весу\n",
    "weights_df_sorted = weights_df.sort_values(by='Вес', ascending=False)\n",
    "\n",
    "# Выводим веса признаков и свободный член\n",
    "print(weights_df_sorted)"
   ]
  },
  {
   "cell_type": "markdown",
   "id": "8a4d1f89",
   "metadata": {},
   "source": []
  },
  {
   "cell_type": "markdown",
   "id": "7f1b5c35",
   "metadata": {},
   "source": [
    "param_distributions = [\n",
    "    # словарь для модели Ridge()\n",
    "    {\n",
    "        'models': [Ridge(random_state=RANDOM_STATE)],\n",
    "        'models__alpha': [0.001, 0.01, 0.1, 1],\n",
    "        'preprocessor__num': [StandardScaler(), MinMaxScaler(), RobustScaler(), 'passthrough']\n",
    "    }\n",
    "]"
   ]
  }
 ],
 "metadata": {
  "ExecuteTimeLog": [
   {
    "duration": 59,
    "start_time": "2024-04-20T11:25:24.333Z"
   },
   {
    "duration": 1794,
    "start_time": "2024-04-20T11:25:53.586Z"
   },
   {
    "duration": 3,
    "start_time": "2024-04-20T11:25:57.557Z"
   },
   {
    "duration": 89,
    "start_time": "2024-04-20T11:26:24.277Z"
   },
   {
    "duration": 1817,
    "start_time": "2024-04-30T07:11:02.198Z"
   },
   {
    "duration": 60,
    "start_time": "2024-04-30T07:11:04.017Z"
   },
   {
    "duration": 126,
    "start_time": "2024-04-30T07:11:04.079Z"
   },
   {
    "duration": 0,
    "start_time": "2024-04-30T07:11:04.211Z"
   },
   {
    "duration": 0,
    "start_time": "2024-04-30T07:11:04.212Z"
   },
   {
    "duration": 0,
    "start_time": "2024-04-30T07:11:04.213Z"
   },
   {
    "duration": 0,
    "start_time": "2024-04-30T07:11:04.215Z"
   },
   {
    "duration": 0,
    "start_time": "2024-04-30T07:11:04.216Z"
   },
   {
    "duration": 0,
    "start_time": "2024-04-30T07:11:04.217Z"
   },
   {
    "duration": 0,
    "start_time": "2024-04-30T07:11:04.218Z"
   },
   {
    "duration": 0,
    "start_time": "2024-04-30T07:11:04.219Z"
   },
   {
    "duration": 0,
    "start_time": "2024-04-30T07:11:04.221Z"
   },
   {
    "duration": 0,
    "start_time": "2024-04-30T07:11:04.222Z"
   },
   {
    "duration": 0,
    "start_time": "2024-04-30T07:11:04.223Z"
   },
   {
    "duration": 0,
    "start_time": "2024-04-30T07:11:04.224Z"
   },
   {
    "duration": 0,
    "start_time": "2024-04-30T07:11:04.225Z"
   },
   {
    "duration": 0,
    "start_time": "2024-04-30T07:11:04.226Z"
   },
   {
    "duration": 0,
    "start_time": "2024-04-30T07:11:04.227Z"
   },
   {
    "duration": 0,
    "start_time": "2024-04-30T07:11:04.228Z"
   },
   {
    "duration": 0,
    "start_time": "2024-04-30T07:11:04.229Z"
   },
   {
    "duration": 0,
    "start_time": "2024-04-30T07:11:04.230Z"
   },
   {
    "duration": 0,
    "start_time": "2024-04-30T07:11:04.232Z"
   },
   {
    "duration": 0,
    "start_time": "2024-04-30T07:11:04.233Z"
   },
   {
    "duration": 0,
    "start_time": "2024-04-30T07:11:04.234Z"
   },
   {
    "duration": 0,
    "start_time": "2024-04-30T07:11:04.235Z"
   },
   {
    "duration": 0,
    "start_time": "2024-04-30T07:11:04.236Z"
   },
   {
    "duration": 0,
    "start_time": "2024-04-30T07:11:04.237Z"
   },
   {
    "duration": 0,
    "start_time": "2024-04-30T07:11:04.238Z"
   },
   {
    "duration": 1,
    "start_time": "2024-04-30T07:11:04.282Z"
   },
   {
    "duration": 0,
    "start_time": "2024-04-30T07:11:04.284Z"
   },
   {
    "duration": 0,
    "start_time": "2024-04-30T07:11:04.285Z"
   },
   {
    "duration": 0,
    "start_time": "2024-04-30T07:11:04.286Z"
   },
   {
    "duration": 0,
    "start_time": "2024-04-30T07:11:04.287Z"
   },
   {
    "duration": 0,
    "start_time": "2024-04-30T07:11:04.288Z"
   },
   {
    "duration": 0,
    "start_time": "2024-04-30T07:11:04.288Z"
   },
   {
    "duration": 0,
    "start_time": "2024-04-30T07:11:04.289Z"
   },
   {
    "duration": 0,
    "start_time": "2024-04-30T07:11:04.290Z"
   },
   {
    "duration": 1,
    "start_time": "2024-04-30T07:11:04.291Z"
   },
   {
    "duration": 0,
    "start_time": "2024-04-30T07:11:04.293Z"
   },
   {
    "duration": 1,
    "start_time": "2024-04-30T07:11:04.293Z"
   },
   {
    "duration": 0,
    "start_time": "2024-04-30T07:11:04.295Z"
   },
   {
    "duration": 0,
    "start_time": "2024-04-30T07:11:04.296Z"
   },
   {
    "duration": 0,
    "start_time": "2024-04-30T07:11:04.297Z"
   },
   {
    "duration": 0,
    "start_time": "2024-04-30T07:11:04.297Z"
   },
   {
    "duration": 0,
    "start_time": "2024-04-30T07:11:04.298Z"
   },
   {
    "duration": 0,
    "start_time": "2024-04-30T07:11:04.299Z"
   },
   {
    "duration": 0,
    "start_time": "2024-04-30T07:11:04.301Z"
   },
   {
    "duration": 0,
    "start_time": "2024-04-30T07:11:04.302Z"
   },
   {
    "duration": 0,
    "start_time": "2024-04-30T07:11:04.303Z"
   },
   {
    "duration": 0,
    "start_time": "2024-04-30T07:11:04.304Z"
   },
   {
    "duration": 0,
    "start_time": "2024-04-30T07:11:04.305Z"
   },
   {
    "duration": 0,
    "start_time": "2024-04-30T07:11:04.306Z"
   },
   {
    "duration": 0,
    "start_time": "2024-04-30T07:11:04.307Z"
   },
   {
    "duration": 0,
    "start_time": "2024-04-30T07:11:04.308Z"
   },
   {
    "duration": 0,
    "start_time": "2024-04-30T07:11:04.309Z"
   },
   {
    "duration": 0,
    "start_time": "2024-04-30T07:11:04.310Z"
   },
   {
    "duration": 0,
    "start_time": "2024-04-30T07:11:04.312Z"
   },
   {
    "duration": 0,
    "start_time": "2024-04-30T07:11:04.313Z"
   },
   {
    "duration": 0,
    "start_time": "2024-04-30T07:11:04.315Z"
   },
   {
    "duration": 0,
    "start_time": "2024-04-30T07:11:04.316Z"
   },
   {
    "duration": 0,
    "start_time": "2024-04-30T07:11:04.318Z"
   },
   {
    "duration": 0,
    "start_time": "2024-04-30T07:11:04.320Z"
   },
   {
    "duration": 0,
    "start_time": "2024-04-30T07:11:04.383Z"
   },
   {
    "duration": 0,
    "start_time": "2024-04-30T07:11:04.384Z"
   },
   {
    "duration": 0,
    "start_time": "2024-04-30T07:11:04.385Z"
   },
   {
    "duration": 0,
    "start_time": "2024-04-30T07:11:04.386Z"
   },
   {
    "duration": 0,
    "start_time": "2024-04-30T07:11:04.387Z"
   },
   {
    "duration": 0,
    "start_time": "2024-04-30T07:11:04.388Z"
   },
   {
    "duration": 0,
    "start_time": "2024-04-30T07:11:04.389Z"
   },
   {
    "duration": 0,
    "start_time": "2024-04-30T07:11:04.390Z"
   },
   {
    "duration": 0,
    "start_time": "2024-04-30T07:11:04.391Z"
   },
   {
    "duration": 0,
    "start_time": "2024-04-30T07:11:04.392Z"
   },
   {
    "duration": 0,
    "start_time": "2024-04-30T07:11:04.393Z"
   },
   {
    "duration": 0,
    "start_time": "2024-04-30T07:11:04.394Z"
   },
   {
    "duration": 0,
    "start_time": "2024-04-30T07:11:04.395Z"
   },
   {
    "duration": 0,
    "start_time": "2024-04-30T07:11:04.396Z"
   },
   {
    "duration": 0,
    "start_time": "2024-04-30T07:11:04.397Z"
   },
   {
    "duration": 0,
    "start_time": "2024-04-30T07:11:04.398Z"
   },
   {
    "duration": 0,
    "start_time": "2024-04-30T07:11:04.399Z"
   },
   {
    "duration": 0,
    "start_time": "2024-04-30T07:11:04.400Z"
   },
   {
    "duration": 0,
    "start_time": "2024-04-30T07:11:04.401Z"
   },
   {
    "duration": 0,
    "start_time": "2024-04-30T07:11:04.403Z"
   },
   {
    "duration": 0,
    "start_time": "2024-04-30T07:11:04.404Z"
   },
   {
    "duration": 0,
    "start_time": "2024-04-30T07:11:04.405Z"
   },
   {
    "duration": 0,
    "start_time": "2024-04-30T07:11:04.406Z"
   },
   {
    "duration": 0,
    "start_time": "2024-04-30T07:11:04.407Z"
   },
   {
    "duration": 0,
    "start_time": "2024-04-30T07:11:04.408Z"
   },
   {
    "duration": 0,
    "start_time": "2024-04-30T07:11:04.409Z"
   },
   {
    "duration": 0,
    "start_time": "2024-04-30T07:11:04.410Z"
   },
   {
    "duration": 0,
    "start_time": "2024-04-30T07:11:04.412Z"
   },
   {
    "duration": 0,
    "start_time": "2024-04-30T07:11:04.413Z"
   },
   {
    "duration": 0,
    "start_time": "2024-04-30T07:11:04.414Z"
   },
   {
    "duration": 0,
    "start_time": "2024-04-30T07:11:04.415Z"
   },
   {
    "duration": 0,
    "start_time": "2024-04-30T07:11:04.482Z"
   },
   {
    "duration": 0,
    "start_time": "2024-04-30T07:11:04.483Z"
   },
   {
    "duration": 0,
    "start_time": "2024-04-30T07:11:04.485Z"
   },
   {
    "duration": 0,
    "start_time": "2024-04-30T07:11:04.486Z"
   },
   {
    "duration": 0,
    "start_time": "2024-04-30T07:11:04.487Z"
   },
   {
    "duration": 0,
    "start_time": "2024-04-30T07:11:04.488Z"
   },
   {
    "duration": 0,
    "start_time": "2024-04-30T07:11:04.489Z"
   },
   {
    "duration": 0,
    "start_time": "2024-04-30T07:11:04.491Z"
   },
   {
    "duration": 0,
    "start_time": "2024-04-30T07:11:04.492Z"
   },
   {
    "duration": 0,
    "start_time": "2024-04-30T07:11:04.493Z"
   },
   {
    "duration": 0,
    "start_time": "2024-04-30T07:11:04.494Z"
   },
   {
    "duration": 0,
    "start_time": "2024-04-30T07:11:04.495Z"
   },
   {
    "duration": 0,
    "start_time": "2024-04-30T07:11:04.497Z"
   },
   {
    "duration": 0,
    "start_time": "2024-04-30T07:11:04.498Z"
   },
   {
    "duration": 0,
    "start_time": "2024-04-30T07:11:04.499Z"
   },
   {
    "duration": 0,
    "start_time": "2024-04-30T07:11:04.500Z"
   },
   {
    "duration": 0,
    "start_time": "2024-04-30T07:11:04.501Z"
   },
   {
    "duration": 0,
    "start_time": "2024-04-30T07:11:04.502Z"
   },
   {
    "duration": 0,
    "start_time": "2024-04-30T07:11:04.503Z"
   },
   {
    "duration": 0,
    "start_time": "2024-04-30T07:11:04.504Z"
   },
   {
    "duration": 1496,
    "start_time": "2024-04-30T07:13:26.069Z"
   },
   {
    "duration": 58,
    "start_time": "2024-04-30T07:13:27.567Z"
   },
   {
    "duration": 2,
    "start_time": "2024-04-30T07:13:27.627Z"
   },
   {
    "duration": 126,
    "start_time": "2024-04-30T07:13:27.631Z"
   },
   {
    "duration": 0,
    "start_time": "2024-04-30T07:13:27.762Z"
   },
   {
    "duration": 0,
    "start_time": "2024-04-30T07:13:27.764Z"
   },
   {
    "duration": 0,
    "start_time": "2024-04-30T07:13:27.765Z"
   },
   {
    "duration": 0,
    "start_time": "2024-04-30T07:13:27.766Z"
   },
   {
    "duration": 0,
    "start_time": "2024-04-30T07:13:27.766Z"
   },
   {
    "duration": 0,
    "start_time": "2024-04-30T07:13:27.768Z"
   },
   {
    "duration": 0,
    "start_time": "2024-04-30T07:13:27.782Z"
   },
   {
    "duration": 0,
    "start_time": "2024-04-30T07:13:27.783Z"
   },
   {
    "duration": 0,
    "start_time": "2024-04-30T07:13:27.785Z"
   },
   {
    "duration": 0,
    "start_time": "2024-04-30T07:13:27.786Z"
   },
   {
    "duration": 0,
    "start_time": "2024-04-30T07:13:27.786Z"
   },
   {
    "duration": 0,
    "start_time": "2024-04-30T07:13:27.787Z"
   },
   {
    "duration": 1,
    "start_time": "2024-04-30T07:13:27.788Z"
   },
   {
    "duration": 0,
    "start_time": "2024-04-30T07:13:27.789Z"
   },
   {
    "duration": 0,
    "start_time": "2024-04-30T07:13:27.791Z"
   },
   {
    "duration": 0,
    "start_time": "2024-04-30T07:13:27.792Z"
   },
   {
    "duration": 0,
    "start_time": "2024-04-30T07:13:27.793Z"
   },
   {
    "duration": 0,
    "start_time": "2024-04-30T07:13:27.794Z"
   },
   {
    "duration": 0,
    "start_time": "2024-04-30T07:13:27.795Z"
   },
   {
    "duration": 0,
    "start_time": "2024-04-30T07:13:27.796Z"
   },
   {
    "duration": 0,
    "start_time": "2024-04-30T07:13:27.797Z"
   },
   {
    "duration": 0,
    "start_time": "2024-04-30T07:13:27.798Z"
   },
   {
    "duration": 0,
    "start_time": "2024-04-30T07:13:27.799Z"
   },
   {
    "duration": 0,
    "start_time": "2024-04-30T07:13:27.800Z"
   },
   {
    "duration": 0,
    "start_time": "2024-04-30T07:13:27.800Z"
   },
   {
    "duration": 0,
    "start_time": "2024-04-30T07:13:27.802Z"
   },
   {
    "duration": 0,
    "start_time": "2024-04-30T07:13:27.803Z"
   },
   {
    "duration": 0,
    "start_time": "2024-04-30T07:13:27.804Z"
   },
   {
    "duration": 0,
    "start_time": "2024-04-30T07:13:27.805Z"
   },
   {
    "duration": 0,
    "start_time": "2024-04-30T07:13:27.805Z"
   },
   {
    "duration": 0,
    "start_time": "2024-04-30T07:13:27.806Z"
   },
   {
    "duration": 0,
    "start_time": "2024-04-30T07:13:27.807Z"
   },
   {
    "duration": 0,
    "start_time": "2024-04-30T07:13:27.808Z"
   },
   {
    "duration": 0,
    "start_time": "2024-04-30T07:13:27.809Z"
   },
   {
    "duration": 0,
    "start_time": "2024-04-30T07:13:27.810Z"
   },
   {
    "duration": 0,
    "start_time": "2024-04-30T07:13:27.811Z"
   },
   {
    "duration": 0,
    "start_time": "2024-04-30T07:13:27.813Z"
   },
   {
    "duration": 0,
    "start_time": "2024-04-30T07:13:27.814Z"
   },
   {
    "duration": 0,
    "start_time": "2024-04-30T07:13:27.815Z"
   },
   {
    "duration": 0,
    "start_time": "2024-04-30T07:13:27.816Z"
   },
   {
    "duration": 0,
    "start_time": "2024-04-30T07:13:27.817Z"
   },
   {
    "duration": 0,
    "start_time": "2024-04-30T07:13:27.818Z"
   },
   {
    "duration": 0,
    "start_time": "2024-04-30T07:13:27.819Z"
   },
   {
    "duration": 0,
    "start_time": "2024-04-30T07:13:27.820Z"
   },
   {
    "duration": 0,
    "start_time": "2024-04-30T07:13:27.882Z"
   },
   {
    "duration": 0,
    "start_time": "2024-04-30T07:13:27.883Z"
   },
   {
    "duration": 0,
    "start_time": "2024-04-30T07:13:27.884Z"
   },
   {
    "duration": 0,
    "start_time": "2024-04-30T07:13:27.885Z"
   },
   {
    "duration": 0,
    "start_time": "2024-04-30T07:13:27.886Z"
   },
   {
    "duration": 0,
    "start_time": "2024-04-30T07:13:27.887Z"
   },
   {
    "duration": 0,
    "start_time": "2024-04-30T07:13:27.890Z"
   },
   {
    "duration": 0,
    "start_time": "2024-04-30T07:13:27.891Z"
   },
   {
    "duration": 0,
    "start_time": "2024-04-30T07:13:27.892Z"
   },
   {
    "duration": 0,
    "start_time": "2024-04-30T07:13:27.894Z"
   },
   {
    "duration": 0,
    "start_time": "2024-04-30T07:13:27.895Z"
   },
   {
    "duration": 0,
    "start_time": "2024-04-30T07:13:27.896Z"
   },
   {
    "duration": 0,
    "start_time": "2024-04-30T07:13:27.897Z"
   },
   {
    "duration": 0,
    "start_time": "2024-04-30T07:13:27.898Z"
   },
   {
    "duration": 0,
    "start_time": "2024-04-30T07:13:27.899Z"
   },
   {
    "duration": 0,
    "start_time": "2024-04-30T07:13:27.900Z"
   },
   {
    "duration": 0,
    "start_time": "2024-04-30T07:13:27.901Z"
   },
   {
    "duration": 0,
    "start_time": "2024-04-30T07:13:27.902Z"
   },
   {
    "duration": 0,
    "start_time": "2024-04-30T07:13:27.904Z"
   },
   {
    "duration": 0,
    "start_time": "2024-04-30T07:13:27.904Z"
   },
   {
    "duration": 0,
    "start_time": "2024-04-30T07:13:27.905Z"
   },
   {
    "duration": 0,
    "start_time": "2024-04-30T07:13:27.906Z"
   },
   {
    "duration": 0,
    "start_time": "2024-04-30T07:13:27.907Z"
   },
   {
    "duration": 0,
    "start_time": "2024-04-30T07:13:27.908Z"
   },
   {
    "duration": 0,
    "start_time": "2024-04-30T07:13:27.909Z"
   },
   {
    "duration": 0,
    "start_time": "2024-04-30T07:13:27.910Z"
   },
   {
    "duration": 0,
    "start_time": "2024-04-30T07:13:27.911Z"
   },
   {
    "duration": 0,
    "start_time": "2024-04-30T07:13:27.912Z"
   },
   {
    "duration": 0,
    "start_time": "2024-04-30T07:13:27.913Z"
   },
   {
    "duration": 0,
    "start_time": "2024-04-30T07:13:27.914Z"
   },
   {
    "duration": 0,
    "start_time": "2024-04-30T07:13:27.915Z"
   },
   {
    "duration": 0,
    "start_time": "2024-04-30T07:13:27.916Z"
   },
   {
    "duration": 0,
    "start_time": "2024-04-30T07:13:27.917Z"
   },
   {
    "duration": 0,
    "start_time": "2024-04-30T07:13:27.918Z"
   },
   {
    "duration": 0,
    "start_time": "2024-04-30T07:13:27.919Z"
   },
   {
    "duration": 0,
    "start_time": "2024-04-30T07:13:27.920Z"
   },
   {
    "duration": 0,
    "start_time": "2024-04-30T07:13:27.982Z"
   },
   {
    "duration": 0,
    "start_time": "2024-04-30T07:13:27.984Z"
   },
   {
    "duration": 0,
    "start_time": "2024-04-30T07:13:27.985Z"
   },
   {
    "duration": 0,
    "start_time": "2024-04-30T07:13:27.986Z"
   },
   {
    "duration": 0,
    "start_time": "2024-04-30T07:13:27.987Z"
   },
   {
    "duration": 0,
    "start_time": "2024-04-30T07:13:27.988Z"
   },
   {
    "duration": 0,
    "start_time": "2024-04-30T07:13:27.989Z"
   },
   {
    "duration": 0,
    "start_time": "2024-04-30T07:13:27.990Z"
   },
   {
    "duration": 0,
    "start_time": "2024-04-30T07:13:27.991Z"
   },
   {
    "duration": 0,
    "start_time": "2024-04-30T07:13:27.992Z"
   },
   {
    "duration": 0,
    "start_time": "2024-04-30T07:13:27.993Z"
   },
   {
    "duration": 0,
    "start_time": "2024-04-30T07:13:27.994Z"
   },
   {
    "duration": 0,
    "start_time": "2024-04-30T07:13:27.995Z"
   },
   {
    "duration": 0,
    "start_time": "2024-04-30T07:13:27.996Z"
   },
   {
    "duration": 1,
    "start_time": "2024-04-30T07:13:27.997Z"
   },
   {
    "duration": 0,
    "start_time": "2024-04-30T07:13:27.999Z"
   },
   {
    "duration": 0,
    "start_time": "2024-04-30T07:13:28.000Z"
   },
   {
    "duration": 0,
    "start_time": "2024-04-30T07:13:28.001Z"
   },
   {
    "duration": 0,
    "start_time": "2024-04-30T07:13:28.002Z"
   },
   {
    "duration": 0,
    "start_time": "2024-04-30T07:13:28.003Z"
   },
   {
    "duration": 0,
    "start_time": "2024-04-30T07:13:28.004Z"
   },
   {
    "duration": 0,
    "start_time": "2024-04-30T07:13:28.005Z"
   },
   {
    "duration": 0,
    "start_time": "2024-04-30T07:13:28.006Z"
   },
   {
    "duration": 0,
    "start_time": "2024-04-30T07:13:28.007Z"
   },
   {
    "duration": 0,
    "start_time": "2024-04-30T07:13:28.008Z"
   },
   {
    "duration": 0,
    "start_time": "2024-04-30T07:13:28.009Z"
   },
   {
    "duration": 0,
    "start_time": "2024-04-30T07:13:28.010Z"
   },
   {
    "duration": 0,
    "start_time": "2024-04-30T07:13:28.012Z"
   },
   {
    "duration": 27,
    "start_time": "2024-04-30T07:58:54.972Z"
   },
   {
    "duration": 7568,
    "start_time": "2024-04-30T08:00:56.109Z"
   },
   {
    "duration": 3268,
    "start_time": "2024-04-30T08:01:22.761Z"
   },
   {
    "duration": 3548,
    "start_time": "2024-04-30T08:01:36.869Z"
   },
   {
    "duration": 3374,
    "start_time": "2024-04-30T08:02:07.109Z"
   },
   {
    "duration": 3239,
    "start_time": "2024-04-30T08:02:22.193Z"
   },
   {
    "duration": 3546,
    "start_time": "2024-04-30T08:02:41.577Z"
   },
   {
    "duration": 4224,
    "start_time": "2024-04-30T08:02:53.659Z"
   },
   {
    "duration": 5995,
    "start_time": "2024-04-30T08:03:02.849Z"
   },
   {
    "duration": 2767,
    "start_time": "2024-04-30T08:03:24.530Z"
   },
   {
    "duration": 2761,
    "start_time": "2024-04-30T08:03:27.300Z"
   },
   {
    "duration": 2712,
    "start_time": "2024-04-30T08:03:30.063Z"
   },
   {
    "duration": 2928,
    "start_time": "2024-04-30T08:03:32.778Z"
   },
   {
    "duration": 2672,
    "start_time": "2024-04-30T08:03:35.708Z"
   },
   {
    "duration": 2742,
    "start_time": "2024-04-30T08:03:38.383Z"
   },
   {
    "duration": 2767,
    "start_time": "2024-04-30T08:03:41.128Z"
   },
   {
    "duration": 1430,
    "start_time": "2024-04-30T08:03:43.897Z"
   },
   {
    "duration": 68,
    "start_time": "2024-04-30T08:03:45.329Z"
   },
   {
    "duration": 3,
    "start_time": "2024-04-30T08:03:45.400Z"
   },
   {
    "duration": 423,
    "start_time": "2024-04-30T08:03:45.404Z"
   },
   {
    "duration": 3,
    "start_time": "2024-04-30T08:03:45.829Z"
   },
   {
    "duration": 13,
    "start_time": "2024-04-30T08:03:45.833Z"
   },
   {
    "duration": 513,
    "start_time": "2024-04-30T08:03:45.848Z"
   },
   {
    "duration": 33,
    "start_time": "2024-04-30T08:03:46.363Z"
   },
   {
    "duration": 24,
    "start_time": "2024-04-30T08:03:46.397Z"
   },
   {
    "duration": 526,
    "start_time": "2024-04-30T08:03:46.423Z"
   },
   {
    "duration": 38,
    "start_time": "2024-04-30T08:03:46.951Z"
   },
   {
    "duration": 20,
    "start_time": "2024-04-30T08:03:46.990Z"
   },
   {
    "duration": 593,
    "start_time": "2024-04-30T08:03:47.012Z"
   },
   {
    "duration": 31,
    "start_time": "2024-04-30T08:03:47.607Z"
   },
   {
    "duration": 11,
    "start_time": "2024-04-30T08:03:47.639Z"
   },
   {
    "duration": 5,
    "start_time": "2024-04-30T08:03:47.652Z"
   },
   {
    "duration": 181,
    "start_time": "2024-04-30T08:03:47.658Z"
   },
   {
    "duration": 3,
    "start_time": "2024-04-30T08:03:47.841Z"
   },
   {
    "duration": 184,
    "start_time": "2024-04-30T08:03:47.845Z"
   },
   {
    "duration": 70,
    "start_time": "2024-04-30T08:03:48.031Z"
   },
   {
    "duration": 17,
    "start_time": "2024-04-30T08:03:48.105Z"
   },
   {
    "duration": 29,
    "start_time": "2024-04-30T08:03:48.124Z"
   },
   {
    "duration": 179,
    "start_time": "2024-04-30T08:03:48.154Z"
   },
   {
    "duration": 158,
    "start_time": "2024-04-30T08:03:48.334Z"
   },
   {
    "duration": 66,
    "start_time": "2024-04-30T08:03:48.493Z"
   },
   {
    "duration": 33,
    "start_time": "2024-04-30T08:03:48.560Z"
   },
   {
    "duration": 26,
    "start_time": "2024-04-30T08:03:48.595Z"
   },
   {
    "duration": 185,
    "start_time": "2024-04-30T08:03:48.623Z"
   },
   {
    "duration": 154,
    "start_time": "2024-04-30T08:03:48.810Z"
   },
   {
    "duration": 72,
    "start_time": "2024-04-30T08:03:48.965Z"
   },
   {
    "duration": 17,
    "start_time": "2024-04-30T08:03:49.039Z"
   },
   {
    "duration": 45,
    "start_time": "2024-04-30T08:03:49.057Z"
   },
   {
    "duration": 19,
    "start_time": "2024-04-30T08:03:49.103Z"
   },
   {
    "duration": 3,
    "start_time": "2024-04-30T08:03:49.124Z"
   },
   {
    "duration": 6,
    "start_time": "2024-04-30T08:03:49.129Z"
   },
   {
    "duration": 7,
    "start_time": "2024-04-30T08:03:49.136Z"
   },
   {
    "duration": 12,
    "start_time": "2024-04-30T08:03:49.145Z"
   },
   {
    "duration": 540,
    "start_time": "2024-04-30T08:03:49.158Z"
   },
   {
    "duration": 408,
    "start_time": "2024-04-30T08:03:49.700Z"
   },
   {
    "duration": 307,
    "start_time": "2024-04-30T08:03:50.110Z"
   },
   {
    "duration": 302,
    "start_time": "2024-04-30T08:03:50.419Z"
   },
   {
    "duration": 299,
    "start_time": "2024-04-30T08:03:50.723Z"
   },
   {
    "duration": 522,
    "start_time": "2024-04-30T08:03:51.024Z"
   },
   {
    "duration": 430,
    "start_time": "2024-04-30T08:03:51.548Z"
   },
   {
    "duration": 277,
    "start_time": "2024-04-30T08:03:51.982Z"
   },
   {
    "duration": 175,
    "start_time": "2024-04-30T08:03:52.261Z"
   },
   {
    "duration": 230,
    "start_time": "2024-04-30T08:03:52.438Z"
   },
   {
    "duration": 563,
    "start_time": "2024-04-30T08:03:52.669Z"
   },
   {
    "duration": 263,
    "start_time": "2024-04-30T08:03:53.234Z"
   },
   {
    "duration": 11,
    "start_time": "2024-04-30T08:03:53.499Z"
   },
   {
    "duration": 475,
    "start_time": "2024-04-30T08:03:53.512Z"
   },
   {
    "duration": 413,
    "start_time": "2024-04-30T08:03:53.989Z"
   },
   {
    "duration": 384,
    "start_time": "2024-04-30T08:03:54.403Z"
   },
   {
    "duration": 425,
    "start_time": "2024-04-30T08:03:54.789Z"
   },
   {
    "duration": 4,
    "start_time": "2024-04-30T08:03:55.215Z"
   },
   {
    "duration": 4,
    "start_time": "2024-04-30T08:03:55.221Z"
   },
   {
    "duration": 4,
    "start_time": "2024-04-30T08:03:55.226Z"
   },
   {
    "duration": 1167,
    "start_time": "2024-04-30T08:03:55.232Z"
   },
   {
    "duration": 5,
    "start_time": "2024-04-30T08:03:56.484Z"
   },
   {
    "duration": 92,
    "start_time": "2024-04-30T08:03:56.491Z"
   },
   {
    "duration": 26,
    "start_time": "2024-04-30T08:03:56.585Z"
   },
   {
    "duration": 355,
    "start_time": "2024-04-30T08:03:56.612Z"
   },
   {
    "duration": 7,
    "start_time": "2024-04-30T08:03:56.968Z"
   },
   {
    "duration": 47,
    "start_time": "2024-04-30T08:03:56.983Z"
   },
   {
    "duration": 40,
    "start_time": "2024-04-30T08:03:57.032Z"
   },
   {
    "duration": 911,
    "start_time": "2024-04-30T08:03:57.073Z"
   },
   {
    "duration": 5,
    "start_time": "2024-04-30T08:03:57.987Z"
   },
   {
    "duration": 96,
    "start_time": "2024-04-30T08:03:57.994Z"
   },
   {
    "duration": 13,
    "start_time": "2024-04-30T08:03:58.092Z"
   },
   {
    "duration": 442,
    "start_time": "2024-04-30T08:03:58.108Z"
   },
   {
    "duration": 7,
    "start_time": "2024-04-30T08:03:58.552Z"
   },
   {
    "duration": 28,
    "start_time": "2024-04-30T08:03:58.560Z"
   },
   {
    "duration": 6,
    "start_time": "2024-04-30T08:03:58.589Z"
   },
   {
    "duration": 25,
    "start_time": "2024-04-30T08:03:58.597Z"
   },
   {
    "duration": 1058,
    "start_time": "2024-04-30T08:03:58.628Z"
   },
   {
    "duration": 96,
    "start_time": "2024-04-30T08:03:59.688Z"
   },
   {
    "duration": 6,
    "start_time": "2024-04-30T08:03:59.786Z"
   },
   {
    "duration": 88,
    "start_time": "2024-04-30T08:03:59.795Z"
   },
   {
    "duration": 372,
    "start_time": "2024-04-30T08:03:59.885Z"
   },
   {
    "duration": 6,
    "start_time": "2024-04-30T08:04:00.259Z"
   },
   {
    "duration": 96,
    "start_time": "2024-04-30T08:04:00.266Z"
   },
   {
    "duration": 27,
    "start_time": "2024-04-30T08:04:00.364Z"
   },
   {
    "duration": 32,
    "start_time": "2024-04-30T08:04:00.392Z"
   },
   {
    "duration": 32,
    "start_time": "2024-04-30T08:04:00.426Z"
   },
   {
    "duration": 45,
    "start_time": "2024-04-30T08:04:00.459Z"
   },
   {
    "duration": 22,
    "start_time": "2024-04-30T08:04:00.506Z"
   },
   {
    "duration": 44,
    "start_time": "2024-04-30T08:04:00.529Z"
   },
   {
    "duration": 14,
    "start_time": "2024-04-30T08:04:00.574Z"
   },
   {
    "duration": 29,
    "start_time": "2024-04-30T08:04:00.589Z"
   },
   {
    "duration": 39,
    "start_time": "2024-04-30T08:04:00.620Z"
   },
   {
    "duration": 39,
    "start_time": "2024-04-30T08:04:00.660Z"
   },
   {
    "duration": 53,
    "start_time": "2024-04-30T08:04:00.701Z"
   },
   {
    "duration": 12,
    "start_time": "2024-04-30T08:04:00.756Z"
   },
   {
    "duration": 23,
    "start_time": "2024-04-30T08:04:00.769Z"
   },
   {
    "duration": 1203,
    "start_time": "2024-04-30T08:04:00.794Z"
   },
   {
    "duration": 4,
    "start_time": "2024-04-30T08:04:01.999Z"
   },
   {
    "duration": 213,
    "start_time": "2024-04-30T08:04:02.004Z"
   },
   {
    "duration": 1299,
    "start_time": "2024-04-30T08:04:02.218Z"
   },
   {
    "duration": 5,
    "start_time": "2024-04-30T08:04:03.519Z"
   },
   {
    "duration": 225,
    "start_time": "2024-04-30T08:04:03.525Z"
   },
   {
    "duration": 1153,
    "start_time": "2024-04-30T08:04:03.752Z"
   },
   {
    "duration": 4,
    "start_time": "2024-04-30T08:04:04.908Z"
   },
   {
    "duration": 212,
    "start_time": "2024-04-30T08:04:04.914Z"
   },
   {
    "duration": 3,
    "start_time": "2024-04-30T08:04:05.127Z"
   },
   {
    "duration": 36,
    "start_time": "2024-04-30T08:04:05.132Z"
   },
   {
    "duration": 7,
    "start_time": "2024-04-30T08:04:05.170Z"
   },
   {
    "duration": 4,
    "start_time": "2024-04-30T08:04:05.179Z"
   },
   {
    "duration": 3252,
    "start_time": "2024-04-30T08:04:05.184Z"
   },
   {
    "duration": 5,
    "start_time": "2024-04-30T08:04:08.438Z"
   },
   {
    "duration": 18,
    "start_time": "2024-04-30T08:04:08.444Z"
   },
   {
    "duration": 21,
    "start_time": "2024-04-30T08:04:08.463Z"
   },
   {
    "duration": 7924,
    "start_time": "2024-04-30T10:05:25.096Z"
   },
   {
    "duration": 56,
    "start_time": "2024-04-30T10:05:38.372Z"
   },
   {
    "duration": 3,
    "start_time": "2024-04-30T10:05:41.216Z"
   },
   {
    "duration": 3,
    "start_time": "2024-04-30T10:05:42.985Z"
   },
   {
    "duration": 3,
    "start_time": "2024-04-30T10:05:43.548Z"
   },
   {
    "duration": 572,
    "start_time": "2024-04-30T10:05:45.612Z"
   },
   {
    "duration": 38,
    "start_time": "2024-04-30T10:05:46.186Z"
   },
   {
    "duration": 14,
    "start_time": "2024-04-30T10:05:46.226Z"
   },
   {
    "duration": 481,
    "start_time": "2024-04-30T10:05:46.263Z"
   },
   {
    "duration": 28,
    "start_time": "2024-04-30T10:05:46.745Z"
   },
   {
    "duration": 20,
    "start_time": "2024-04-30T10:05:46.775Z"
   },
   {
    "duration": 530,
    "start_time": "2024-04-30T10:05:47.079Z"
   },
   {
    "duration": 29,
    "start_time": "2024-04-30T10:05:47.611Z"
   },
   {
    "duration": 10,
    "start_time": "2024-04-30T10:05:47.642Z"
   },
   {
    "duration": 4,
    "start_time": "2024-04-30T10:05:50.126Z"
   },
   {
    "duration": 144,
    "start_time": "2024-04-30T10:05:50.523Z"
   },
   {
    "duration": 3,
    "start_time": "2024-04-30T10:05:50.683Z"
   },
   {
    "duration": 149,
    "start_time": "2024-04-30T10:05:50.858Z"
   },
   {
    "duration": 67,
    "start_time": "2024-04-30T10:05:51.020Z"
   },
   {
    "duration": 18,
    "start_time": "2024-04-30T10:05:51.183Z"
   },
   {
    "duration": 25,
    "start_time": "2024-04-30T10:05:51.341Z"
   },
   {
    "duration": 131,
    "start_time": "2024-04-30T10:05:51.742Z"
   },
   {
    "duration": 149,
    "start_time": "2024-04-30T10:05:51.874Z"
   },
   {
    "duration": 64,
    "start_time": "2024-04-30T10:05:52.024Z"
   },
   {
    "duration": 30,
    "start_time": "2024-04-30T10:05:52.090Z"
   },
   {
    "duration": 33,
    "start_time": "2024-04-30T10:05:52.121Z"
   },
   {
    "duration": 148,
    "start_time": "2024-04-30T10:05:52.156Z"
   },
   {
    "duration": 158,
    "start_time": "2024-04-30T10:05:52.305Z"
   },
   {
    "duration": 72,
    "start_time": "2024-04-30T10:05:52.465Z"
   },
   {
    "duration": 16,
    "start_time": "2024-04-30T10:05:52.539Z"
   },
   {
    "duration": 28,
    "start_time": "2024-04-30T10:05:52.556Z"
   },
   {
    "duration": 18,
    "start_time": "2024-04-30T10:05:53.964Z"
   },
   {
    "duration": 111,
    "start_time": "2024-04-30T10:06:09.925Z"
   },
   {
    "duration": 2,
    "start_time": "2024-04-30T10:06:27.144Z"
   },
   {
    "duration": 3,
    "start_time": "2024-04-30T10:06:29.119Z"
   },
   {
    "duration": 911,
    "start_time": "2024-04-30T10:06:32.305Z"
   },
   {
    "duration": 3,
    "start_time": "2024-04-30T10:06:33.748Z"
   },
   {
    "duration": 3,
    "start_time": "2024-04-30T10:06:34.334Z"
   },
   {
    "duration": 12,
    "start_time": "2024-04-30T10:06:35.893Z"
   },
   {
    "duration": 334,
    "start_time": "2024-04-30T10:06:37.125Z"
   },
   {
    "duration": 6,
    "start_time": "2024-04-30T10:06:38.686Z"
   },
   {
    "duration": 17,
    "start_time": "2024-04-30T10:06:38.885Z"
   },
   {
    "duration": 5,
    "start_time": "2024-04-30T10:06:39.456Z"
   },
   {
    "duration": 9,
    "start_time": "2024-04-30T10:06:40.064Z"
   },
   {
    "duration": 3,
    "start_time": "2024-04-30T10:06:46.879Z"
   },
   {
    "duration": 3,
    "start_time": "2024-04-30T10:06:47.326Z"
   },
   {
    "duration": 3,
    "start_time": "2024-04-30T10:06:47.558Z"
   },
   {
    "duration": 4,
    "start_time": "2024-04-30T10:06:47.848Z"
   },
   {
    "duration": 3094,
    "start_time": "2024-04-30T10:06:48.241Z"
   },
   {
    "duration": 4,
    "start_time": "2024-04-30T10:06:54.681Z"
   },
   {
    "duration": 6,
    "start_time": "2024-04-30T10:06:56.121Z"
   },
   {
    "duration": 11,
    "start_time": "2024-04-30T10:06:57.696Z"
   },
   {
    "duration": 6,
    "start_time": "2024-04-30T10:07:19.628Z"
   },
   {
    "duration": 9,
    "start_time": "2024-04-30T10:07:31.484Z"
   },
   {
    "duration": 3,
    "start_time": "2024-04-30T10:07:34.058Z"
   },
   {
    "duration": 12,
    "start_time": "2024-04-30T10:07:38.243Z"
   },
   {
    "duration": 3,
    "start_time": "2024-04-30T10:07:57.520Z"
   },
   {
    "duration": 5,
    "start_time": "2024-04-30T10:08:03.990Z"
   },
   {
    "duration": 7,
    "start_time": "2024-04-30T18:01:35.424Z"
   },
   {
    "duration": 6291,
    "start_time": "2024-04-30T18:01:50.711Z"
   },
   {
    "duration": 2851,
    "start_time": "2024-04-30T18:01:57.004Z"
   },
   {
    "duration": 3926,
    "start_time": "2024-04-30T18:01:59.857Z"
   },
   {
    "duration": 2506,
    "start_time": "2024-04-30T18:02:03.785Z"
   },
   {
    "duration": 3041,
    "start_time": "2024-04-30T18:02:06.292Z"
   },
   {
    "duration": 3544,
    "start_time": "2024-04-30T18:02:09.335Z"
   },
   {
    "duration": 5944,
    "start_time": "2024-04-30T18:02:12.881Z"
   },
   {
    "duration": 1420,
    "start_time": "2024-04-30T18:02:18.827Z"
   },
   {
    "duration": 68,
    "start_time": "2024-04-30T18:02:20.248Z"
   },
   {
    "duration": 3,
    "start_time": "2024-04-30T18:02:20.319Z"
   },
   {
    "duration": 379,
    "start_time": "2024-04-30T18:02:20.323Z"
   },
   {
    "duration": 3,
    "start_time": "2024-04-30T18:02:20.703Z"
   },
   {
    "duration": 22,
    "start_time": "2024-04-30T18:02:20.708Z"
   },
   {
    "duration": 479,
    "start_time": "2024-04-30T18:02:20.731Z"
   },
   {
    "duration": 28,
    "start_time": "2024-04-30T18:02:21.212Z"
   },
   {
    "duration": 24,
    "start_time": "2024-04-30T18:02:21.242Z"
   },
   {
    "duration": 457,
    "start_time": "2024-04-30T18:02:21.267Z"
   },
   {
    "duration": 27,
    "start_time": "2024-04-30T18:02:21.725Z"
   },
   {
    "duration": 18,
    "start_time": "2024-04-30T18:02:21.753Z"
   },
   {
    "duration": 544,
    "start_time": "2024-04-30T18:02:21.773Z"
   },
   {
    "duration": 27,
    "start_time": "2024-04-30T18:02:22.319Z"
   },
   {
    "duration": 22,
    "start_time": "2024-04-30T18:02:22.348Z"
   },
   {
    "duration": 26,
    "start_time": "2024-04-30T18:02:22.371Z"
   },
   {
    "duration": 139,
    "start_time": "2024-04-30T18:02:22.398Z"
   },
   {
    "duration": 3,
    "start_time": "2024-04-30T18:02:22.538Z"
   },
   {
    "duration": 135,
    "start_time": "2024-04-30T18:02:22.542Z"
   },
   {
    "duration": 56,
    "start_time": "2024-04-30T18:02:22.678Z"
   },
   {
    "duration": 27,
    "start_time": "2024-04-30T18:02:22.738Z"
   },
   {
    "duration": 28,
    "start_time": "2024-04-30T18:02:22.766Z"
   },
   {
    "duration": 125,
    "start_time": "2024-04-30T18:02:22.796Z"
   },
   {
    "duration": 132,
    "start_time": "2024-04-30T18:02:22.923Z"
   },
   {
    "duration": 60,
    "start_time": "2024-04-30T18:02:23.056Z"
   },
   {
    "duration": 15,
    "start_time": "2024-04-30T18:02:23.117Z"
   },
   {
    "duration": 36,
    "start_time": "2024-04-30T18:02:23.134Z"
   },
   {
    "duration": 142,
    "start_time": "2024-04-30T18:02:23.172Z"
   },
   {
    "duration": 141,
    "start_time": "2024-04-30T18:02:23.316Z"
   },
   {
    "duration": 60,
    "start_time": "2024-04-30T18:02:23.458Z"
   },
   {
    "duration": 14,
    "start_time": "2024-04-30T18:02:23.520Z"
   },
   {
    "duration": 43,
    "start_time": "2024-04-30T18:02:23.535Z"
   },
   {
    "duration": 22,
    "start_time": "2024-04-30T18:02:23.580Z"
   },
   {
    "duration": 5,
    "start_time": "2024-04-30T18:02:23.603Z"
   },
   {
    "duration": 7,
    "start_time": "2024-04-30T18:02:23.609Z"
   },
   {
    "duration": 8,
    "start_time": "2024-04-30T18:02:23.617Z"
   },
   {
    "duration": 11,
    "start_time": "2024-04-30T18:02:23.627Z"
   },
   {
    "duration": 461,
    "start_time": "2024-04-30T18:02:23.640Z"
   },
   {
    "duration": 331,
    "start_time": "2024-04-30T18:02:24.103Z"
   },
   {
    "duration": 230,
    "start_time": "2024-04-30T18:02:24.435Z"
   },
   {
    "duration": 274,
    "start_time": "2024-04-30T18:02:24.667Z"
   },
   {
    "duration": 260,
    "start_time": "2024-04-30T18:02:24.942Z"
   },
   {
    "duration": 415,
    "start_time": "2024-04-30T18:02:25.203Z"
   },
   {
    "duration": 339,
    "start_time": "2024-04-30T18:02:25.619Z"
   },
   {
    "duration": 324,
    "start_time": "2024-04-30T18:02:25.959Z"
   },
   {
    "duration": 200,
    "start_time": "2024-04-30T18:02:26.285Z"
   },
   {
    "duration": 194,
    "start_time": "2024-04-30T18:02:26.487Z"
   },
   {
    "duration": 490,
    "start_time": "2024-04-30T18:02:26.682Z"
   },
   {
    "duration": 214,
    "start_time": "2024-04-30T18:02:27.173Z"
   },
   {
    "duration": 7,
    "start_time": "2024-04-30T18:02:27.388Z"
   },
   {
    "duration": 539,
    "start_time": "2024-04-30T18:02:27.396Z"
   },
   {
    "duration": 340,
    "start_time": "2024-04-30T18:02:27.937Z"
   },
   {
    "duration": 373,
    "start_time": "2024-04-30T18:02:28.279Z"
   },
   {
    "duration": 343,
    "start_time": "2024-04-30T18:02:28.653Z"
   },
   {
    "duration": 3,
    "start_time": "2024-04-30T18:02:28.998Z"
   },
   {
    "duration": 4,
    "start_time": "2024-04-30T18:02:29.003Z"
   },
   {
    "duration": 3,
    "start_time": "2024-04-30T18:02:29.008Z"
   },
   {
    "duration": 854,
    "start_time": "2024-04-30T18:02:29.013Z"
   },
   {
    "duration": 95,
    "start_time": "2024-04-30T18:02:29.870Z"
   },
   {
    "duration": 4,
    "start_time": "2024-04-30T18:02:29.967Z"
   },
   {
    "duration": 8,
    "start_time": "2024-04-30T18:02:29.973Z"
   },
   {
    "duration": 322,
    "start_time": "2024-04-30T18:02:29.983Z"
   },
   {
    "duration": 6,
    "start_time": "2024-04-30T18:02:30.306Z"
   },
   {
    "duration": 142,
    "start_time": "2024-04-30T18:02:30.313Z"
   },
   {
    "duration": 42,
    "start_time": "2024-04-30T18:02:30.457Z"
   },
   {
    "duration": 1067,
    "start_time": "2024-04-30T18:02:30.500Z"
   },
   {
    "duration": 95,
    "start_time": "2024-04-30T18:02:31.569Z"
   },
   {
    "duration": 4,
    "start_time": "2024-04-30T18:02:31.666Z"
   },
   {
    "duration": 95,
    "start_time": "2024-04-30T18:02:31.671Z"
   },
   {
    "duration": 319,
    "start_time": "2024-04-30T18:02:31.768Z"
   },
   {
    "duration": 6,
    "start_time": "2024-04-30T18:02:32.088Z"
   },
   {
    "duration": 32,
    "start_time": "2024-04-30T18:02:32.095Z"
   },
   {
    "duration": 23,
    "start_time": "2024-04-30T18:02:32.129Z"
   },
   {
    "duration": 22,
    "start_time": "2024-04-30T18:02:32.153Z"
   },
   {
    "duration": 787,
    "start_time": "2024-04-30T18:02:32.181Z"
   },
   {
    "duration": 5,
    "start_time": "2024-04-30T18:02:32.969Z"
   },
   {
    "duration": 92,
    "start_time": "2024-04-30T18:02:32.977Z"
   },
   {
    "duration": 96,
    "start_time": "2024-04-30T18:02:33.072Z"
   },
   {
    "duration": 298,
    "start_time": "2024-04-30T18:02:33.170Z"
   },
   {
    "duration": 5,
    "start_time": "2024-04-30T18:02:33.469Z"
   },
   {
    "duration": 42,
    "start_time": "2024-04-30T18:02:33.476Z"
   },
   {
    "duration": 40,
    "start_time": "2024-04-30T18:02:33.519Z"
   },
   {
    "duration": 34,
    "start_time": "2024-04-30T18:02:33.561Z"
   },
   {
    "duration": 3,
    "start_time": "2024-04-30T18:02:33.597Z"
   },
   {
    "duration": 11,
    "start_time": "2024-04-30T18:02:33.601Z"
   },
   {
    "duration": 12,
    "start_time": "2024-04-30T18:02:33.613Z"
   },
   {
    "duration": 35,
    "start_time": "2024-04-30T18:02:33.627Z"
   },
   {
    "duration": 4,
    "start_time": "2024-04-30T18:02:33.663Z"
   },
   {
    "duration": 8,
    "start_time": "2024-04-30T18:02:33.668Z"
   },
   {
    "duration": 19,
    "start_time": "2024-04-30T18:02:33.678Z"
   },
   {
    "duration": 5,
    "start_time": "2024-04-30T18:02:33.699Z"
   },
   {
    "duration": 178,
    "start_time": "2024-04-30T18:02:33.706Z"
   },
   {
    "duration": 0,
    "start_time": "2024-04-30T18:02:33.885Z"
   },
   {
    "duration": 0,
    "start_time": "2024-04-30T18:02:33.887Z"
   },
   {
    "duration": 0,
    "start_time": "2024-04-30T18:02:33.889Z"
   },
   {
    "duration": 0,
    "start_time": "2024-04-30T18:02:33.890Z"
   },
   {
    "duration": 0,
    "start_time": "2024-04-30T18:02:33.891Z"
   },
   {
    "duration": 0,
    "start_time": "2024-04-30T18:02:33.893Z"
   },
   {
    "duration": 0,
    "start_time": "2024-04-30T18:02:33.894Z"
   },
   {
    "duration": 0,
    "start_time": "2024-04-30T18:02:33.895Z"
   },
   {
    "duration": 0,
    "start_time": "2024-04-30T18:02:33.897Z"
   },
   {
    "duration": 0,
    "start_time": "2024-04-30T18:02:33.899Z"
   },
   {
    "duration": 0,
    "start_time": "2024-04-30T18:02:33.900Z"
   },
   {
    "duration": 0,
    "start_time": "2024-04-30T18:02:33.901Z"
   },
   {
    "duration": 0,
    "start_time": "2024-04-30T18:02:33.903Z"
   },
   {
    "duration": 0,
    "start_time": "2024-04-30T18:02:33.904Z"
   },
   {
    "duration": 0,
    "start_time": "2024-04-30T18:02:33.905Z"
   },
   {
    "duration": 0,
    "start_time": "2024-04-30T18:02:33.907Z"
   },
   {
    "duration": 0,
    "start_time": "2024-04-30T18:02:33.908Z"
   },
   {
    "duration": 0,
    "start_time": "2024-04-30T18:02:33.909Z"
   },
   {
    "duration": 0,
    "start_time": "2024-04-30T18:02:33.911Z"
   },
   {
    "duration": 0,
    "start_time": "2024-04-30T18:02:33.912Z"
   },
   {
    "duration": 21,
    "start_time": "2024-04-30T18:03:06.487Z"
   },
   {
    "duration": 5,
    "start_time": "2024-04-30T18:09:26.419Z"
   },
   {
    "duration": 23,
    "start_time": "2024-04-30T18:09:29.538Z"
   },
   {
    "duration": 1117,
    "start_time": "2024-04-30T18:09:47.318Z"
   },
   {
    "duration": 27,
    "start_time": "2024-04-30T18:11:12.250Z"
   },
   {
    "duration": 16,
    "start_time": "2024-04-30T18:11:32.314Z"
   },
   {
    "duration": 1048,
    "start_time": "2024-04-30T18:13:47.872Z"
   },
   {
    "duration": 4,
    "start_time": "2024-04-30T18:14:05.130Z"
   },
   {
    "duration": 167,
    "start_time": "2024-04-30T18:14:31.594Z"
   },
   {
    "duration": 13,
    "start_time": "2024-04-30T18:15:27.694Z"
   },
   {
    "duration": 1237,
    "start_time": "2024-04-30T18:15:42.306Z"
   },
   {
    "duration": 5,
    "start_time": "2024-04-30T18:15:49.122Z"
   },
   {
    "duration": 165,
    "start_time": "2024-04-30T18:15:52.817Z"
   },
   {
    "duration": 1040,
    "start_time": "2024-04-30T18:16:17.834Z"
   },
   {
    "duration": 4,
    "start_time": "2024-04-30T18:16:23.710Z"
   },
   {
    "duration": 209,
    "start_time": "2024-04-30T18:16:35.698Z"
   },
   {
    "duration": 202,
    "start_time": "2024-04-30T18:19:40.981Z"
   },
   {
    "duration": 180,
    "start_time": "2024-04-30T18:19:53.469Z"
   },
   {
    "duration": 2337,
    "start_time": "2024-04-30T18:32:32.825Z"
   },
   {
    "duration": 2349,
    "start_time": "2024-04-30T18:32:35.164Z"
   },
   {
    "duration": 2408,
    "start_time": "2024-04-30T18:32:37.518Z"
   },
   {
    "duration": 2465,
    "start_time": "2024-04-30T18:32:39.928Z"
   },
   {
    "duration": 2298,
    "start_time": "2024-04-30T18:32:42.395Z"
   },
   {
    "duration": 2343,
    "start_time": "2024-04-30T18:32:44.695Z"
   },
   {
    "duration": 2338,
    "start_time": "2024-04-30T18:32:47.040Z"
   },
   {
    "duration": 1273,
    "start_time": "2024-04-30T18:32:49.381Z"
   },
   {
    "duration": 59,
    "start_time": "2024-04-30T18:32:50.656Z"
   },
   {
    "duration": 2,
    "start_time": "2024-04-30T18:32:50.717Z"
   },
   {
    "duration": 702,
    "start_time": "2024-04-30T18:32:50.720Z"
   },
   {
    "duration": 2,
    "start_time": "2024-04-30T18:32:51.424Z"
   },
   {
    "duration": 19,
    "start_time": "2024-04-30T18:32:51.427Z"
   },
   {
    "duration": 563,
    "start_time": "2024-04-30T18:32:51.447Z"
   },
   {
    "duration": 30,
    "start_time": "2024-04-30T18:32:52.011Z"
   },
   {
    "duration": 25,
    "start_time": "2024-04-30T18:32:52.043Z"
   },
   {
    "duration": 472,
    "start_time": "2024-04-30T18:32:52.070Z"
   },
   {
    "duration": 28,
    "start_time": "2024-04-30T18:32:52.543Z"
   },
   {
    "duration": 10,
    "start_time": "2024-04-30T18:32:52.573Z"
   },
   {
    "duration": 514,
    "start_time": "2024-04-30T18:32:52.584Z"
   },
   {
    "duration": 27,
    "start_time": "2024-04-30T18:32:53.099Z"
   },
   {
    "duration": 9,
    "start_time": "2024-04-30T18:32:53.128Z"
   },
   {
    "duration": 24,
    "start_time": "2024-04-30T18:32:53.139Z"
   },
   {
    "duration": 138,
    "start_time": "2024-04-30T18:32:53.164Z"
   },
   {
    "duration": 3,
    "start_time": "2024-04-30T18:32:53.303Z"
   },
   {
    "duration": 173,
    "start_time": "2024-04-30T18:32:53.307Z"
   },
   {
    "duration": 67,
    "start_time": "2024-04-30T18:32:53.485Z"
   },
   {
    "duration": 27,
    "start_time": "2024-04-30T18:32:53.553Z"
   },
   {
    "duration": 36,
    "start_time": "2024-04-30T18:32:53.581Z"
   },
   {
    "duration": 152,
    "start_time": "2024-04-30T18:32:53.619Z"
   },
   {
    "duration": 152,
    "start_time": "2024-04-30T18:32:53.773Z"
   },
   {
    "duration": 67,
    "start_time": "2024-04-30T18:32:53.927Z"
   },
   {
    "duration": 14,
    "start_time": "2024-04-30T18:32:53.995Z"
   },
   {
    "duration": 27,
    "start_time": "2024-04-30T18:32:54.010Z"
   },
   {
    "duration": 153,
    "start_time": "2024-04-30T18:32:54.039Z"
   },
   {
    "duration": 139,
    "start_time": "2024-04-30T18:32:54.193Z"
   },
   {
    "duration": 67,
    "start_time": "2024-04-30T18:32:54.334Z"
   },
   {
    "duration": 15,
    "start_time": "2024-04-30T18:32:54.403Z"
   },
   {
    "duration": 21,
    "start_time": "2024-04-30T18:32:54.419Z"
   },
   {
    "duration": 28,
    "start_time": "2024-04-30T18:32:54.442Z"
   },
   {
    "duration": 3,
    "start_time": "2024-04-30T18:32:54.471Z"
   },
   {
    "duration": 21,
    "start_time": "2024-04-30T18:32:54.476Z"
   },
   {
    "duration": 6,
    "start_time": "2024-04-30T18:32:54.498Z"
   },
   {
    "duration": 7,
    "start_time": "2024-04-30T18:32:54.506Z"
   },
   {
    "duration": 460,
    "start_time": "2024-04-30T18:32:54.515Z"
   },
   {
    "duration": 362,
    "start_time": "2024-04-30T18:32:54.976Z"
   },
   {
    "duration": 237,
    "start_time": "2024-04-30T18:32:55.340Z"
   },
   {
    "duration": 261,
    "start_time": "2024-04-30T18:32:55.579Z"
   },
   {
    "duration": 238,
    "start_time": "2024-04-30T18:32:55.842Z"
   },
   {
    "duration": 430,
    "start_time": "2024-04-30T18:32:56.081Z"
   },
   {
    "duration": 352,
    "start_time": "2024-04-30T18:32:56.513Z"
   },
   {
    "duration": 237,
    "start_time": "2024-04-30T18:32:56.866Z"
   },
   {
    "duration": 158,
    "start_time": "2024-04-30T18:32:57.105Z"
   },
   {
    "duration": 174,
    "start_time": "2024-04-30T18:32:57.265Z"
   },
   {
    "duration": 475,
    "start_time": "2024-04-30T18:32:57.440Z"
   },
   {
    "duration": 202,
    "start_time": "2024-04-30T18:32:57.916Z"
   },
   {
    "duration": 7,
    "start_time": "2024-04-30T18:32:58.119Z"
   },
   {
    "duration": 439,
    "start_time": "2024-04-30T18:32:58.128Z"
   },
   {
    "duration": 362,
    "start_time": "2024-04-30T18:32:58.568Z"
   },
   {
    "duration": 335,
    "start_time": "2024-04-30T18:32:58.932Z"
   },
   {
    "duration": 326,
    "start_time": "2024-04-30T18:32:59.269Z"
   },
   {
    "duration": 5,
    "start_time": "2024-04-30T18:32:59.596Z"
   },
   {
    "duration": 4,
    "start_time": "2024-04-30T18:32:59.603Z"
   },
   {
    "duration": 3,
    "start_time": "2024-04-30T18:32:59.609Z"
   },
   {
    "duration": 1054,
    "start_time": "2024-04-30T18:32:59.614Z"
   },
   {
    "duration": 5,
    "start_time": "2024-04-30T18:33:00.670Z"
   },
   {
    "duration": 99,
    "start_time": "2024-04-30T18:33:00.767Z"
   },
   {
    "duration": 10,
    "start_time": "2024-04-30T18:33:00.868Z"
   },
   {
    "duration": 348,
    "start_time": "2024-04-30T18:33:00.880Z"
   },
   {
    "duration": 7,
    "start_time": "2024-04-30T18:33:01.229Z"
   },
   {
    "duration": 47,
    "start_time": "2024-04-30T18:33:01.237Z"
   },
   {
    "duration": 34,
    "start_time": "2024-04-30T18:33:01.286Z"
   },
   {
    "duration": 1056,
    "start_time": "2024-04-30T18:33:01.322Z"
   },
   {
    "duration": 5,
    "start_time": "2024-04-30T18:33:02.467Z"
   },
   {
    "duration": 114,
    "start_time": "2024-04-30T18:33:02.474Z"
   },
   {
    "duration": 14,
    "start_time": "2024-04-30T18:33:02.590Z"
   },
   {
    "duration": 321,
    "start_time": "2024-04-30T18:33:02.606Z"
   },
   {
    "duration": 5,
    "start_time": "2024-04-30T18:33:02.929Z"
   },
   {
    "duration": 16,
    "start_time": "2024-04-30T18:33:02.936Z"
   },
   {
    "duration": 14,
    "start_time": "2024-04-30T18:33:02.954Z"
   },
   {
    "duration": 10,
    "start_time": "2024-04-30T18:33:02.973Z"
   },
   {
    "duration": 1186,
    "start_time": "2024-04-30T18:33:02.984Z"
   },
   {
    "duration": 94,
    "start_time": "2024-04-30T18:33:04.172Z"
   },
   {
    "duration": 4,
    "start_time": "2024-04-30T18:33:04.269Z"
   },
   {
    "duration": 91,
    "start_time": "2024-04-30T18:33:04.275Z"
   },
   {
    "duration": 292,
    "start_time": "2024-04-30T18:33:04.368Z"
   },
   {
    "duration": 6,
    "start_time": "2024-04-30T18:33:04.662Z"
   },
   {
    "duration": 15,
    "start_time": "2024-04-30T18:33:04.670Z"
   },
   {
    "duration": 11,
    "start_time": "2024-04-30T18:33:04.687Z"
   },
   {
    "duration": 6,
    "start_time": "2024-04-30T18:33:04.700Z"
   },
   {
    "duration": 2,
    "start_time": "2024-04-30T18:33:04.708Z"
   },
   {
    "duration": 5,
    "start_time": "2024-04-30T18:33:04.712Z"
   },
   {
    "duration": 16,
    "start_time": "2024-04-30T18:33:04.718Z"
   },
   {
    "duration": 40,
    "start_time": "2024-04-30T18:33:04.735Z"
   },
   {
    "duration": 2,
    "start_time": "2024-04-30T18:33:04.777Z"
   },
   {
    "duration": 8,
    "start_time": "2024-04-30T18:33:04.780Z"
   },
   {
    "duration": 9,
    "start_time": "2024-04-30T18:33:04.789Z"
   },
   {
    "duration": 6,
    "start_time": "2024-04-30T18:33:04.800Z"
   },
   {
    "duration": 15,
    "start_time": "2024-04-30T18:33:04.808Z"
   },
   {
    "duration": 3,
    "start_time": "2024-04-30T18:33:04.825Z"
   },
   {
    "duration": 1011,
    "start_time": "2024-04-30T18:33:04.829Z"
   },
   {
    "duration": 4,
    "start_time": "2024-04-30T18:33:05.842Z"
   },
   {
    "duration": 162,
    "start_time": "2024-04-30T18:33:05.847Z"
   },
   {
    "duration": 1142,
    "start_time": "2024-04-30T18:33:06.010Z"
   },
   {
    "duration": 4,
    "start_time": "2024-04-30T18:33:07.153Z"
   },
   {
    "duration": 190,
    "start_time": "2024-04-30T18:33:07.158Z"
   },
   {
    "duration": 1001,
    "start_time": "2024-04-30T18:33:07.350Z"
   },
   {
    "duration": 4,
    "start_time": "2024-04-30T18:33:08.352Z"
   },
   {
    "duration": 190,
    "start_time": "2024-04-30T18:33:08.357Z"
   },
   {
    "duration": 3,
    "start_time": "2024-04-30T18:33:08.549Z"
   },
   {
    "duration": 11,
    "start_time": "2024-04-30T18:33:08.554Z"
   },
   {
    "duration": 3,
    "start_time": "2024-04-30T18:33:08.566Z"
   },
   {
    "duration": 5,
    "start_time": "2024-04-30T18:33:08.570Z"
   },
   {
    "duration": 3242,
    "start_time": "2024-04-30T18:33:08.576Z"
   },
   {
    "duration": 4,
    "start_time": "2024-04-30T18:33:11.819Z"
   },
   {
    "duration": 5,
    "start_time": "2024-04-30T18:33:11.825Z"
   },
   {
    "duration": 4,
    "start_time": "2024-04-30T18:33:11.832Z"
   },
   {
    "duration": 29,
    "start_time": "2024-04-30T18:33:11.837Z"
   },
   {
    "duration": 4,
    "start_time": "2024-04-30T19:03:22.635Z"
   },
   {
    "duration": 4,
    "start_time": "2024-04-30T19:03:40.132Z"
   },
   {
    "duration": 10,
    "start_time": "2024-04-30T19:03:52.600Z"
   },
   {
    "duration": 3,
    "start_time": "2024-04-30T19:08:32.067Z"
   },
   {
    "duration": 3,
    "start_time": "2024-04-30T19:09:25.843Z"
   },
   {
    "duration": 16,
    "start_time": "2024-04-30T19:10:51.731Z"
   },
   {
    "duration": 17,
    "start_time": "2024-04-30T19:11:21.503Z"
   },
   {
    "duration": 1259,
    "start_time": "2024-04-30T19:28:47.301Z"
   },
   {
    "duration": 4,
    "start_time": "2024-04-30T19:29:29.101Z"
   },
   {
    "duration": 169,
    "start_time": "2024-04-30T19:29:38.457Z"
   },
   {
    "duration": 1265,
    "start_time": "2024-04-30T19:30:54.289Z"
   },
   {
    "duration": 4,
    "start_time": "2024-04-30T19:31:02.073Z"
   },
   {
    "duration": 162,
    "start_time": "2024-04-30T19:31:08.321Z"
   },
   {
    "duration": 1283,
    "start_time": "2024-04-30T19:32:06.189Z"
   },
   {
    "duration": 4,
    "start_time": "2024-04-30T19:32:10.933Z"
   },
   {
    "duration": 164,
    "start_time": "2024-04-30T19:32:22.369Z"
   },
   {
    "duration": 2353,
    "start_time": "2024-04-30T19:55:34.165Z"
   },
   {
    "duration": 2709,
    "start_time": "2024-04-30T19:55:36.520Z"
   },
   {
    "duration": 2311,
    "start_time": "2024-04-30T19:55:39.231Z"
   },
   {
    "duration": 2639,
    "start_time": "2024-04-30T19:55:41.545Z"
   },
   {
    "duration": 2304,
    "start_time": "2024-04-30T19:55:44.186Z"
   },
   {
    "duration": 2293,
    "start_time": "2024-04-30T19:55:46.493Z"
   },
   {
    "duration": 2293,
    "start_time": "2024-04-30T19:55:48.788Z"
   },
   {
    "duration": 1289,
    "start_time": "2024-04-30T19:55:51.083Z"
   },
   {
    "duration": 71,
    "start_time": "2024-04-30T19:55:52.374Z"
   },
   {
    "duration": 2,
    "start_time": "2024-04-30T19:55:52.448Z"
   },
   {
    "duration": 374,
    "start_time": "2024-04-30T19:55:52.452Z"
   },
   {
    "duration": 2,
    "start_time": "2024-04-30T19:55:52.828Z"
   },
   {
    "duration": 6,
    "start_time": "2024-04-30T19:55:52.832Z"
   },
   {
    "duration": 468,
    "start_time": "2024-04-30T19:55:52.839Z"
   },
   {
    "duration": 29,
    "start_time": "2024-04-30T19:55:53.309Z"
   },
   {
    "duration": 27,
    "start_time": "2024-04-30T19:55:53.339Z"
   },
   {
    "duration": 471,
    "start_time": "2024-04-30T19:55:53.367Z"
   },
   {
    "duration": 37,
    "start_time": "2024-04-30T19:55:53.840Z"
   },
   {
    "duration": 10,
    "start_time": "2024-04-30T19:55:53.878Z"
   },
   {
    "duration": 523,
    "start_time": "2024-04-30T19:55:53.889Z"
   },
   {
    "duration": 26,
    "start_time": "2024-04-30T19:55:54.413Z"
   },
   {
    "duration": 9,
    "start_time": "2024-04-30T19:55:54.441Z"
   },
   {
    "duration": 15,
    "start_time": "2024-04-30T19:55:54.451Z"
   },
   {
    "duration": 141,
    "start_time": "2024-04-30T19:55:54.467Z"
   },
   {
    "duration": 2,
    "start_time": "2024-04-30T19:55:54.609Z"
   },
   {
    "duration": 142,
    "start_time": "2024-04-30T19:55:54.613Z"
   },
   {
    "duration": 58,
    "start_time": "2024-04-30T19:55:54.757Z"
   },
   {
    "duration": 15,
    "start_time": "2024-04-30T19:55:54.819Z"
   },
   {
    "duration": 39,
    "start_time": "2024-04-30T19:55:54.835Z"
   },
   {
    "duration": 134,
    "start_time": "2024-04-30T19:55:54.876Z"
   },
   {
    "duration": 134,
    "start_time": "2024-04-30T19:55:55.011Z"
   },
   {
    "duration": 72,
    "start_time": "2024-04-30T19:55:55.146Z"
   },
   {
    "duration": 14,
    "start_time": "2024-04-30T19:55:55.220Z"
   },
   {
    "duration": 40,
    "start_time": "2024-04-30T19:55:55.235Z"
   },
   {
    "duration": 153,
    "start_time": "2024-04-30T19:55:55.276Z"
   },
   {
    "duration": 139,
    "start_time": "2024-04-30T19:55:55.430Z"
   },
   {
    "duration": 58,
    "start_time": "2024-04-30T19:55:55.571Z"
   },
   {
    "duration": 16,
    "start_time": "2024-04-30T19:55:55.630Z"
   },
   {
    "duration": 23,
    "start_time": "2024-04-30T19:55:55.665Z"
   },
   {
    "duration": 21,
    "start_time": "2024-04-30T19:55:55.690Z"
   },
   {
    "duration": 7,
    "start_time": "2024-04-30T19:55:55.712Z"
   },
   {
    "duration": 5,
    "start_time": "2024-04-30T19:55:55.720Z"
   },
   {
    "duration": 5,
    "start_time": "2024-04-30T19:55:55.726Z"
   },
   {
    "duration": 5,
    "start_time": "2024-04-30T19:55:55.732Z"
   },
   {
    "duration": 466,
    "start_time": "2024-04-30T19:55:55.738Z"
   },
   {
    "duration": 353,
    "start_time": "2024-04-30T19:55:56.206Z"
   },
   {
    "duration": 241,
    "start_time": "2024-04-30T19:55:56.565Z"
   },
   {
    "duration": 250,
    "start_time": "2024-04-30T19:55:56.808Z"
   },
   {
    "duration": 237,
    "start_time": "2024-04-30T19:55:57.060Z"
   },
   {
    "duration": 413,
    "start_time": "2024-04-30T19:55:57.298Z"
   },
   {
    "duration": 353,
    "start_time": "2024-04-30T19:55:57.712Z"
   },
   {
    "duration": 245,
    "start_time": "2024-04-30T19:55:58.066Z"
   },
   {
    "duration": 155,
    "start_time": "2024-04-30T19:55:58.313Z"
   },
   {
    "duration": 181,
    "start_time": "2024-04-30T19:55:58.469Z"
   },
   {
    "duration": 468,
    "start_time": "2024-04-30T19:55:58.651Z"
   },
   {
    "duration": 202,
    "start_time": "2024-04-30T19:55:59.121Z"
   },
   {
    "duration": 8,
    "start_time": "2024-04-30T19:55:59.324Z"
   },
   {
    "duration": 456,
    "start_time": "2024-04-30T19:55:59.333Z"
   },
   {
    "duration": 352,
    "start_time": "2024-04-30T19:55:59.791Z"
   },
   {
    "duration": 301,
    "start_time": "2024-04-30T19:56:00.145Z"
   },
   {
    "duration": 335,
    "start_time": "2024-04-30T19:56:00.448Z"
   },
   {
    "duration": 3,
    "start_time": "2024-04-30T19:56:00.785Z"
   },
   {
    "duration": 26,
    "start_time": "2024-04-30T19:56:00.790Z"
   },
   {
    "duration": 30,
    "start_time": "2024-04-30T19:56:00.818Z"
   },
   {
    "duration": 1021,
    "start_time": "2024-04-30T19:56:00.850Z"
   },
   {
    "duration": 94,
    "start_time": "2024-04-30T19:56:01.873Z"
   },
   {
    "duration": 96,
    "start_time": "2024-04-30T19:56:01.970Z"
   },
   {
    "duration": 9,
    "start_time": "2024-04-30T19:56:02.068Z"
   },
   {
    "duration": 287,
    "start_time": "2024-04-30T19:56:02.078Z"
   },
   {
    "duration": 7,
    "start_time": "2024-04-30T19:56:02.367Z"
   },
   {
    "duration": 25,
    "start_time": "2024-04-30T19:56:02.376Z"
   },
   {
    "duration": 13,
    "start_time": "2024-04-30T19:56:02.403Z"
   },
   {
    "duration": 954,
    "start_time": "2024-04-30T19:56:02.417Z"
   },
   {
    "duration": 96,
    "start_time": "2024-04-30T19:56:03.372Z"
   },
   {
    "duration": 91,
    "start_time": "2024-04-30T19:56:03.475Z"
   },
   {
    "duration": 9,
    "start_time": "2024-04-30T19:56:03.568Z"
   },
   {
    "duration": 332,
    "start_time": "2024-04-30T19:56:03.578Z"
   },
   {
    "duration": 6,
    "start_time": "2024-04-30T19:56:03.911Z"
   },
   {
    "duration": 22,
    "start_time": "2024-04-30T19:56:03.918Z"
   },
   {
    "duration": 5,
    "start_time": "2024-04-30T19:56:03.941Z"
   },
   {
    "duration": 23,
    "start_time": "2024-04-30T19:56:03.947Z"
   },
   {
    "duration": 794,
    "start_time": "2024-04-30T19:56:03.976Z"
   },
   {
    "duration": 95,
    "start_time": "2024-04-30T19:56:04.772Z"
   },
   {
    "duration": 4,
    "start_time": "2024-04-30T19:56:04.869Z"
   },
   {
    "duration": 7,
    "start_time": "2024-04-30T19:56:04.966Z"
   },
   {
    "duration": 294,
    "start_time": "2024-04-30T19:56:04.975Z"
   },
   {
    "duration": 6,
    "start_time": "2024-04-30T19:56:05.270Z"
   },
   {
    "duration": 16,
    "start_time": "2024-04-30T19:56:05.277Z"
   },
   {
    "duration": 13,
    "start_time": "2024-04-30T19:56:05.294Z"
   },
   {
    "duration": 9,
    "start_time": "2024-04-30T19:56:05.308Z"
   },
   {
    "duration": 8,
    "start_time": "2024-04-30T19:56:05.318Z"
   },
   {
    "duration": 6,
    "start_time": "2024-04-30T19:56:05.328Z"
   },
   {
    "duration": 3,
    "start_time": "2024-04-30T19:56:05.335Z"
   },
   {
    "duration": 35,
    "start_time": "2024-04-30T19:56:05.340Z"
   },
   {
    "duration": 3,
    "start_time": "2024-04-30T19:56:05.377Z"
   },
   {
    "duration": 6,
    "start_time": "2024-04-30T19:56:05.382Z"
   },
   {
    "duration": 5,
    "start_time": "2024-04-30T19:56:05.389Z"
   },
   {
    "duration": 10,
    "start_time": "2024-04-30T19:56:05.396Z"
   },
   {
    "duration": 19,
    "start_time": "2024-04-30T19:56:05.408Z"
   },
   {
    "duration": 4,
    "start_time": "2024-04-30T19:56:05.428Z"
   },
   {
    "duration": 1237,
    "start_time": "2024-04-30T19:56:05.433Z"
   },
   {
    "duration": 3,
    "start_time": "2024-04-30T19:56:06.672Z"
   },
   {
    "duration": 179,
    "start_time": "2024-04-30T19:56:06.677Z"
   },
   {
    "duration": 1311,
    "start_time": "2024-04-30T19:56:06.857Z"
   },
   {
    "duration": 5,
    "start_time": "2024-04-30T19:56:08.169Z"
   },
   {
    "duration": 170,
    "start_time": "2024-04-30T19:56:08.175Z"
   },
   {
    "duration": 1277,
    "start_time": "2024-04-30T19:56:08.346Z"
   },
   {
    "duration": 4,
    "start_time": "2024-04-30T19:56:09.626Z"
   },
   {
    "duration": 178,
    "start_time": "2024-04-30T19:56:09.632Z"
   },
   {
    "duration": 3,
    "start_time": "2024-04-30T19:56:09.811Z"
   },
   {
    "duration": 6,
    "start_time": "2024-04-30T19:56:09.816Z"
   },
   {
    "duration": 5,
    "start_time": "2024-04-30T19:56:09.824Z"
   },
   {
    "duration": 4,
    "start_time": "2024-04-30T19:56:09.831Z"
   },
   {
    "duration": 3190,
    "start_time": "2024-04-30T19:56:09.837Z"
   },
   {
    "duration": 4,
    "start_time": "2024-04-30T19:56:13.028Z"
   },
   {
    "duration": 9,
    "start_time": "2024-04-30T19:56:13.033Z"
   },
   {
    "duration": 23,
    "start_time": "2024-04-30T19:56:13.043Z"
   },
   {
    "duration": 9,
    "start_time": "2024-04-30T19:56:13.067Z"
   }
  ],
  "kernelspec": {
   "display_name": "Python 3 (ipykernel)",
   "language": "python",
   "name": "python3"
  },
  "language_info": {
   "codemirror_mode": {
    "name": "ipython",
    "version": 3
   },
   "file_extension": ".py",
   "mimetype": "text/x-python",
   "name": "python",
   "nbconvert_exporter": "python",
   "pygments_lexer": "ipython3",
   "version": "3.11.5"
  },
  "toc": {
   "base_numbering": 1,
   "nav_menu": {},
   "number_sections": true,
   "sideBar": true,
   "skip_h1_title": true,
   "title_cell": "Table of Contents",
   "title_sidebar": "Contents",
   "toc_cell": false,
   "toc_position": {},
   "toc_section_display": true,
   "toc_window_display": false
  }
 },
 "nbformat": 4,
 "nbformat_minor": 2
}
